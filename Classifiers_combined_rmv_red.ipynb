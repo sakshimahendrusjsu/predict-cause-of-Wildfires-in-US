{
 "cells": [
  {
   "cell_type": "markdown",
   "id": "806fe754",
   "metadata": {},
   "source": [
    "# Predicting Wildfire Causes"
   ]
  },
  {
   "cell_type": "code",
   "execution_count": 66,
   "id": "91a77338",
   "metadata": {},
   "outputs": [],
   "source": [
    "import pandas as pd\n",
    "import numpy as np\n",
    "import sqlite3\n",
    "import matplotlib.pyplot as plt\n",
    "\n",
    "from sklearn.preprocessing import scale\n",
    "from sklearn import tree, preprocessing\n",
    "from sklearn.model_selection import train_test_split\n",
    "\n",
    "from sklearn.neighbors import KNeighborsClassifier\n",
    "from sklearn import tree\n",
    "from sklearn.ensemble import RandomForestClassifier, AdaBoostClassifier\n",
    "from sklearn.linear_model import LogisticRegression\n",
    "from sklearn.tree import DecisionTreeRegressor as dtr\n",
    "\n",
    "# Import required libraries for performance metrics\n",
    "from sklearn.metrics import f1_score\n",
    "from sklearn.metrics import balanced_accuracy_score\n",
    "from sklearn.metrics import make_scorer\n",
    "from sklearn.metrics import accuracy_score\n",
    "from sklearn.metrics import precision_score\n",
    "from sklearn.metrics import recall_score\n",
    "from sklearn.metrics import f1_score\n",
    "from sklearn.metrics import log_loss,confusion_matrix, plot_confusion_matrix\n",
    "\n",
    "from sklearn.model_selection import cross_validate\n",
    "\n",
    "import seaborn as sns\n",
    "from sklearn import model_selection\n",
    "from sklearn.model_selection import KFold"
   ]
  },
  {
   "cell_type": "markdown",
   "id": "35cb35bf",
   "metadata": {},
   "source": [
    "### Data Loading"
   ]
  },
  {
   "cell_type": "code",
   "execution_count": 6,
   "id": "92c111c1",
   "metadata": {},
   "outputs": [],
   "source": [
    "conn = sqlite3.connect('RDS-2013-0009.4_SQLITE/Data/FPA_FOD_20170508.sqlite')\n",
    "#Please download \"RDS-2013-0009.4_SQLITE.zip\" from link: https://www.fs.usda.gov/rds/archive/Catalog/RDS-2013-0009.4/"
   ]
  },
  {
   "cell_type": "code",
   "execution_count": 7,
   "id": "358b7df8",
   "metadata": {},
   "outputs": [],
   "source": [
    "# df = pd.read_sql_query(\"SELECT * FROM 'Fires'\", conn)\n",
    "# print(df.head())\n"
   ]
  },
  {
   "cell_type": "code",
   "execution_count": 8,
   "id": "14196662",
   "metadata": {},
   "outputs": [],
   "source": [
    "# print(df.columns)"
   ]
  },
  {
   "cell_type": "code",
   "execution_count": 9,
   "id": "b1d613b0",
   "metadata": {},
   "outputs": [
    {
     "name": "stdout",
     "output_type": "stream",
     "text": [
      "   FIRE_YEAR STAT_CAUSE_DESCR  STAT_CAUSE_CODE   LATITUDE   LONGITUDE STATE  \\\n",
      "0       2005    Miscellaneous              9.0  40.036944 -121.005833    CA   \n",
      "1       2004        Lightning              1.0  38.933056 -120.404444    CA   \n",
      "2       2004   Debris Burning              5.0  38.984167 -120.735556    CA   \n",
      "3       2004        Lightning              1.0  38.559167 -119.913333    CA   \n",
      "4       2004        Lightning              1.0  38.559167 -119.933056    CA   \n",
      "\n",
      "   DISCOVERY_DATE  DISCOVERY_DOY  FIRE_SIZE DISCOVERY_TIME FIPS_CODE  \\\n",
      "0       2453403.5             33       0.10           1300       063   \n",
      "1       2453137.5            133       0.25           0845       061   \n",
      "2       2453156.5            152       0.10           1921       017   \n",
      "3       2453184.5            180       0.10           1600       003   \n",
      "4       2453184.5            180       0.10           1600       003   \n",
      "\n",
      "   CONT_DATE       OWNER_DESCR  \n",
      "0  2453403.5              USFS  \n",
      "1  2453137.5              USFS  \n",
      "2  2453156.5  STATE OR PRIVATE  \n",
      "3  2453189.5              USFS  \n",
      "4  2453189.5              USFS  \n"
     ]
    }
   ],
   "source": [
    "df = pd.read_sql_query(\"SELECT FIRE_YEAR,STAT_CAUSE_DESCR, STAT_CAUSE_CODE, LATITUDE,LONGITUDE,STATE,DISCOVERY_DATE,DISCOVERY_DOY,FIRE_SIZE,DISCOVERY_TIME, FIPS_CODE, CONT_DATE, OWNER_DESCR FROM 'Fires'\", conn)\n",
    "print(df.head())"
   ]
  },
  {
   "cell_type": "markdown",
   "id": "a4a8adfd",
   "metadata": {},
   "source": [
    "### Data Preprocessing and EDA"
   ]
  },
  {
   "cell_type": "code",
   "execution_count": 10,
   "id": "467774a0",
   "metadata": {},
   "outputs": [
    {
     "name": "stdout",
     "output_type": "stream",
     "text": [
      "   FIRE_YEAR STAT_CAUSE_DESCR  STAT_CAUSE_CODE   LATITUDE   LONGITUDE STATE  \\\n",
      "0       2005    Miscellaneous              9.0  40.036944 -121.005833    CA   \n",
      "1       2004        Lightning              1.0  38.933056 -120.404444    CA   \n",
      "2       2004   Debris Burning              5.0  38.984167 -120.735556    CA   \n",
      "3       2004        Lightning              1.0  38.559167 -119.913333    CA   \n",
      "4       2004        Lightning              1.0  38.559167 -119.933056    CA   \n",
      "\n",
      "   DISCOVERY_DATE  DISCOVERY_DOY  FIRE_SIZE DISCOVERY_TIME FIPS_CODE  \\\n",
      "0       2453403.5             33       0.10           1300       063   \n",
      "1       2453137.5            133       0.25           0845       061   \n",
      "2       2453156.5            152       0.10           1921       017   \n",
      "3       2453184.5            180       0.10           1600       003   \n",
      "4       2453184.5            180       0.10           1600       003   \n",
      "\n",
      "   CONT_DATE       OWNER_DESCR       DATE  MONTH DAY_OF_WEEK  CONT_TIME  \n",
      "0  2453403.5              USFS 2005-02-02      2   Wednesday        0.0  \n",
      "1  2453137.5              USFS 2004-05-12      5   Wednesday        0.0  \n",
      "2  2453156.5  STATE OR PRIVATE 2004-05-31      5      Monday        0.0  \n",
      "3  2453189.5              USFS 2004-06-28      6      Monday        5.0  \n",
      "4  2453189.5              USFS 2004-06-28      6      Monday        5.0  \n"
     ]
    }
   ],
   "source": [
    "#Alter / Standardize few column\n",
    "df['DATE'] = pd.to_datetime(df['DISCOVERY_DATE'] - pd.Timestamp(0).to_julian_date(), unit='D')\n",
    "df['MONTH'] = pd.DatetimeIndex(df['DATE']).month\n",
    "df['DAY_OF_WEEK'] = df['DATE'].dt.day_name()\n",
    "df['DISCOVERY_TIME'].fillna(pd.to_numeric(df['DISCOVERY_TIME'].dropna()).mean(), inplace=True)\n",
    "df['CONT_TIME'] = df['CONT_DATE'] - df['DISCOVERY_DATE']\n",
    "print(df.head())\n"
   ]
  },
  {
   "cell_type": "code",
   "execution_count": 12,
   "id": "f0b60059",
   "metadata": {},
   "outputs": [],
   "source": [
    "#Dropping null values. Also, Combining state fips code to the original fips code.\n",
    "df = df.dropna(subset=['FIPS_CODE'], axis=0)\n",
    "df = df.dropna()\n",
    "\n",
    "\n",
    "FIPS = {\n",
    "    'NM': '35',\n",
    "    'OR': '41',\n",
    "    'WY': '56',\n",
    "    'CA': '06',\n",
    "    'CO': '08',\n",
    "    'ID': '16',\n",
    "    'MT': '30',\n",
    "    'NV': '32',\n",
    "    'AZ': '04',\n",
    "    'UT': '49',\n",
    "    'WA': '53',\n",
    "}\n",
    "\n",
    "df['STATEWISE_FIPS'] = df['STATE'].map(FIPS)\n",
    "df['FIPS'] = df[['STATEWISE_FIPS', 'FIPS_CODE']].apply(''.join, axis=1)"
   ]
  },
  {
   "cell_type": "code",
   "execution_count": 13,
   "id": "bb185f42",
   "metadata": {},
   "outputs": [],
   "source": [
    "#Drop not needed columns\n",
    "df.drop(columns=['FIPS_CODE', 'STATEWISE_FIPS'], inplace=True)\n",
    "df = df.drop('DISCOVERY_DATE',axis=1)\n",
    "df = df.drop('CONT_DATE',axis=1)"
   ]
  },
  {
   "cell_type": "code",
   "execution_count": 14,
   "id": "3828c22d",
   "metadata": {},
   "outputs": [
    {
     "name": "stdout",
     "output_type": "stream",
     "text": [
      "   FIRE_YEAR STAT_CAUSE_DESCR  STAT_CAUSE_CODE   LATITUDE   LONGITUDE STATE  \\\n",
      "0       2005    Miscellaneous              9.0  40.036944 -121.005833    CA   \n",
      "1       2004        Lightning              1.0  38.933056 -120.404444    CA   \n",
      "2       2004   Debris Burning              5.0  38.984167 -120.735556    CA   \n",
      "3       2004        Lightning              1.0  38.559167 -119.913333    CA   \n",
      "4       2004        Lightning              1.0  38.559167 -119.933056    CA   \n",
      "\n",
      "   DISCOVERY_DOY  FIRE_SIZE DISCOVERY_TIME       OWNER_DESCR       DATE  \\\n",
      "0             33       0.10           1300              USFS 2005-02-02   \n",
      "1            133       0.25           0845              USFS 2004-05-12   \n",
      "2            152       0.10           1921  STATE OR PRIVATE 2004-05-31   \n",
      "3            180       0.10           1600              USFS 2004-06-28   \n",
      "4            180       0.10           1600              USFS 2004-06-28   \n",
      "\n",
      "   MONTH DAY_OF_WEEK  CONT_TIME   FIPS  \n",
      "0      2   Wednesday        0.0  06063  \n",
      "1      5   Wednesday        0.0  06061  \n",
      "2      5      Monday        0.0  06017  \n",
      "3      6      Monday        5.0  06003  \n",
      "4      6      Monday        5.0  06003  \n"
     ]
    }
   ],
   "source": [
    "print(df.head())"
   ]
  },
  {
   "cell_type": "code",
   "execution_count": 15,
   "id": "7cf55352",
   "metadata": {},
   "outputs": [
    {
     "data": {
      "image/png": "[encoded data removed]",
      "text/plain": [
       "<Figure size 432x288 with 1 Axes>"
      ]
     },
     "metadata": {
      "needs_background": "light"
     },
     "output_type": "display_data"
    }
   ],
   "source": [
    "df['STAT_CAUSE_CODE'].value_counts().plot(kind='barh',color='coral')\n",
    "\n",
    "plt.show()"
   ]
  },
  {
   "cell_type": "code",
   "execution_count": 16,
   "id": "59b2140d",
   "metadata": {
    "scrolled": true
   },
   "outputs": [
    {
     "data": {
      "image/png": "[encoded data removed]",
      "text/plain": [
       "<Figure size 432x288 with 1 Axes>"
      ]
     },
     "metadata": {
      "needs_background": "light"
     },
     "output_type": "display_data"
    }
   ],
   "source": [
    "df['STAT_CAUSE_DESCR'].value_counts().plot(kind='barh',color='coral')\n",
    "plt.show()"
   ]
  },
  {
   "cell_type": "code",
   "execution_count": 17,
   "id": "d18b1d5f",
   "metadata": {},
   "outputs": [
    {
     "name": "stdout",
     "output_type": "stream",
     "text": [
      "   FIRE_YEAR STAT_CAUSE_DESCR  STAT_CAUSE_CODE   LATITUDE   LONGITUDE STATE  \\\n",
      "1       2004        Lightning                1  38.933056 -120.404444    CA   \n",
      "2       2004   Debris Burning                5  38.984167 -120.735556    CA   \n",
      "3       2004        Lightning                1  38.559167 -119.913333    CA   \n",
      "4       2004        Lightning                1  38.559167 -119.933056    CA   \n",
      "5       2004        Lightning                1  38.635278 -120.103611    CA   \n",
      "\n",
      "   DISCOVERY_DOY  FIRE_SIZE DISCOVERY_TIME       OWNER_DESCR       DATE  \\\n",
      "1            133       0.25           0845              USFS 2004-05-12   \n",
      "2            152       0.10           1921  STATE OR PRIVATE 2004-05-31   \n",
      "3            180       0.10           1600              USFS 2004-06-28   \n",
      "4            180       0.10           1600              USFS 2004-06-28   \n",
      "5            182       0.10           1800              USFS 2004-06-30   \n",
      "\n",
      "   MONTH DAY_OF_WEEK  CONT_TIME   FIPS  \n",
      "1      5   Wednesday        0.0  06061  \n",
      "2      5      Monday        0.0  06017  \n",
      "3      6      Monday        5.0  06003  \n",
      "4      6      Monday        5.0  06003  \n",
      "5      6   Wednesday        1.0  06005  \n"
     ]
    }
   ],
   "source": [
    "#Drop rows that have STAT_CAUSE_CODE ==9 || STAT_CUSE_DESCR == 13 because it represents Missing/Undefined, Miscellaneous.\n",
    "df['STAT_CAUSE_CODE'] = df['STAT_CAUSE_CODE'].astype(int)\n",
    "~((df['STAT_CAUSE_CODE'] == 13) | (df['STAT_CAUSE_CODE'] == 9))\n",
    "df = df[~((df['STAT_CAUSE_CODE'] == 13) | (df['STAT_CAUSE_CODE'] == 9))]\n",
    "print(df.head())\n",
    "\n",
    "\n",
    "\n"
   ]
  },
  {
   "cell_type": "code",
   "execution_count": 18,
   "id": "8e4da5ce",
   "metadata": {},
   "outputs": [
    {
     "data": {
      "image/png": "[encoded data removed]",
      "text/plain": [
       "<Figure size 432x288 with 1 Axes>"
      ]
     },
     "metadata": {
      "needs_background": "light"
     },
     "output_type": "display_data"
    }
   ],
   "source": [
    "df['STAT_CAUSE_DESCR'].value_counts().plot(kind='barh',color='coral')\n",
    "plt.show()"
   ]
  },
  {
   "cell_type": "markdown",
   "id": "4ee6007c",
   "metadata": {},
   "source": [
    "### Model Prep"
   ]
  },
  {
   "cell_type": "code",
   "execution_count": 19,
   "id": "027ea3cb",
   "metadata": {
    "scrolled": false
   },
   "outputs": [
    {
     "name": "stdout",
     "output_type": "stream",
     "text": [
      "   FIRE_YEAR STAT_CAUSE_DESCR  STAT_CAUSE_CODE   LATITUDE   LONGITUDE  STATE  \\\n",
      "1       2004        Lightning                1  38.933056 -120.404444      1   \n",
      "2       2004   Debris Burning                5  38.984167 -120.735556      1   \n",
      "3       2004        Lightning                1  38.559167 -119.913333      1   \n",
      "4       2004        Lightning                1  38.559167 -119.933056      1   \n",
      "5       2004        Lightning                1  38.635278 -120.103611      1   \n",
      "\n",
      "   DISCOVERY_DOY  FIRE_SIZE DISCOVERY_TIME  OWNER_DESCR       DATE  MONTH  \\\n",
      "1            133       0.25           0845           14 2004-05-12      5   \n",
      "2            152       0.10           1921           11 2004-05-31      5   \n",
      "3            180       0.10           1600           14 2004-06-28      6   \n",
      "4            180       0.10           1600           14 2004-06-28      6   \n",
      "5            182       0.10           1800           14 2004-06-30      6   \n",
      "\n",
      "   DAY_OF_WEEK  CONT_TIME  FIPS  \n",
      "1            6        0.0    44  \n",
      "2            1        0.0    23  \n",
      "3            1        5.0    16  \n",
      "4            1        5.0    16  \n",
      "5            6        1.0    17  \n"
     ]
    }
   ],
   "source": [
    "#Scaling the values \n",
    "le = preprocessing.LabelEncoder()\n",
    "df['STATE'] = le.fit_transform(df['STATE'])\n",
    "\n",
    "df['DAY_OF_WEEK'] = le.fit_transform(df['DAY_OF_WEEK'])\n",
    "df['FIPS'] = le.fit_transform(df['FIPS'])\n",
    "df['OWNER_DESCR'] = le.fit_transform(df['OWNER_DESCR'])\n",
    "df = df.dropna()\n",
    "print(df.head())"
   ]
  },
  {
   "cell_type": "code",
   "execution_count": 20,
   "id": "f37eec8f",
   "metadata": {
    "scrolled": true
   },
   "outputs": [],
   "source": [
    "#df = df.drop('STAT_CAUSE_DESCR',axis=1)\n"
   ]
  },
  {
   "cell_type": "code",
   "execution_count": 21,
   "id": "62f667cc",
   "metadata": {},
   "outputs": [],
   "source": [
    "df = df.drop('DATE',axis=1)\n"
   ]
  },
  {
   "cell_type": "code",
   "execution_count": 22,
   "id": "0b284075",
   "metadata": {},
   "outputs": [
    {
     "name": "stdout",
     "output_type": "stream",
     "text": [
      "   FIRE_YEAR   LATITUDE   LONGITUDE  STATE  DISCOVERY_DOY  FIRE_SIZE  \\\n",
      "1       2004  38.933056 -120.404444      1            133       0.25   \n",
      "2       2004  38.984167 -120.735556      1            152       0.10   \n",
      "3       2004  38.559167 -119.913333      1            180       0.10   \n",
      "4       2004  38.559167 -119.933056      1            180       0.10   \n",
      "5       2004  38.635278 -120.103611      1            182       0.10   \n",
      "\n",
      "  DISCOVERY_TIME  OWNER_DESCR  MONTH  DAY_OF_WEEK  CONT_TIME  FIPS  LABEL  \n",
      "1           0845           14      5            6        0.0    44      1  \n",
      "2           1921           11      5            1        0.0    23      2  \n",
      "3           1600           14      6            1        5.0    16      1  \n",
      "4           1600           14      6            1        5.0    16      1  \n",
      "5           1800           14      6            6        1.0    17      1  \n"
     ]
    }
   ],
   "source": [
    "df = df.drop('STAT_CAUSE_CODE',axis=1)\n",
    "df_label = df\n",
    "#Putting all the causes into 4 different categories, since there are so many of them. \n",
    "def set_label(cat):\n",
    "    cause = 0\n",
    "    natural = ['Lightning']\n",
    "    human = ['Structure','Fireworks','Powerline','Railroad','Smoking','Children','Campfire','Equipment Use','Debris Burning','Arson']\n",
    "    other = ['Missing/Undefined','Miscellaneous']\n",
    "    if cat in natural:\n",
    "        cause = 1\n",
    "    elif cat in human:\n",
    "        cause = 2\n",
    "    else:\n",
    "        cause = 3\n",
    "    return cause\n",
    "\n",
    "df_label['LABEL'] = df_label['STAT_CAUSE_DESCR'].apply(lambda x: set_label(x)) # I created a copy of the original df earlier in the kernel\n",
    "df_drop_month_3 = df_label.drop('STAT_CAUSE_DESCR',axis=1)\n",
    "print(df_drop_month_3.head())"
   ]
  },
  {
   "cell_type": "code",
   "execution_count": 23,
   "id": "prepared-victoria",
   "metadata": {},
   "outputs": [
    {
     "data": {
      "image/png": "[encoded data removed]",
      "text/plain": [
       "<Figure size 720x720 with 1 Axes>"
      ]
     },
     "metadata": {
      "needs_background": "light"
     },
     "output_type": "display_data"
    }
   ],
   "source": [
    "def plot_corr(df,size=10):\n",
    "    corr = df.corr()\n",
    "    fig, ax = plt.subplots(figsize=(size, size))\n",
    "    ax.matshow(corr,cmap=plt.cm.Oranges)\n",
    "    plt.xticks(range(len(corr.columns)), corr.columns)\n",
    "    plt.yticks(range(len(corr.columns)), corr.columns)\n",
    "    for tick in ax.get_xticklabels():\n",
    "        tick.set_rotation(45)    \n",
    "    plt.show()\n",
    "    \n",
    "\n",
    "plot_corr(df_drop_month_3)"
   ]
  },
  {
   "cell_type": "code",
   "execution_count": 24,
   "id": "alpha-latin",
   "metadata": {},
   "outputs": [],
   "source": [
    "df_drop_month_3 = df_drop_month_3.drop('STATE',axis=1)"
   ]
  },
  {
   "cell_type": "code",
   "execution_count": 25,
   "id": "lyric-montreal",
   "metadata": {},
   "outputs": [],
   "source": [
    "df_drop_month_3 = df_drop_month_3.drop('OWNER_DESCR',axis=1)"
   ]
  },
  {
   "cell_type": "code",
   "execution_count": 26,
   "id": "gothic-domestic",
   "metadata": {},
   "outputs": [],
   "source": [
    "df_drop_month_3 = df_drop_month_3.drop('MONTH',axis=1)"
   ]
  },
  {
   "cell_type": "code",
   "execution_count": 27,
   "id": "1e3bf7b4",
   "metadata": {},
   "outputs": [],
   "source": [
    "y_label = df_drop_month_3['LABEL'].values\n",
    "X_label = df_drop_month_3.drop(['LABEL'], axis=1).values\n",
    "Xscaled = scale(X_label)\n",
    "X_train_3, X_test_3, y_train_3, y_test_3 = train_test_split(Xscaled,y_label,test_size=0.20, random_state=0)"
   ]
  },
  {
   "cell_type": "markdown",
   "id": "e46c331b",
   "metadata": {},
   "source": [
    "### KNN Classifier"
   ]
  },
  {
   "cell_type": "code",
   "execution_count": 35,
   "id": "2a809a8f",
   "metadata": {},
   "outputs": [
    {
     "name": "stdout",
     "output_type": "stream",
     "text": [
      "0.8685726701280408\n",
      "0.8338577721837633\n"
     ]
    }
   ],
   "source": [
    "KNC = KNeighborsClassifier(n_neighbors = 7)\n",
    "KNC.fit(X_train_3, y_train_3)\n",
    "print(KNC.score(X_train_3, y_train_3))\n",
    "print(KNC.score(X_test_3, y_test_3))"
   ]
  },
  {
   "cell_type": "markdown",
   "id": "cfd270d7",
   "metadata": {},
   "source": [
    "### Decision Tree Classifier"
   ]
  },
  {
   "cell_type": "code",
   "execution_count": 28,
   "id": "d881bee3",
   "metadata": {},
   "outputs": [],
   "source": [
    "model = tree.DecisionTreeClassifier(criterion = 'gini', \n",
    "                            max_depth = 200, \n",
    "                            min_samples_split = 100, \n",
    "                            min_samples_leaf = 10)\n",
    "dt = model.fit(X_train_3, y_train_3)"
   ]
  },
  {
   "cell_type": "code",
   "execution_count": 29,
   "id": "23788077",
   "metadata": {},
   "outputs": [
    {
     "name": "stdout",
     "output_type": "stream",
     "text": [
      "Score on training set: 0.8690596600061435\n",
      "Score on testing set: 0.847762893703737\n"
     ]
    }
   ],
   "source": [
    "# Print scores\n",
    "print(f'Score on training set: {dt.score(X_train_3, y_train_3)}')\n",
    "print(f'Score on testing set: {dt.score(X_test_3, y_test_3)}')"
   ]
  },
  {
   "cell_type": "code",
   "execution_count": 34,
   "id": "engaging-williams",
   "metadata": {},
   "outputs": [
    {
     "data": {
      "image/png": "[encoded data removed]",
      "text/plain": [
       "<Figure size 864x864 with 2 Axes>"
      ]
     },
     "metadata": {
      "needs_background": "light"
     },
     "output_type": "display_data"
    }
   ],
   "source": [
    "def plot_confusion_matrix(y_test, X_test, model):\n",
    "    preds = model.predict(X_test)\n",
    "    plt.figure(figsize = (12,12))\n",
    "    plt.title('Confusion Matrix of all stated causes', fontdict = {'fontsize':16})\n",
    "\n",
    "    sns.heatmap(confusion_matrix(y_test, \n",
    "                                 preds, \n",
    "                                 labels = [1,  2], \n",
    "                                 normalize = 'true'), annot = True)\n",
    "    plt.xlabel('Prediction Class')\n",
    "    plt.ylabel('True Class')\n",
    "    plt.xticks(ticks = [i - 0.5 for i in range(1,3)], labels = [1,  2]);\n",
    "    plt.yticks(ticks = [i - 0.5 for i in range(1,3)], labels = [1,  2]);\n",
    "\n",
    "plot_confusion_matrix(y_test_3, X_test_3, dt)"
   ]
  },
  {
   "cell_type": "markdown",
   "id": "c281bc5a",
   "metadata": {},
   "source": [
    "### RandomForest Classifier"
   ]
  },
  {
   "cell_type": "code",
   "execution_count": 36,
   "id": "105c9bed",
   "metadata": {},
   "outputs": [
    {
     "name": "stdout",
     "output_type": "stream",
     "text": [
      "Score on training set: 0.8659429247862863\n",
      "Score on testing set: 0.8554047169528605\n"
     ]
    }
   ],
   "source": [
    "\n",
    "rf = RandomForestClassifier(n_estimators = 50, \n",
    "                            max_depth = 100, \n",
    "                            min_samples_split = 100, \n",
    "                            min_samples_leaf =40)\n",
    "\n",
    "rf_dt = rf.fit(X_train_3, y_train_3)\n",
    "\n",
    "print(f'Score on training set: {rf_dt.score(X_train_3, y_train_3)}')\n",
    "print(f'Score on testing set: {rf_dt.score(X_test_3, y_test_3)}')"
   ]
  },
  {
   "cell_type": "markdown",
   "id": "b4c6fe48",
   "metadata": {},
   "source": [
    "### Adaboost Classifier"
   ]
  },
  {
   "cell_type": "code",
   "execution_count": 37,
   "id": "ec76185b",
   "metadata": {},
   "outputs": [
    {
     "data": {
      "text/plain": [
       "0.8250507593296023"
      ]
     },
     "execution_count": 37,
     "metadata": {},
     "output_type": "execute_result"
    }
   ],
   "source": [
    "ada = AdaBoostClassifier(base_estimator = tree.DecisionTreeClassifier(max_depth = 2), n_estimators = 30)\n",
    "ada.fit(X_train_3, y_train_3)\n",
    "ada.score(X_train_3, y_train_3)"
   ]
  },
  {
   "cell_type": "code",
   "execution_count": 38,
   "id": "31d633c4",
   "metadata": {},
   "outputs": [
    {
     "name": "stdout",
     "output_type": "stream",
     "text": [
      "Score on training set: 0.8250507593296023\n",
      "Score on testing set: 0.8245677125475741\n"
     ]
    }
   ],
   "source": [
    "print(f'Score on training set: {ada.score(X_train_3, y_train_3)}')\n",
    "print(f'Score on testing set: {ada.score(X_test_3, y_test_3)}')"
   ]
  },
  {
   "cell_type": "markdown",
   "id": "1d109000",
   "metadata": {},
   "source": [
    "### Logistic Regression"
   ]
  },
  {
   "cell_type": "code",
   "execution_count": 39,
   "id": "19251c35",
   "metadata": {},
   "outputs": [
    {
     "name": "stdout",
     "output_type": "stream",
     "text": [
      "Score on training set: 0.6848501194998239\n",
      "Score on testing set: 0.6849471065959424\n"
     ]
    }
   ],
   "source": [
    "#  logistic regression model\n",
    "lr = LogisticRegression(solver='lbfgs', \n",
    "                           penalty='l2', \n",
    "                           multi_class='multinomial', \n",
    "                           C=.9, \n",
    "                           max_iter=500, \n",
    "                           n_jobs=3)\n",
    "lr_dt = lr.fit(X_train_3, y_train_3)\n",
    "\n",
    "# Print scores\n",
    "print(f'Score on training set: {lr_dt.score(X_train_3, y_train_3)}')\n",
    "print(f'Score on testing set: {lr_dt.score(X_test_3, y_test_3)}')\n"
   ]
  },
  {
   "cell_type": "markdown",
   "id": "fa9753fd",
   "metadata": {},
   "source": [
    "### Decision Tree Regression"
   ]
  },
  {
   "cell_type": "code",
   "execution_count": 40,
   "id": "97b48d4f",
   "metadata": {},
   "outputs": [
    {
     "name": "stdout",
     "output_type": "stream",
     "text": [
      "Score on training set: 1.0\n",
      "Score on testing set: 0.2848994446288402\n"
     ]
    }
   ],
   "source": [
    "reg = dtr(random_state = 42)\n",
    "reg_dt = reg.fit(X_train_3, y_train_3)\n",
    "\n",
    "\n",
    "# Print scores\n",
    "print(f'Score on training set: {reg_dt.score(X_train_3, y_train_3)}')\n",
    "print(f'Score on testing set: {reg_dt.score(X_test_3, y_test_3)}')\n",
    "\n",
    "\n",
    "# y_pred = reg.predict(X_test)\n",
    "# print(‘MSE =’, mse(y_pred, y_test))\n",
    "# print(‘MAE =’, mae(y_pred, y_test))\n",
    "# print(‘R2 Score =’, r2_score(y_pred, y_test))"
   ]
  },
  {
   "cell_type": "markdown",
   "id": "603d4776",
   "metadata": {},
   "source": [
    "### Evaluating and Comparing the Classification Models"
   ]
  },
  {
   "cell_type": "code",
   "execution_count": 41,
   "id": "dbfa8572",
   "metadata": {},
   "outputs": [],
   "source": [
    "# Define dictionary with performance metrics\n",
    "scoring = {'accuracy':make_scorer(accuracy_score), \n",
    "           'precision':make_scorer(precision_score),\n",
    "           'recall':make_scorer(recall_score), \n",
    "           'f1_score':make_scorer(f1_score)}"
   ]
  },
  {
   "cell_type": "code",
   "execution_count": 42,
   "id": "dd6a975e",
   "metadata": {},
   "outputs": [],
   "source": [
    "# Instantiate the machine learning classifiers\n",
    "log_model = LogisticRegression(solver='lbfgs', \n",
    "                           penalty='l2', \n",
    "                           multi_class='multinomial', \n",
    "                           C=.9, \n",
    "                           max_iter=500, \n",
    "                           n_jobs=3)\n",
    "knc_model = KNeighborsClassifier(n_neighbors = 7)\n",
    "dtr_model = tree.DecisionTreeClassifier(criterion = 'gini', \n",
    "                            max_depth = 200, \n",
    "                            min_samples_split = 100, \n",
    "                            min_samples_leaf = 10)\n",
    "rfc_model = RandomForestClassifier(n_estimators = 50, \n",
    "                            max_depth = 100, \n",
    "                            min_samples_split = 100, \n",
    "                            min_samples_leaf =40)\n",
    "ada_model = AdaBoostClassifier(base_estimator = \n",
    "                               tree.DecisionTreeClassifier\n",
    "                               (max_depth = 2), n_estimators = 30)\n",
    "\n",
    "\n"
   ]
  },
  {
   "cell_type": "code",
   "execution_count": 51,
   "id": "95347c6a",
   "metadata": {},
   "outputs": [],
   "source": [
    "# Define the models evaluation function\n",
    "def models_evaluation(X, y, folds):\n",
    "    \n",
    "    '''\n",
    "    X : data set features\n",
    "    y : data set target\n",
    "    folds : number of cross-validation folds\n",
    "    \n",
    "    '''\n",
    "    \n",
    "    # Perform cross-validation to each machine learning classifier\n",
    "    log = cross_validate(log_model, X, y, cv=folds, scoring=scoring)\n",
    "    knc = cross_validate(knc_model, X, y, cv=folds, scoring=scoring)\n",
    "    dtr = cross_validate(dtr_model, X, y, cv=folds, scoring=scoring)\n",
    "    rfc = cross_validate(rfc_model, X, y, cv=folds, scoring=scoring)\n",
    "    ada = cross_validate(ada_model, X, y, cv=folds, scoring=scoring)\n",
    "\n",
    "    # Create a data frame with the models perfoamnce metrics scores\n",
    "    models_scores_table = pd.DataFrame({'Logistic Regression':[log['test_accuracy'].mean(),\n",
    "                                                               log['test_precision'].mean(),\n",
    "                                                               log['test_recall'].mean(),\n",
    "                                                               log['test_f1_score'].mean()],\n",
    "                                       \n",
    "                                      'K Nearest Neighbor Classifier':[knc['test_accuracy'].mean(),\n",
    "                                                                   knc['test_precision'].mean(),\n",
    "                                                                   knc['test_recall'].mean(),\n",
    "                                                                   knc['test_f1_score'].mean()],\n",
    "                                       \n",
    "                                      'Decision Tree':[dtr['test_accuracy'].mean(),\n",
    "                                                       dtr['test_precision'].mean(),\n",
    "                                                       dtr['test_recall'].mean(),\n",
    "                                                       dtr['test_f1_score'].mean()],\n",
    "                                       \n",
    "                                      'Random Forest':[rfc['test_accuracy'].mean(),\n",
    "                                                       rfc['test_precision'].mean(),\n",
    "                                                       rfc['test_recall'].mean(),\n",
    "                                                       rfc['test_f1_score'].mean()],\n",
    "                                       \n",
    "                                      'AdaBoost':[ada['test_accuracy'].mean(),\n",
    "                                                              ada['test_precision'].mean(),\n",
    "                                                              ada['test_recall'].mean(),\n",
    "                                                              ada['test_f1_score'].mean()]},\n",
    "                                      \n",
    "                                      index=['Accuracy', 'Precision', 'Recall', 'F1 Score'])\n",
    "    \n",
    "    # Add 'Best Score' column\n",
    "    models_scores_table['Best Score'] = models_scores_table.idxmax(axis=1)\n",
    "    \n",
    "    # Return models performance metrics scores data frame\n",
    "    return(models_scores_table)\n",
    "  \n",
    "    "
   ]
  },
  {
   "cell_type": "code",
   "execution_count": 52,
   "id": "cbd220f4",
   "metadata": {},
   "outputs": [
    {
     "data": {
      "text/html": [
       "<div>\n",
       "<style scoped>\n",
       "    .dataframe tbody tr th:only-of-type {\n",
       "        vertical-align: middle;\n",
       "    }\n",
       "\n",
       "    .dataframe tbody tr th {\n",
       "        vertical-align: top;\n",
       "    }\n",
       "\n",
       "    .dataframe thead th {\n",
       "        text-align: right;\n",
       "    }\n",
       "</style>\n",
       "<table border=\"1\" class=\"dataframe\">\n",
       "  <thead>\n",
       "    <tr style=\"text-align: right;\">\n",
       "      <th></th>\n",
       "      <th>Logistic Regression</th>\n",
       "      <th>K Nearest Neighbor Classifier</th>\n",
       "      <th>Decision Tree</th>\n",
       "      <th>Random Forest</th>\n",
       "      <th>AdaBoost</th>\n",
       "      <th>Best Score</th>\n",
       "    </tr>\n",
       "  </thead>\n",
       "  <tbody>\n",
       "    <tr>\n",
       "      <th>Accuracy</th>\n",
       "      <td>0.641355</td>\n",
       "      <td>0.645239</td>\n",
       "      <td>0.614934</td>\n",
       "      <td>0.642619</td>\n",
       "      <td>0.645442</td>\n",
       "      <td>AdaBoost</td>\n",
       "    </tr>\n",
       "    <tr>\n",
       "      <th>Precision</th>\n",
       "      <td>0.672960</td>\n",
       "      <td>0.722620</td>\n",
       "      <td>0.734189</td>\n",
       "      <td>0.783737</td>\n",
       "      <td>0.785844</td>\n",
       "      <td>AdaBoost</td>\n",
       "    </tr>\n",
       "    <tr>\n",
       "      <th>Recall</th>\n",
       "      <td>0.805050</td>\n",
       "      <td>0.700412</td>\n",
       "      <td>0.604934</td>\n",
       "      <td>0.639103</td>\n",
       "      <td>0.649089</td>\n",
       "      <td>Logistic Regression</td>\n",
       "    </tr>\n",
       "    <tr>\n",
       "      <th>F1 Score</th>\n",
       "      <td>0.729907</td>\n",
       "      <td>0.701730</td>\n",
       "      <td>0.604991</td>\n",
       "      <td>0.632276</td>\n",
       "      <td>0.629091</td>\n",
       "      <td>Logistic Regression</td>\n",
       "    </tr>\n",
       "  </tbody>\n",
       "</table>\n",
       "</div>"
      ],
      "text/plain": [
       "           Logistic Regression  K Nearest Neighbor Classifier  Decision Tree  \\\n",
       "Accuracy              0.641355                       0.645239       0.614934   \n",
       "Precision             0.672960                       0.722620       0.734189   \n",
       "Recall                0.805050                       0.700412       0.604934   \n",
       "F1 Score              0.729907                       0.701730       0.604991   \n",
       "\n",
       "           Random Forest  AdaBoost           Best Score  \n",
       "Accuracy        0.642619  0.645442             AdaBoost  \n",
       "Precision       0.783737  0.785844             AdaBoost  \n",
       "Recall          0.639103  0.649089  Logistic Regression  \n",
       "F1 Score        0.632276  0.629091  Logistic Regression  "
      ]
     },
     "execution_count": 52,
     "metadata": {},
     "output_type": "execute_result"
    }
   ],
   "source": [
    "# Run models_evaluation function\n",
    "models_evaluation(Xscaled,y_label , 5)"
   ]
  },
  {
   "cell_type": "code",
   "execution_count": 90,
   "id": "challenging-lease",
   "metadata": {},
   "outputs": [],
   "source": [
    "# Define the models evaluation function\n",
    "def kfold_model_analysis(X, y, folds):\n",
    "    \n",
    "    '''\n",
    "    X : data set features\n",
    "    y : data set target\n",
    "    folds : number of cross-validation folds\n",
    "    \n",
    "    '''\n",
    "    \n",
    "    # Perform cross-validation to each machine learning classifier\n",
    "    log = cross_validate(log_model, X, y, cv=folds, scoring=scoring)\n",
    "    knc = cross_validate(knc_model, X, y, cv=folds, scoring=scoring)\n",
    "    dtr = cross_validate(dtr_model, X, y, cv=folds, scoring=scoring)\n",
    "    rfc = cross_validate(rfc_model, X, y, cv=folds, scoring=scoring)\n",
    "    ada = cross_validate(ada_model, X, y, cv=folds, scoring=scoring)\n",
    "\n",
    "    # Create a data frame with the models perfoamnce metrics scores\n",
    "    models_scores_table = pd.DataFrame({\n",
    "        \n",
    "                                     'Logistic Regression':[log['test_accuracy'].mean(),\n",
    "                                                               log['test_precision'].mean(),\n",
    "                                                               log['test_recall'].mean(),\n",
    "                                                               log['test_f1_score'].mean()],\n",
    "                                       \n",
    "                                      'K Nearest Neighbor Classifier':[knc['test_accuracy'].mean(),\n",
    "                                                                   knc['test_precision'].mean(),\n",
    "                                                                   knc['test_recall'].mean(),\n",
    "                                                                   knc['test_f1_score'].mean()],\n",
    "                                       \n",
    "                                      'Decision Tree':[dtr['test_accuracy'].mean(),\n",
    "                                                       dtr['test_precision'].mean(),\n",
    "                                                       dtr['test_recall'].mean(),\n",
    "                                                       dtr['test_f1_score'].mean()],\n",
    "                                       \n",
    "                                      'Random Forest':[rfc['test_accuracy'].mean(),\n",
    "                                                       rfc['test_precision'].mean(),\n",
    "                                                       rfc['test_recall'].mean(),\n",
    "                                                       rfc['test_f1_score'].mean()],\n",
    "                                       \n",
    "                                      'AdaBoost':[ada['test_accuracy'].mean(),\n",
    "                                                              ada['test_precision'].mean(),\n",
    "                                                              ada['test_recall'].mean(),\n",
    "                                                              ada['test_f1_score'].mean()]},\n",
    "                                      \n",
    "                                      index=['Accuracy', 'Precision', 'Recall', 'F1 Score']\n",
    "        )\n",
    "    \n",
    "    # Add 'Best Score' column\n",
    "    models_scores_table['Best Score'] = models_scores_table.idxmax(axis=1)\n",
    "    \n",
    "    # Return models performance metrics scores data frame\n",
    "    return(models_scores_table)\n",
    "  \n",
    "    "
   ]
  },
  {
   "cell_type": "code",
   "execution_count": 91,
   "id": "enhanced-cooperation",
   "metadata": {},
   "outputs": [
    {
     "data": {
      "text/html": [
       "<div>\n",
       "<style scoped>\n",
       "    .dataframe tbody tr th:only-of-type {\n",
       "        vertical-align: middle;\n",
       "    }\n",
       "\n",
       "    .dataframe tbody tr th {\n",
       "        vertical-align: top;\n",
       "    }\n",
       "\n",
       "    .dataframe thead th {\n",
       "        text-align: right;\n",
       "    }\n",
       "</style>\n",
       "<table border=\"1\" class=\"dataframe\">\n",
       "  <thead>\n",
       "    <tr style=\"text-align: right;\">\n",
       "      <th></th>\n",
       "      <th>Logistic Regression</th>\n",
       "      <th>K Nearest Neighbor Classifier</th>\n",
       "      <th>Decision Tree</th>\n",
       "      <th>Random Forest</th>\n",
       "      <th>AdaBoost</th>\n",
       "      <th>Best Score</th>\n",
       "    </tr>\n",
       "  </thead>\n",
       "  <tbody>\n",
       "    <tr>\n",
       "      <th>Accuracy</th>\n",
       "      <td>0.684618</td>\n",
       "      <td>0.832578</td>\n",
       "      <td>0.846621</td>\n",
       "      <td>0.856265</td>\n",
       "      <td>0.823240</td>\n",
       "      <td>Random Forest</td>\n",
       "    </tr>\n",
       "    <tr>\n",
       "      <th>Precision</th>\n",
       "      <td>0.705802</td>\n",
       "      <td>0.833042</td>\n",
       "      <td>0.857991</td>\n",
       "      <td>0.861054</td>\n",
       "      <td>0.831341</td>\n",
       "      <td>Random Forest</td>\n",
       "    </tr>\n",
       "    <tr>\n",
       "      <th>Recall</th>\n",
       "      <td>0.820884</td>\n",
       "      <td>0.904570</td>\n",
       "      <td>0.894544</td>\n",
       "      <td>0.909135</td>\n",
       "      <td>0.887992</td>\n",
       "      <td>Random Forest</td>\n",
       "    </tr>\n",
       "    <tr>\n",
       "      <th>F1 Score</th>\n",
       "      <td>0.759001</td>\n",
       "      <td>0.867331</td>\n",
       "      <td>0.875884</td>\n",
       "      <td>0.884439</td>\n",
       "      <td>0.858730</td>\n",
       "      <td>Random Forest</td>\n",
       "    </tr>\n",
       "  </tbody>\n",
       "</table>\n",
       "</div>"
      ],
      "text/plain": [
       "           Logistic Regression  K Nearest Neighbor Classifier  Decision Tree  \\\n",
       "Accuracy              0.684618                       0.832578       0.846621   \n",
       "Precision             0.705802                       0.833042       0.857991   \n",
       "Recall                0.820884                       0.904570       0.894544   \n",
       "F1 Score              0.759001                       0.867331       0.875884   \n",
       "\n",
       "           Random Forest  AdaBoost     Best Score  \n",
       "Accuracy        0.856265  0.823240  Random Forest  \n",
       "Precision       0.861054  0.831341  Random Forest  \n",
       "Recall          0.909135  0.887992  Random Forest  \n",
       "F1 Score        0.884439  0.858730  Random Forest  "
      ]
     },
     "execution_count": 91,
     "metadata": {},
     "output_type": "execute_result"
    }
   ],
   "source": [
    "kfold = model_selection.KFold(n_splits=5, shuffle=True, random_state=42)\n",
    "kfold_model_analysis(Xscaled,y_label , kfold)"
   ]
  },
  {
   "cell_type": "code",
   "execution_count": null,
   "id": "temporal-religious",
   "metadata": {},
   "outputs": [],
   "source": []
  }
 ],
 "metadata": {
  "kernelspec": {
   "display_name": "Python 3",
   "language": "python",
   "name": "python3"
  },
  "language_info": {
   "codemirror_mode": {
    "name": "ipython",
    "version": 3
   },
   "file_extension": ".py",
   "mimetype": "text/x-python",
   "name": "python",
   "nbconvert_exporter": "python",
   "pygments_lexer": "ipython3",
   "version": "3.9.4"
  }
 },
 "nbformat": 4,
 "nbformat_minor": 5
}
