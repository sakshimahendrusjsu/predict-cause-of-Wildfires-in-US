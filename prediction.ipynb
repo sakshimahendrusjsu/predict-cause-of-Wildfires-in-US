{
 "cells": [
  {
   "cell_type": "code",
   "execution_count": 3,
   "id": "logical-measure",
   "metadata": {},
   "outputs": [],
   "source": [
    "import sqlite3\n",
    "import pandas as pd\n",
    "import numpy as np\n",
    "import matplotlib.pyplot as plt"
   ]
  },
  {
   "cell_type": "code",
   "execution_count": 4,
   "id": "artistic-mobile",
   "metadata": {},
   "outputs": [],
   "source": [
    "conn = sqlite3.connect('RDS-2013-0009.4_SQLITE/Data/FPA_FOD_20170508.sqlite')"
   ]
  },
  {
   "cell_type": "code",
   "execution_count": 5,
   "id": "latest-oxford",
   "metadata": {},
   "outputs": [
    {
     "name": "stdout",
     "output_type": "stream",
     "text": [
      "   FIRE_YEAR STAT_CAUSE_DESCR   LATITUDE   LONGITUDE STATE  DISCOVERY_DATE  \\\n",
      "0       2005    Miscellaneous  40.036944 -121.005833    CA       2453403.5   \n",
      "1       2004        Lightning  38.933056 -120.404444    CA       2453137.5   \n",
      "2       2004   Debris Burning  38.984167 -120.735556    CA       2453156.5   \n",
      "3       2004        Lightning  38.559167 -119.913333    CA       2453184.5   \n",
      "4       2004        Lightning  38.559167 -119.933056    CA       2453184.5   \n",
      "\n",
      "   FIRE_SIZE  \n",
      "0       0.10  \n",
      "1       0.25  \n",
      "2       0.10  \n",
      "3       0.10  \n",
      "4       0.10  \n"
     ]
    }
   ],
   "source": [
    "df = pd.read_sql_query(\"SELECT FIRE_YEAR,STAT_CAUSE_DESCR,LATITUDE,LONGITUDE,STATE,DISCOVERY_DATE,FIRE_SIZE FROM 'Fires'\", conn)\n",
    "print(df.head()) "
   ]
  },
  {
   "cell_type": "code",
   "execution_count": 6,
   "id": "statistical-worship",
   "metadata": {},
   "outputs": [],
   "source": [
    "#Julian date format to Gregorian date format\n",
    "df['DATE'] = pd.to_datetime(df['DISCOVERY_DATE'] - pd.Timestamp(0).to_julian_date(), unit='D')"
   ]
  },
  {
   "cell_type": "code",
   "execution_count": 7,
   "id": "authentic-cannon",
   "metadata": {},
   "outputs": [
    {
     "name": "stdout",
     "output_type": "stream",
     "text": [
      "   FIRE_YEAR STAT_CAUSE_DESCR   LATITUDE   LONGITUDE STATE  DISCOVERY_DATE  \\\n",
      "0       2005    Miscellaneous  40.036944 -121.005833    CA       2453403.5   \n",
      "1       2004        Lightning  38.933056 -120.404444    CA       2453137.5   \n",
      "2       2004   Debris Burning  38.984167 -120.735556    CA       2453156.5   \n",
      "3       2004        Lightning  38.559167 -119.913333    CA       2453184.5   \n",
      "4       2004        Lightning  38.559167 -119.933056    CA       2453184.5   \n",
      "\n",
      "   FIRE_SIZE       DATE  \n",
      "0       0.10 2005-02-02  \n",
      "1       0.25 2004-05-12  \n",
      "2       0.10 2004-05-31  \n",
      "3       0.10 2004-06-28  \n",
      "4       0.10 2004-06-28  \n"
     ]
    }
   ],
   "source": [
    "print(df.head())"
   ]
  },
  {
   "cell_type": "code",
   "execution_count": 8,
   "id": "patent-phase",
   "metadata": {},
   "outputs": [
    {
     "data": {
      "image/png": "[encoded data removed]",
      "text/plain": [
       "<Figure size 432x288 with 1 Axes>"
      ]
     },
     "metadata": {
      "needs_background": "light"
     },
     "output_type": "display_data"
    }
   ],
   "source": [
    "#causes of fire\n",
    "df['STAT_CAUSE_DESCR'].value_counts().plot(kind='barh',color='coral')\n",
    "plt.show()"
   ]
  },
  {
   "cell_type": "code",
   "execution_count": 9,
   "id": "bizarre-communist",
   "metadata": {},
   "outputs": [
    {
     "name": "stdout",
     "output_type": "stream",
     "text": [
      "   OBJECTID  FOD_ID      FPA_ID SOURCE_SYSTEM_TYPE SOURCE_SYSTEM  \\\n",
      "0         1       1  FS-1418826                FED   FS-FIRESTAT   \n",
      "1         2       2  FS-1418827                FED   FS-FIRESTAT   \n",
      "2         3       3  FS-1418835                FED   FS-FIRESTAT   \n",
      "3         4       4  FS-1418845                FED   FS-FIRESTAT   \n",
      "4         5       5  FS-1418847                FED   FS-FIRESTAT   \n",
      "\n",
      "  NWCG_REPORTING_AGENCY NWCG_REPORTING_UNIT_ID  NWCG_REPORTING_UNIT_NAME  \\\n",
      "0                    FS                USCAPNF    Plumas National Forest   \n",
      "1                    FS                USCAENF  Eldorado National Forest   \n",
      "2                    FS                USCAENF  Eldorado National Forest   \n",
      "3                    FS                USCAENF  Eldorado National Forest   \n",
      "4                    FS                USCAENF  Eldorado National Forest   \n",
      "\n",
      "  SOURCE_REPORTING_UNIT SOURCE_REPORTING_UNIT_NAME  ... FIRE_SIZE_CLASS  \\\n",
      "0                  0511     Plumas National Forest  ...               A   \n",
      "1                  0503   Eldorado National Forest  ...               A   \n",
      "2                  0503   Eldorado National Forest  ...               A   \n",
      "3                  0503   Eldorado National Forest  ...               A   \n",
      "4                  0503   Eldorado National Forest  ...               A   \n",
      "\n",
      "    LATITUDE   LONGITUDE OWNER_CODE       OWNER_DESCR STATE COUNTY FIPS_CODE  \\\n",
      "0  40.036944 -121.005833        5.0              USFS    CA     63       063   \n",
      "1  38.933056 -120.404444        5.0              USFS    CA     61       061   \n",
      "2  38.984167 -120.735556       13.0  STATE OR PRIVATE    CA     17       017   \n",
      "3  38.559167 -119.913333        5.0              USFS    CA      3       003   \n",
      "4  38.559167 -119.933056        5.0              USFS    CA      3       003   \n",
      "\n",
      "   FIPS_NAME                                              Shape  \n",
      "0     Plumas  b'\\x00\\x01\\xad\\x10\\x00\\x00\\xe8d\\xc2\\x92_@^\\xc0...  \n",
      "1     Placer  b'\\x00\\x01\\xad\\x10\\x00\\x00T\\xb6\\xeej\\xe2\\x19^\\...  \n",
      "2  El Dorado  b'\\x00\\x01\\xad\\x10\\x00\\x00\\xd0\\xa5\\xa0W\\x13/^\\...  \n",
      "3     Alpine  b'\\x00\\x01\\xad\\x10\\x00\\x00\\x94\\xac\\xa3\\rt\\xfa]...  \n",
      "4     Alpine  b'\\x00\\x01\\xad\\x10\\x00\\x00@\\xe3\\xaa.\\xb7\\xfb]\\...  \n",
      "\n",
      "[5 rows x 39 columns]\n"
     ]
    }
   ],
   "source": [
    "full_df = pd.read_sql_query(\"SELECT * FROM 'Fires'\", conn)\n",
    "print(full_df.head()) "
   ]
  },
  {
   "cell_type": "code",
   "execution_count": 10,
   "id": "changing-holder",
   "metadata": {},
   "outputs": [
    {
     "name": "stdout",
     "output_type": "stream",
     "text": [
      "Index(['OBJECTID', 'FOD_ID', 'FPA_ID', 'SOURCE_SYSTEM_TYPE', 'SOURCE_SYSTEM',\n",
      "       'NWCG_REPORTING_AGENCY', 'NWCG_REPORTING_UNIT_ID',\n",
      "       'NWCG_REPORTING_UNIT_NAME', 'SOURCE_REPORTING_UNIT',\n",
      "       'SOURCE_REPORTING_UNIT_NAME', 'LOCAL_FIRE_REPORT_ID',\n",
      "       'LOCAL_INCIDENT_ID', 'FIRE_CODE', 'FIRE_NAME',\n",
      "       'ICS_209_INCIDENT_NUMBER', 'ICS_209_NAME', 'MTBS_ID', 'MTBS_FIRE_NAME',\n",
      "       'COMPLEX_NAME', 'FIRE_YEAR', 'DISCOVERY_DATE', 'DISCOVERY_DOY',\n",
      "       'DISCOVERY_TIME', 'STAT_CAUSE_CODE', 'STAT_CAUSE_DESCR', 'CONT_DATE',\n",
      "       'CONT_DOY', 'CONT_TIME', 'FIRE_SIZE', 'FIRE_SIZE_CLASS', 'LATITUDE',\n",
      "       'LONGITUDE', 'OWNER_CODE', 'OWNER_DESCR', 'STATE', 'COUNTY',\n",
      "       'FIPS_CODE', 'FIPS_NAME', 'Shape'],\n",
      "      dtype='object')\n"
     ]
    }
   ],
   "source": [
    "print(full_df.columns)"
   ]
  },
  {
   "cell_type": "code",
   "execution_count": 11,
   "id": "personalized-cradle",
   "metadata": {},
   "outputs": [
    {
     "name": "stdout",
     "output_type": "stream",
     "text": [
      "<class 'pandas.core.frame.DataFrame'>\n",
      "RangeIndex: 1880465 entries, 0 to 1880464\n",
      "Data columns (total 39 columns):\n",
      " #   Column                      Dtype  \n",
      "---  ------                      -----  \n",
      " 0   OBJECTID                    int64  \n",
      " 1   FOD_ID                      int64  \n",
      " 2   FPA_ID                      object \n",
      " 3   SOURCE_SYSTEM_TYPE          object \n",
      " 4   SOURCE_SYSTEM               object \n",
      " 5   NWCG_REPORTING_AGENCY       object \n",
      " 6   NWCG_REPORTING_UNIT_ID      object \n",
      " 7   NWCG_REPORTING_UNIT_NAME    object \n",
      " 8   SOURCE_REPORTING_UNIT       object \n",
      " 9   SOURCE_REPORTING_UNIT_NAME  object \n",
      " 10  LOCAL_FIRE_REPORT_ID        object \n",
      " 11  LOCAL_INCIDENT_ID           object \n",
      " 12  FIRE_CODE                   object \n",
      " 13  FIRE_NAME                   object \n",
      " 14  ICS_209_INCIDENT_NUMBER     object \n",
      " 15  ICS_209_NAME                object \n",
      " 16  MTBS_ID                     object \n",
      " 17  MTBS_FIRE_NAME              object \n",
      " 18  COMPLEX_NAME                object \n",
      " 19  FIRE_YEAR                   int64  \n",
      " 20  DISCOVERY_DATE              float64\n",
      " 21  DISCOVERY_DOY               int64  \n",
      " 22  DISCOVERY_TIME              object \n",
      " 23  STAT_CAUSE_CODE             float64\n",
      " 24  STAT_CAUSE_DESCR            object \n",
      " 25  CONT_DATE                   float64\n",
      " 26  CONT_DOY                    float64\n",
      " 27  CONT_TIME                   object \n",
      " 28  FIRE_SIZE                   float64\n",
      " 29  FIRE_SIZE_CLASS             object \n",
      " 30  LATITUDE                    float64\n",
      " 31  LONGITUDE                   float64\n",
      " 32  OWNER_CODE                  float64\n",
      " 33  OWNER_DESCR                 object \n",
      " 34  STATE                       object \n",
      " 35  COUNTY                      object \n",
      " 36  FIPS_CODE                   object \n",
      " 37  FIPS_NAME                   object \n",
      " 38  Shape                       object \n",
      "dtypes: float64(8), int64(4), object(27)\n",
      "memory usage: 559.5+ MB\n"
     ]
    }
   ],
   "source": [
    "full_df.info()"
   ]
  },
  {
   "cell_type": "code",
   "execution_count": 12,
   "id": "increasing-resistance",
   "metadata": {},
   "outputs": [
    {
     "data": {
      "text/html": [
       "<div>\n",
       "<style scoped>\n",
       "    .dataframe tbody tr th:only-of-type {\n",
       "        vertical-align: middle;\n",
       "    }\n",
       "\n",
       "    .dataframe tbody tr th {\n",
       "        vertical-align: top;\n",
       "    }\n",
       "\n",
       "    .dataframe thead th {\n",
       "        text-align: right;\n",
       "    }\n",
       "</style>\n",
       "<table border=\"1\" class=\"dataframe\">\n",
       "  <thead>\n",
       "    <tr style=\"text-align: right;\">\n",
       "      <th></th>\n",
       "      <th>OBJECTID</th>\n",
       "      <th>FOD_ID</th>\n",
       "      <th>FIRE_YEAR</th>\n",
       "      <th>DISCOVERY_DATE</th>\n",
       "      <th>DISCOVERY_DOY</th>\n",
       "      <th>STAT_CAUSE_CODE</th>\n",
       "      <th>CONT_DATE</th>\n",
       "      <th>CONT_DOY</th>\n",
       "      <th>FIRE_SIZE</th>\n",
       "      <th>LATITUDE</th>\n",
       "      <th>LONGITUDE</th>\n",
       "      <th>OWNER_CODE</th>\n",
       "    </tr>\n",
       "  </thead>\n",
       "  <tbody>\n",
       "    <tr>\n",
       "      <th>count</th>\n",
       "      <td>1.880465e+06</td>\n",
       "      <td>1.880465e+06</td>\n",
       "      <td>1.880465e+06</td>\n",
       "      <td>1.880465e+06</td>\n",
       "      <td>1.880465e+06</td>\n",
       "      <td>1.880465e+06</td>\n",
       "      <td>9.889340e+05</td>\n",
       "      <td>988934.000000</td>\n",
       "      <td>1.880465e+06</td>\n",
       "      <td>1.880465e+06</td>\n",
       "      <td>1.880465e+06</td>\n",
       "      <td>1.880465e+06</td>\n",
       "    </tr>\n",
       "    <tr>\n",
       "      <th>mean</th>\n",
       "      <td>9.402330e+05</td>\n",
       "      <td>5.484020e+07</td>\n",
       "      <td>2.003710e+03</td>\n",
       "      <td>2.453064e+06</td>\n",
       "      <td>1.647191e+02</td>\n",
       "      <td>5.979037e+00</td>\n",
       "      <td>2.453238e+06</td>\n",
       "      <td>172.656766</td>\n",
       "      <td>7.452016e+01</td>\n",
       "      <td>3.678121e+01</td>\n",
       "      <td>-9.570494e+01</td>\n",
       "      <td>1.059658e+01</td>\n",
       "    </tr>\n",
       "    <tr>\n",
       "      <th>std</th>\n",
       "      <td>5.428436e+05</td>\n",
       "      <td>1.011963e+08</td>\n",
       "      <td>6.663099e+00</td>\n",
       "      <td>2.434573e+03</td>\n",
       "      <td>9.003891e+01</td>\n",
       "      <td>3.483860e+00</td>\n",
       "      <td>2.687548e+03</td>\n",
       "      <td>84.320348</td>\n",
       "      <td>2.497598e+03</td>\n",
       "      <td>6.139031e+00</td>\n",
       "      <td>1.671694e+01</td>\n",
       "      <td>4.404662e+00</td>\n",
       "    </tr>\n",
       "    <tr>\n",
       "      <th>min</th>\n",
       "      <td>1.000000e+00</td>\n",
       "      <td>1.000000e+00</td>\n",
       "      <td>1.992000e+03</td>\n",
       "      <td>2.448622e+06</td>\n",
       "      <td>1.000000e+00</td>\n",
       "      <td>1.000000e+00</td>\n",
       "      <td>2.448622e+06</td>\n",
       "      <td>1.000000</td>\n",
       "      <td>1.000000e-05</td>\n",
       "      <td>1.793972e+01</td>\n",
       "      <td>-1.788026e+02</td>\n",
       "      <td>0.000000e+00</td>\n",
       "    </tr>\n",
       "    <tr>\n",
       "      <th>25%</th>\n",
       "      <td>4.701170e+05</td>\n",
       "      <td>5.055000e+05</td>\n",
       "      <td>1.998000e+03</td>\n",
       "      <td>2.451084e+06</td>\n",
       "      <td>8.900000e+01</td>\n",
       "      <td>3.000000e+00</td>\n",
       "      <td>2.450701e+06</td>\n",
       "      <td>102.000000</td>\n",
       "      <td>1.000000e-01</td>\n",
       "      <td>3.281860e+01</td>\n",
       "      <td>-1.103635e+02</td>\n",
       "      <td>8.000000e+00</td>\n",
       "    </tr>\n",
       "    <tr>\n",
       "      <th>50%</th>\n",
       "      <td>9.402330e+05</td>\n",
       "      <td>1.067761e+06</td>\n",
       "      <td>2.004000e+03</td>\n",
       "      <td>2.453178e+06</td>\n",
       "      <td>1.640000e+02</td>\n",
       "      <td>5.000000e+00</td>\n",
       "      <td>2.453466e+06</td>\n",
       "      <td>181.000000</td>\n",
       "      <td>1.000000e+00</td>\n",
       "      <td>3.545250e+01</td>\n",
       "      <td>-9.204304e+01</td>\n",
       "      <td>1.400000e+01</td>\n",
       "    </tr>\n",
       "    <tr>\n",
       "      <th>75%</th>\n",
       "      <td>1.410349e+06</td>\n",
       "      <td>1.910639e+07</td>\n",
       "      <td>2.009000e+03</td>\n",
       "      <td>2.455036e+06</td>\n",
       "      <td>2.300000e+02</td>\n",
       "      <td>9.000000e+00</td>\n",
       "      <td>2.455754e+06</td>\n",
       "      <td>232.000000</td>\n",
       "      <td>3.300000e+00</td>\n",
       "      <td>4.082720e+01</td>\n",
       "      <td>-8.229760e+01</td>\n",
       "      <td>1.400000e+01</td>\n",
       "    </tr>\n",
       "    <tr>\n",
       "      <th>max</th>\n",
       "      <td>1.880465e+06</td>\n",
       "      <td>3.003484e+08</td>\n",
       "      <td>2.015000e+03</td>\n",
       "      <td>2.457388e+06</td>\n",
       "      <td>3.660000e+02</td>\n",
       "      <td>1.300000e+01</td>\n",
       "      <td>2.457392e+06</td>\n",
       "      <td>366.000000</td>\n",
       "      <td>6.069450e+05</td>\n",
       "      <td>7.033060e+01</td>\n",
       "      <td>-6.525694e+01</td>\n",
       "      <td>1.500000e+01</td>\n",
       "    </tr>\n",
       "  </tbody>\n",
       "</table>\n",
       "</div>"
      ],
      "text/plain": [
       "           OBJECTID        FOD_ID     FIRE_YEAR  DISCOVERY_DATE  \\\n",
       "count  1.880465e+06  1.880465e+06  1.880465e+06    1.880465e+06   \n",
       "mean   9.402330e+05  5.484020e+07  2.003710e+03    2.453064e+06   \n",
       "std    5.428436e+05  1.011963e+08  6.663099e+00    2.434573e+03   \n",
       "min    1.000000e+00  1.000000e+00  1.992000e+03    2.448622e+06   \n",
       "25%    4.701170e+05  5.055000e+05  1.998000e+03    2.451084e+06   \n",
       "50%    9.402330e+05  1.067761e+06  2.004000e+03    2.453178e+06   \n",
       "75%    1.410349e+06  1.910639e+07  2.009000e+03    2.455036e+06   \n",
       "max    1.880465e+06  3.003484e+08  2.015000e+03    2.457388e+06   \n",
       "\n",
       "       DISCOVERY_DOY  STAT_CAUSE_CODE     CONT_DATE       CONT_DOY  \\\n",
       "count   1.880465e+06     1.880465e+06  9.889340e+05  988934.000000   \n",
       "mean    1.647191e+02     5.979037e+00  2.453238e+06     172.656766   \n",
       "std     9.003891e+01     3.483860e+00  2.687548e+03      84.320348   \n",
       "min     1.000000e+00     1.000000e+00  2.448622e+06       1.000000   \n",
       "25%     8.900000e+01     3.000000e+00  2.450701e+06     102.000000   \n",
       "50%     1.640000e+02     5.000000e+00  2.453466e+06     181.000000   \n",
       "75%     2.300000e+02     9.000000e+00  2.455754e+06     232.000000   \n",
       "max     3.660000e+02     1.300000e+01  2.457392e+06     366.000000   \n",
       "\n",
       "          FIRE_SIZE      LATITUDE     LONGITUDE    OWNER_CODE  \n",
       "count  1.880465e+06  1.880465e+06  1.880465e+06  1.880465e+06  \n",
       "mean   7.452016e+01  3.678121e+01 -9.570494e+01  1.059658e+01  \n",
       "std    2.497598e+03  6.139031e+00  1.671694e+01  4.404662e+00  \n",
       "min    1.000000e-05  1.793972e+01 -1.788026e+02  0.000000e+00  \n",
       "25%    1.000000e-01  3.281860e+01 -1.103635e+02  8.000000e+00  \n",
       "50%    1.000000e+00  3.545250e+01 -9.204304e+01  1.400000e+01  \n",
       "75%    3.300000e+00  4.082720e+01 -8.229760e+01  1.400000e+01  \n",
       "max    6.069450e+05  7.033060e+01 -6.525694e+01  1.500000e+01  "
      ]
     },
     "execution_count": 12,
     "metadata": {},
     "output_type": "execute_result"
    }
   ],
   "source": [
    "full_df.describe()"
   ]
  },
  {
   "cell_type": "code",
   "execution_count": null,
   "id": "serial-incidence",
   "metadata": {},
   "outputs": [],
   "source": []
  }
 ],
 "metadata": {
  "kernelspec": {
   "display_name": "Python 3",
   "language": "python",
   "name": "python3"
  },
  "language_info": {
   "codemirror_mode": {
    "name": "ipython",
    "version": 3
   },
   "file_extension": ".py",
   "mimetype": "text/x-python",
   "name": "python",
   "nbconvert_exporter": "python",
   "pygments_lexer": "ipython3",
   "version": "3.9.0"
  }
 },
 "nbformat": 4,
 "nbformat_minor": 5
}
