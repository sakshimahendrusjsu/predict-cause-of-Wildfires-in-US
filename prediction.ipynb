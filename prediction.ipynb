{
 "cells": [
  {
   "cell_type": "code",
   "execution_count": 70,
   "id": "logical-measure",
   "metadata": {},
   "outputs": [],
   "source": [
    "import sqlite3\n",
    "import pandas as pd\n",
    "import numpy as np\n",
    "import matplotlib.pyplot as plt\n",
    "\n",
    "from sklearn import tree, preprocessing\n",
    "import sklearn.ensemble as ske\n",
    "from sklearn.model_selection import train_test_split"
   ]
  },
  {
   "cell_type": "code",
   "execution_count": 71,
   "id": "artistic-mobile",
   "metadata": {},
   "outputs": [],
   "source": [
    "conn = sqlite3.connect('RDS-2013-0009.4_SQLITE/Data/FPA_FOD_20170508.sqlite')"
   ]
  },
  {
   "cell_type": "code",
   "execution_count": 73,
   "id": "bizarre-communist",
   "metadata": {},
   "outputs": [
    {
     "name": "stdout",
     "output_type": "stream",
     "text": [
      "   OBJECTID  FOD_ID      FPA_ID SOURCE_SYSTEM_TYPE SOURCE_SYSTEM  \\\n",
      "0         1       1  FS-1418826                FED   FS-FIRESTAT   \n",
      "1         2       2  FS-1418827                FED   FS-FIRESTAT   \n",
      "2         3       3  FS-1418835                FED   FS-FIRESTAT   \n",
      "3         4       4  FS-1418845                FED   FS-FIRESTAT   \n",
      "4         5       5  FS-1418847                FED   FS-FIRESTAT   \n",
      "\n",
      "  NWCG_REPORTING_AGENCY NWCG_REPORTING_UNIT_ID  NWCG_REPORTING_UNIT_NAME  \\\n",
      "0                    FS                USCAPNF    Plumas National Forest   \n",
      "1                    FS                USCAENF  Eldorado National Forest   \n",
      "2                    FS                USCAENF  Eldorado National Forest   \n",
      "3                    FS                USCAENF  Eldorado National Forest   \n",
      "4                    FS                USCAENF  Eldorado National Forest   \n",
      "\n",
      "  SOURCE_REPORTING_UNIT SOURCE_REPORTING_UNIT_NAME  ... FIRE_SIZE_CLASS  \\\n",
      "0                  0511     Plumas National Forest  ...               A   \n",
      "1                  0503   Eldorado National Forest  ...               A   \n",
      "2                  0503   Eldorado National Forest  ...               A   \n",
      "3                  0503   Eldorado National Forest  ...               A   \n",
      "4                  0503   Eldorado National Forest  ...               A   \n",
      "\n",
      "    LATITUDE   LONGITUDE OWNER_CODE       OWNER_DESCR STATE COUNTY FIPS_CODE  \\\n",
      "0  40.036944 -121.005833        5.0              USFS    CA     63       063   \n",
      "1  38.933056 -120.404444        5.0              USFS    CA     61       061   \n",
      "2  38.984167 -120.735556       13.0  STATE OR PRIVATE    CA     17       017   \n",
      "3  38.559167 -119.913333        5.0              USFS    CA      3       003   \n",
      "4  38.559167 -119.933056        5.0              USFS    CA      3       003   \n",
      "\n",
      "   FIPS_NAME                                              Shape  \n",
      "0     Plumas  b'\\x00\\x01\\xad\\x10\\x00\\x00\\xe8d\\xc2\\x92_@^\\xc0...  \n",
      "1     Placer  b'\\x00\\x01\\xad\\x10\\x00\\x00T\\xb6\\xeej\\xe2\\x19^\\...  \n",
      "2  El Dorado  b'\\x00\\x01\\xad\\x10\\x00\\x00\\xd0\\xa5\\xa0W\\x13/^\\...  \n",
      "3     Alpine  b'\\x00\\x01\\xad\\x10\\x00\\x00\\x94\\xac\\xa3\\rt\\xfa]...  \n",
      "4     Alpine  b'\\x00\\x01\\xad\\x10\\x00\\x00@\\xe3\\xaa.\\xb7\\xfb]\\...  \n",
      "\n",
      "[5 rows x 39 columns]\n"
     ]
    }
   ],
   "source": [
    "# full_df = pd.read_sql_query(\"SELECT * FROM 'Fires'\", conn)\n",
    "# print(full_df.head()) "
   ]
  },
  {
   "cell_type": "code",
   "execution_count": 74,
   "id": "changing-holder",
   "metadata": {},
   "outputs": [
    {
     "name": "stdout",
     "output_type": "stream",
     "text": [
      "Index(['OBJECTID', 'FOD_ID', 'FPA_ID', 'SOURCE_SYSTEM_TYPE', 'SOURCE_SYSTEM',\n",
      "       'NWCG_REPORTING_AGENCY', 'NWCG_REPORTING_UNIT_ID',\n",
      "       'NWCG_REPORTING_UNIT_NAME', 'SOURCE_REPORTING_UNIT',\n",
      "       'SOURCE_REPORTING_UNIT_NAME', 'LOCAL_FIRE_REPORT_ID',\n",
      "       'LOCAL_INCIDENT_ID', 'FIRE_CODE', 'FIRE_NAME',\n",
      "       'ICS_209_INCIDENT_NUMBER', 'ICS_209_NAME', 'MTBS_ID', 'MTBS_FIRE_NAME',\n",
      "       'COMPLEX_NAME', 'FIRE_YEAR', 'DISCOVERY_DATE', 'DISCOVERY_DOY',\n",
      "       'DISCOVERY_TIME', 'STAT_CAUSE_CODE', 'STAT_CAUSE_DESCR', 'CONT_DATE',\n",
      "       'CONT_DOY', 'CONT_TIME', 'FIRE_SIZE', 'FIRE_SIZE_CLASS', 'LATITUDE',\n",
      "       'LONGITUDE', 'OWNER_CODE', 'OWNER_DESCR', 'STATE', 'COUNTY',\n",
      "       'FIPS_CODE', 'FIPS_NAME', 'Shape'],\n",
      "      dtype='object')\n"
     ]
    }
   ],
   "source": [
    "# print(full_df.columns)\n",
    "# full_df['DATE'] = pd.to_datetime(full_df['DISCOVERY_DATE'] - pd.Timestamp(0).to_julian_date(), unit='D')"
   ]
  },
  {
   "cell_type": "code",
   "execution_count": 75,
   "id": "increasing-resistance",
   "metadata": {},
   "outputs": [
    {
     "data": {
      "text/html": [
       "<div>\n",
       "<style scoped>\n",
       "    .dataframe tbody tr th:only-of-type {\n",
       "        vertical-align: middle;\n",
       "    }\n",
       "\n",
       "    .dataframe tbody tr th {\n",
       "        vertical-align: top;\n",
       "    }\n",
       "\n",
       "    .dataframe thead th {\n",
       "        text-align: right;\n",
       "    }\n",
       "</style>\n",
       "<table border=\"1\" class=\"dataframe\">\n",
       "  <thead>\n",
       "    <tr style=\"text-align: right;\">\n",
       "      <th></th>\n",
       "      <th>OBJECTID</th>\n",
       "      <th>FOD_ID</th>\n",
       "      <th>FIRE_YEAR</th>\n",
       "      <th>DISCOVERY_DATE</th>\n",
       "      <th>DISCOVERY_DOY</th>\n",
       "      <th>STAT_CAUSE_CODE</th>\n",
       "      <th>CONT_DATE</th>\n",
       "      <th>CONT_DOY</th>\n",
       "      <th>FIRE_SIZE</th>\n",
       "      <th>LATITUDE</th>\n",
       "      <th>LONGITUDE</th>\n",
       "      <th>OWNER_CODE</th>\n",
       "    </tr>\n",
       "  </thead>\n",
       "  <tbody>\n",
       "    <tr>\n",
       "      <th>count</th>\n",
       "      <td>1.880465e+06</td>\n",
       "      <td>1.880465e+06</td>\n",
       "      <td>1.880465e+06</td>\n",
       "      <td>1.880465e+06</td>\n",
       "      <td>1.880465e+06</td>\n",
       "      <td>1.880465e+06</td>\n",
       "      <td>9.889340e+05</td>\n",
       "      <td>988934.000000</td>\n",
       "      <td>1.880465e+06</td>\n",
       "      <td>1.880465e+06</td>\n",
       "      <td>1.880465e+06</td>\n",
       "      <td>1.880465e+06</td>\n",
       "    </tr>\n",
       "    <tr>\n",
       "      <th>mean</th>\n",
       "      <td>9.402330e+05</td>\n",
       "      <td>5.484020e+07</td>\n",
       "      <td>2.003710e+03</td>\n",
       "      <td>2.453064e+06</td>\n",
       "      <td>1.647191e+02</td>\n",
       "      <td>5.979037e+00</td>\n",
       "      <td>2.453238e+06</td>\n",
       "      <td>172.656766</td>\n",
       "      <td>7.452016e+01</td>\n",
       "      <td>3.678121e+01</td>\n",
       "      <td>-9.570494e+01</td>\n",
       "      <td>1.059658e+01</td>\n",
       "    </tr>\n",
       "    <tr>\n",
       "      <th>std</th>\n",
       "      <td>5.428436e+05</td>\n",
       "      <td>1.011963e+08</td>\n",
       "      <td>6.663099e+00</td>\n",
       "      <td>2.434573e+03</td>\n",
       "      <td>9.003891e+01</td>\n",
       "      <td>3.483860e+00</td>\n",
       "      <td>2.687548e+03</td>\n",
       "      <td>84.320348</td>\n",
       "      <td>2.497598e+03</td>\n",
       "      <td>6.139031e+00</td>\n",
       "      <td>1.671694e+01</td>\n",
       "      <td>4.404662e+00</td>\n",
       "    </tr>\n",
       "    <tr>\n",
       "      <th>min</th>\n",
       "      <td>1.000000e+00</td>\n",
       "      <td>1.000000e+00</td>\n",
       "      <td>1.992000e+03</td>\n",
       "      <td>2.448622e+06</td>\n",
       "      <td>1.000000e+00</td>\n",
       "      <td>1.000000e+00</td>\n",
       "      <td>2.448622e+06</td>\n",
       "      <td>1.000000</td>\n",
       "      <td>1.000000e-05</td>\n",
       "      <td>1.793972e+01</td>\n",
       "      <td>-1.788026e+02</td>\n",
       "      <td>0.000000e+00</td>\n",
       "    </tr>\n",
       "    <tr>\n",
       "      <th>25%</th>\n",
       "      <td>4.701170e+05</td>\n",
       "      <td>5.055000e+05</td>\n",
       "      <td>1.998000e+03</td>\n",
       "      <td>2.451084e+06</td>\n",
       "      <td>8.900000e+01</td>\n",
       "      <td>3.000000e+00</td>\n",
       "      <td>2.450701e+06</td>\n",
       "      <td>102.000000</td>\n",
       "      <td>1.000000e-01</td>\n",
       "      <td>3.281860e+01</td>\n",
       "      <td>-1.103635e+02</td>\n",
       "      <td>8.000000e+00</td>\n",
       "    </tr>\n",
       "    <tr>\n",
       "      <th>50%</th>\n",
       "      <td>9.402330e+05</td>\n",
       "      <td>1.067761e+06</td>\n",
       "      <td>2.004000e+03</td>\n",
       "      <td>2.453178e+06</td>\n",
       "      <td>1.640000e+02</td>\n",
       "      <td>5.000000e+00</td>\n",
       "      <td>2.453466e+06</td>\n",
       "      <td>181.000000</td>\n",
       "      <td>1.000000e+00</td>\n",
       "      <td>3.545250e+01</td>\n",
       "      <td>-9.204304e+01</td>\n",
       "      <td>1.400000e+01</td>\n",
       "    </tr>\n",
       "    <tr>\n",
       "      <th>75%</th>\n",
       "      <td>1.410349e+06</td>\n",
       "      <td>1.910639e+07</td>\n",
       "      <td>2.009000e+03</td>\n",
       "      <td>2.455036e+06</td>\n",
       "      <td>2.300000e+02</td>\n",
       "      <td>9.000000e+00</td>\n",
       "      <td>2.455754e+06</td>\n",
       "      <td>232.000000</td>\n",
       "      <td>3.300000e+00</td>\n",
       "      <td>4.082720e+01</td>\n",
       "      <td>-8.229760e+01</td>\n",
       "      <td>1.400000e+01</td>\n",
       "    </tr>\n",
       "    <tr>\n",
       "      <th>max</th>\n",
       "      <td>1.880465e+06</td>\n",
       "      <td>3.003484e+08</td>\n",
       "      <td>2.015000e+03</td>\n",
       "      <td>2.457388e+06</td>\n",
       "      <td>3.660000e+02</td>\n",
       "      <td>1.300000e+01</td>\n",
       "      <td>2.457392e+06</td>\n",
       "      <td>366.000000</td>\n",
       "      <td>6.069450e+05</td>\n",
       "      <td>7.033060e+01</td>\n",
       "      <td>-6.525694e+01</td>\n",
       "      <td>1.500000e+01</td>\n",
       "    </tr>\n",
       "  </tbody>\n",
       "</table>\n",
       "</div>"
      ],
      "text/plain": [
       "           OBJECTID        FOD_ID     FIRE_YEAR  DISCOVERY_DATE  \\\n",
       "count  1.880465e+06  1.880465e+06  1.880465e+06    1.880465e+06   \n",
       "mean   9.402330e+05  5.484020e+07  2.003710e+03    2.453064e+06   \n",
       "std    5.428436e+05  1.011963e+08  6.663099e+00    2.434573e+03   \n",
       "min    1.000000e+00  1.000000e+00  1.992000e+03    2.448622e+06   \n",
       "25%    4.701170e+05  5.055000e+05  1.998000e+03    2.451084e+06   \n",
       "50%    9.402330e+05  1.067761e+06  2.004000e+03    2.453178e+06   \n",
       "75%    1.410349e+06  1.910639e+07  2.009000e+03    2.455036e+06   \n",
       "max    1.880465e+06  3.003484e+08  2.015000e+03    2.457388e+06   \n",
       "\n",
       "       DISCOVERY_DOY  STAT_CAUSE_CODE     CONT_DATE       CONT_DOY  \\\n",
       "count   1.880465e+06     1.880465e+06  9.889340e+05  988934.000000   \n",
       "mean    1.647191e+02     5.979037e+00  2.453238e+06     172.656766   \n",
       "std     9.003891e+01     3.483860e+00  2.687548e+03      84.320348   \n",
       "min     1.000000e+00     1.000000e+00  2.448622e+06       1.000000   \n",
       "25%     8.900000e+01     3.000000e+00  2.450701e+06     102.000000   \n",
       "50%     1.640000e+02     5.000000e+00  2.453466e+06     181.000000   \n",
       "75%     2.300000e+02     9.000000e+00  2.455754e+06     232.000000   \n",
       "max     3.660000e+02     1.300000e+01  2.457392e+06     366.000000   \n",
       "\n",
       "          FIRE_SIZE      LATITUDE     LONGITUDE    OWNER_CODE  \n",
       "count  1.880465e+06  1.880465e+06  1.880465e+06  1.880465e+06  \n",
       "mean   7.452016e+01  3.678121e+01 -9.570494e+01  1.059658e+01  \n",
       "std    2.497598e+03  6.139031e+00  1.671694e+01  4.404662e+00  \n",
       "min    1.000000e-05  1.793972e+01 -1.788026e+02  0.000000e+00  \n",
       "25%    1.000000e-01  3.281860e+01 -1.103635e+02  8.000000e+00  \n",
       "50%    1.000000e+00  3.545250e+01 -9.204304e+01  1.400000e+01  \n",
       "75%    3.300000e+00  4.082720e+01 -8.229760e+01  1.400000e+01  \n",
       "max    6.069450e+05  7.033060e+01 -6.525694e+01  1.500000e+01  "
      ]
     },
     "execution_count": 75,
     "metadata": {},
     "output_type": "execute_result"
    }
   ],
   "source": [
    "# full_df.describe()"
   ]
  },
  {
   "cell_type": "code",
   "execution_count": 151,
   "id": "formal-tampa",
   "metadata": {},
   "outputs": [
    {
     "name": "stdout",
     "output_type": "stream",
     "text": [
      "   FIRE_YEAR STAT_CAUSE_DESCR   LATITUDE   LONGITUDE STATE  DISCOVERY_DATE  \\\n",
      "0       2005    Miscellaneous  40.036944 -121.005833    CA       2453403.5   \n",
      "1       2004        Lightning  38.933056 -120.404444    CA       2453137.5   \n",
      "2       2004   Debris Burning  38.984167 -120.735556    CA       2453156.5   \n",
      "3       2004        Lightning  38.559167 -119.913333    CA       2453184.5   \n",
      "4       2004        Lightning  38.559167 -119.933056    CA       2453184.5   \n",
      "\n",
      "   DISCOVERY_DOY  FIRE_SIZE  \n",
      "0             33       0.10  \n",
      "1            133       0.25  \n",
      "2            152       0.10  \n",
      "3            180       0.10  \n",
      "4            180       0.10  \n"
     ]
    }
   ],
   "source": [
    "df = pd.read_sql_query(\"SELECT FIRE_YEAR,STAT_CAUSE_DESCR,LATITUDE,LONGITUDE,STATE,DISCOVERY_DATE,DISCOVERY_DOY,FIRE_SIZE FROM 'Fires'\", conn)\n",
    "print(df.head()) "
   ]
  },
  {
   "cell_type": "code",
   "execution_count": 152,
   "id": "behind-sample",
   "metadata": {},
   "outputs": [],
   "source": [
    "#Julian date format to Gregorian date format\n",
    "df['DATE'] = pd.to_datetime(df['DISCOVERY_DATE'] - pd.Timestamp(0).to_julian_date(), unit='D')\n"
   ]
  },
  {
   "cell_type": "code",
   "execution_count": 153,
   "id": "bigger-climate",
   "metadata": {},
   "outputs": [
    {
     "name": "stdout",
     "output_type": "stream",
     "text": [
      "   FIRE_YEAR STAT_CAUSE_DESCR   LATITUDE   LONGITUDE STATE  DISCOVERY_DATE  \\\n",
      "0       2005    Miscellaneous  40.036944 -121.005833    CA       2453403.5   \n",
      "1       2004        Lightning  38.933056 -120.404444    CA       2453137.5   \n",
      "2       2004   Debris Burning  38.984167 -120.735556    CA       2453156.5   \n",
      "3       2004        Lightning  38.559167 -119.913333    CA       2453184.5   \n",
      "4       2004        Lightning  38.559167 -119.933056    CA       2453184.5   \n",
      "\n",
      "   DISCOVERY_DOY  FIRE_SIZE       DATE  \n",
      "0             33       0.10 2005-02-02  \n",
      "1            133       0.25 2004-05-12  \n",
      "2            152       0.10 2004-05-31  \n",
      "3            180       0.10 2004-06-28  \n",
      "4            180       0.10 2004-06-28  \n"
     ]
    }
   ],
   "source": [
    "print(df.head())"
   ]
  },
  {
   "cell_type": "code",
   "execution_count": 154,
   "id": "surprised-storage",
   "metadata": {},
   "outputs": [],
   "source": [
    "df['MONTH'] = pd.DatetimeIndex(df['DATE']).month\n",
    "df['DAY_OF_WEEK'] = df['DATE'].dt.day_name()"
   ]
  },
  {
   "cell_type": "code",
   "execution_count": 155,
   "id": "balanced-opening",
   "metadata": {},
   "outputs": [
    {
     "name": "stdout",
     "output_type": "stream",
     "text": [
      "   FIRE_YEAR STAT_CAUSE_DESCR   LATITUDE   LONGITUDE STATE  DISCOVERY_DATE  \\\n",
      "0       2005    Miscellaneous  40.036944 -121.005833    CA       2453403.5   \n",
      "1       2004        Lightning  38.933056 -120.404444    CA       2453137.5   \n",
      "2       2004   Debris Burning  38.984167 -120.735556    CA       2453156.5   \n",
      "3       2004        Lightning  38.559167 -119.913333    CA       2453184.5   \n",
      "4       2004        Lightning  38.559167 -119.933056    CA       2453184.5   \n",
      "\n",
      "   DISCOVERY_DOY  FIRE_SIZE       DATE  MONTH DAY_OF_WEEK  \n",
      "0             33       0.10 2005-02-02      2   Wednesday  \n",
      "1            133       0.25 2004-05-12      5   Wednesday  \n",
      "2            152       0.10 2004-05-31      5      Monday  \n",
      "3            180       0.10 2004-06-28      6      Monday  \n",
      "4            180       0.10 2004-06-28      6      Monday  \n"
     ]
    }
   ],
   "source": [
    "print(df.head())"
   ]
  },
  {
   "cell_type": "code",
   "execution_count": 156,
   "id": "second-february",
   "metadata": {},
   "outputs": [
    {
     "data": {
      "image/png": "[encoded data removed]",
      "text/plain": [
       "<Figure size 432x288 with 1 Axes>"
      ]
     },
     "metadata": {
      "needs_background": "light"
     },
     "output_type": "display_data"
    }
   ],
   "source": [
    "#causes of fire\n",
    "df['STAT_CAUSE_DESCR'].value_counts().plot(kind='barh',color='coral')\n",
    "plt.show()"
   ]
  },
  {
   "cell_type": "code",
   "execution_count": 157,
   "id": "thermal-content",
   "metadata": {},
   "outputs": [
    {
     "name": "stdout",
     "output_type": "stream",
     "text": [
      "   FIRE_YEAR  STAT_CAUSE_DESCR   LATITUDE   LONGITUDE  STATE  DISCOVERY_DATE  \\\n",
      "0       2005                 7  40.036944 -121.005833      4       2453403.5   \n",
      "1       2004                 6  38.933056 -120.404444      4       2453137.5   \n",
      "2       2004                 3  38.984167 -120.735556      4       2453156.5   \n",
      "3       2004                 6  38.559167 -119.913333      4       2453184.5   \n",
      "4       2004                 6  38.559167 -119.933056      4       2453184.5   \n",
      "\n",
      "   DISCOVERY_DOY  FIRE_SIZE       DATE  MONTH  DAY_OF_WEEK  \n",
      "0             33       0.10 2005-02-02      2            6  \n",
      "1            133       0.25 2004-05-12      5            6  \n",
      "2            152       0.10 2004-05-31      5            1  \n",
      "3            180       0.10 2004-06-28      6            1  \n",
      "4            180       0.10 2004-06-28      6            1  \n"
     ]
    }
   ],
   "source": [
    "le = preprocessing.LabelEncoder()\n",
    "df['STAT_CAUSE_DESCR'] = le.fit_transform(df['STAT_CAUSE_DESCR'])\n",
    "df['STATE'] = le.fit_transform(df['STATE'])\n",
    "df['DAY_OF_WEEK'] = le.fit_transform(df['DAY_OF_WEEK'])\n",
    "df = df.dropna()\n",
    "print(df.head())"
   ]
  },
  {
   "cell_type": "code",
   "execution_count": 158,
   "id": "after-pitch",
   "metadata": {},
   "outputs": [
    {
     "data": {
      "image/png": "[encoded data removed]",
      "text/plain": [
       "<Figure size 720x720 with 1 Axes>"
      ]
     },
     "metadata": {
      "needs_background": "light"
     },
     "output_type": "display_data"
    }
   ],
   "source": [
    "def plot_corr(df,size=10):\n",
    "    corr = df.corr()  #the default method is pearson\n",
    "    fig, ax = plt.subplots(figsize=(size, size))\n",
    "    ax.matshow(corr,cmap=plt.cm.Oranges)\n",
    "    plt.xticks(range(len(corr.columns)), corr.columns)\n",
    "    plt.yticks(range(len(corr.columns)), corr.columns)\n",
    "    for tick in ax.get_xticklabels():\n",
    "        tick.set_rotation(45)    \n",
    "    plt.show()\n",
    "    \n",
    "\n",
    "    \n",
    "plot_corr(df)"
   ]
  },
  {
   "cell_type": "code",
   "execution_count": 159,
   "id": "ecological-multimedia",
   "metadata": {},
   "outputs": [],
   "source": [
    "df = df.drop('DATE',axis=1)"
   ]
  },
  {
   "cell_type": "code",
   "execution_count": 177,
   "id": "dental-socket",
   "metadata": {},
   "outputs": [],
   "source": [
    "df_og = df.copy()"
   ]
  },
  {
   "cell_type": "code",
   "execution_count": 178,
   "id": "spoken-shelter",
   "metadata": {},
   "outputs": [
    {
     "data": {
      "text/html": [
       "<div>\n",
       "<style scoped>\n",
       "    .dataframe tbody tr th:only-of-type {\n",
       "        vertical-align: middle;\n",
       "    }\n",
       "\n",
       "    .dataframe tbody tr th {\n",
       "        vertical-align: top;\n",
       "    }\n",
       "\n",
       "    .dataframe thead th {\n",
       "        text-align: right;\n",
       "    }\n",
       "</style>\n",
       "<table border=\"1\" class=\"dataframe\">\n",
       "  <thead>\n",
       "    <tr style=\"text-align: right;\">\n",
       "      <th></th>\n",
       "      <th>FIRE_YEAR</th>\n",
       "      <th>STAT_CAUSE_DESCR</th>\n",
       "      <th>LATITUDE</th>\n",
       "      <th>LONGITUDE</th>\n",
       "      <th>STATE</th>\n",
       "      <th>DISCOVERY_DATE</th>\n",
       "      <th>DISCOVERY_DOY</th>\n",
       "      <th>FIRE_SIZE</th>\n",
       "      <th>MONTH</th>\n",
       "      <th>DAY_OF_WEEK</th>\n",
       "    </tr>\n",
       "  </thead>\n",
       "  <tbody>\n",
       "    <tr>\n",
       "      <th>0</th>\n",
       "      <td>2005</td>\n",
       "      <td>7</td>\n",
       "      <td>40.036944</td>\n",
       "      <td>-121.005833</td>\n",
       "      <td>4</td>\n",
       "      <td>2453403.5</td>\n",
       "      <td>33</td>\n",
       "      <td>0.10</td>\n",
       "      <td>2</td>\n",
       "      <td>6</td>\n",
       "    </tr>\n",
       "    <tr>\n",
       "      <th>1</th>\n",
       "      <td>2004</td>\n",
       "      <td>6</td>\n",
       "      <td>38.933056</td>\n",
       "      <td>-120.404444</td>\n",
       "      <td>4</td>\n",
       "      <td>2453137.5</td>\n",
       "      <td>133</td>\n",
       "      <td>0.25</td>\n",
       "      <td>5</td>\n",
       "      <td>6</td>\n",
       "    </tr>\n",
       "    <tr>\n",
       "      <th>2</th>\n",
       "      <td>2004</td>\n",
       "      <td>3</td>\n",
       "      <td>38.984167</td>\n",
       "      <td>-120.735556</td>\n",
       "      <td>4</td>\n",
       "      <td>2453156.5</td>\n",
       "      <td>152</td>\n",
       "      <td>0.10</td>\n",
       "      <td>5</td>\n",
       "      <td>1</td>\n",
       "    </tr>\n",
       "    <tr>\n",
       "      <th>3</th>\n",
       "      <td>2004</td>\n",
       "      <td>6</td>\n",
       "      <td>38.559167</td>\n",
       "      <td>-119.913333</td>\n",
       "      <td>4</td>\n",
       "      <td>2453184.5</td>\n",
       "      <td>180</td>\n",
       "      <td>0.10</td>\n",
       "      <td>6</td>\n",
       "      <td>1</td>\n",
       "    </tr>\n",
       "    <tr>\n",
       "      <th>4</th>\n",
       "      <td>2004</td>\n",
       "      <td>6</td>\n",
       "      <td>38.559167</td>\n",
       "      <td>-119.933056</td>\n",
       "      <td>4</td>\n",
       "      <td>2453184.5</td>\n",
       "      <td>180</td>\n",
       "      <td>0.10</td>\n",
       "      <td>6</td>\n",
       "      <td>1</td>\n",
       "    </tr>\n",
       "  </tbody>\n",
       "</table>\n",
       "</div>"
      ],
      "text/plain": [
       "   FIRE_YEAR  STAT_CAUSE_DESCR   LATITUDE   LONGITUDE  STATE  DISCOVERY_DATE  \\\n",
       "0       2005                 7  40.036944 -121.005833      4       2453403.5   \n",
       "1       2004                 6  38.933056 -120.404444      4       2453137.5   \n",
       "2       2004                 3  38.984167 -120.735556      4       2453156.5   \n",
       "3       2004                 6  38.559167 -119.913333      4       2453184.5   \n",
       "4       2004                 6  38.559167 -119.933056      4       2453184.5   \n",
       "\n",
       "   DISCOVERY_DOY  FIRE_SIZE  MONTH  DAY_OF_WEEK  \n",
       "0             33       0.10      2            6  \n",
       "1            133       0.25      5            6  \n",
       "2            152       0.10      5            1  \n",
       "3            180       0.10      6            1  \n",
       "4            180       0.10      6            1  "
      ]
     },
     "execution_count": 178,
     "metadata": {},
     "output_type": "execute_result"
    }
   ],
   "source": [
    "df.head()"
   ]
  },
  {
   "cell_type": "code",
   "execution_count": 179,
   "id": "elder-accommodation",
   "metadata": {},
   "outputs": [
    {
     "data": {
      "text/html": [
       "<div>\n",
       "<style scoped>\n",
       "    .dataframe tbody tr th:only-of-type {\n",
       "        vertical-align: middle;\n",
       "    }\n",
       "\n",
       "    .dataframe tbody tr th {\n",
       "        vertical-align: top;\n",
       "    }\n",
       "\n",
       "    .dataframe thead th {\n",
       "        text-align: right;\n",
       "    }\n",
       "</style>\n",
       "<table border=\"1\" class=\"dataframe\">\n",
       "  <thead>\n",
       "    <tr style=\"text-align: right;\">\n",
       "      <th></th>\n",
       "      <th>FIRE_YEAR</th>\n",
       "      <th>STAT_CAUSE_DESCR</th>\n",
       "      <th>LATITUDE</th>\n",
       "      <th>LONGITUDE</th>\n",
       "      <th>STATE</th>\n",
       "      <th>DISCOVERY_DATE</th>\n",
       "      <th>DISCOVERY_DOY</th>\n",
       "      <th>FIRE_SIZE</th>\n",
       "      <th>MONTH</th>\n",
       "      <th>DAY_OF_WEEK</th>\n",
       "    </tr>\n",
       "  </thead>\n",
       "  <tbody>\n",
       "    <tr>\n",
       "      <th>0</th>\n",
       "      <td>2005</td>\n",
       "      <td>7</td>\n",
       "      <td>40.036944</td>\n",
       "      <td>-121.005833</td>\n",
       "      <td>4</td>\n",
       "      <td>2453403.5</td>\n",
       "      <td>33</td>\n",
       "      <td>0.10</td>\n",
       "      <td>2</td>\n",
       "      <td>6</td>\n",
       "    </tr>\n",
       "    <tr>\n",
       "      <th>1</th>\n",
       "      <td>2004</td>\n",
       "      <td>6</td>\n",
       "      <td>38.933056</td>\n",
       "      <td>-120.404444</td>\n",
       "      <td>4</td>\n",
       "      <td>2453137.5</td>\n",
       "      <td>133</td>\n",
       "      <td>0.25</td>\n",
       "      <td>5</td>\n",
       "      <td>6</td>\n",
       "    </tr>\n",
       "    <tr>\n",
       "      <th>2</th>\n",
       "      <td>2004</td>\n",
       "      <td>3</td>\n",
       "      <td>38.984167</td>\n",
       "      <td>-120.735556</td>\n",
       "      <td>4</td>\n",
       "      <td>2453156.5</td>\n",
       "      <td>152</td>\n",
       "      <td>0.10</td>\n",
       "      <td>5</td>\n",
       "      <td>1</td>\n",
       "    </tr>\n",
       "    <tr>\n",
       "      <th>3</th>\n",
       "      <td>2004</td>\n",
       "      <td>6</td>\n",
       "      <td>38.559167</td>\n",
       "      <td>-119.913333</td>\n",
       "      <td>4</td>\n",
       "      <td>2453184.5</td>\n",
       "      <td>180</td>\n",
       "      <td>0.10</td>\n",
       "      <td>6</td>\n",
       "      <td>1</td>\n",
       "    </tr>\n",
       "    <tr>\n",
       "      <th>4</th>\n",
       "      <td>2004</td>\n",
       "      <td>6</td>\n",
       "      <td>38.559167</td>\n",
       "      <td>-119.933056</td>\n",
       "      <td>4</td>\n",
       "      <td>2453184.5</td>\n",
       "      <td>180</td>\n",
       "      <td>0.10</td>\n",
       "      <td>6</td>\n",
       "      <td>1</td>\n",
       "    </tr>\n",
       "  </tbody>\n",
       "</table>\n",
       "</div>"
      ],
      "text/plain": [
       "   FIRE_YEAR  STAT_CAUSE_DESCR   LATITUDE   LONGITUDE  STATE  DISCOVERY_DATE  \\\n",
       "0       2005                 7  40.036944 -121.005833      4       2453403.5   \n",
       "1       2004                 6  38.933056 -120.404444      4       2453137.5   \n",
       "2       2004                 3  38.984167 -120.735556      4       2453156.5   \n",
       "3       2004                 6  38.559167 -119.913333      4       2453184.5   \n",
       "4       2004                 6  38.559167 -119.933056      4       2453184.5   \n",
       "\n",
       "   DISCOVERY_DOY  FIRE_SIZE  MONTH  DAY_OF_WEEK  \n",
       "0             33       0.10      2            6  \n",
       "1            133       0.25      5            6  \n",
       "2            152       0.10      5            1  \n",
       "3            180       0.10      6            1  \n",
       "4            180       0.10      6            1  "
      ]
     },
     "execution_count": 179,
     "metadata": {},
     "output_type": "execute_result"
    }
   ],
   "source": [
    "df_og.head()"
   ]
  },
  {
   "cell_type": "code",
   "execution_count": 190,
   "id": "determined-drove",
   "metadata": {},
   "outputs": [],
   "source": [
    "df_drop_month_fy = df.drop('MONTH',axis=1)\n",
    "df_drop_month_fy = df_drop_month_fy.drop('FIRE_YEAR',axis=1)"
   ]
  },
  {
   "cell_type": "code",
   "execution_count": 191,
   "id": "successful-tourism",
   "metadata": {},
   "outputs": [
    {
     "data": {
      "text/html": [
       "<div>\n",
       "<style scoped>\n",
       "    .dataframe tbody tr th:only-of-type {\n",
       "        vertical-align: middle;\n",
       "    }\n",
       "\n",
       "    .dataframe tbody tr th {\n",
       "        vertical-align: top;\n",
       "    }\n",
       "\n",
       "    .dataframe thead th {\n",
       "        text-align: right;\n",
       "    }\n",
       "</style>\n",
       "<table border=\"1\" class=\"dataframe\">\n",
       "  <thead>\n",
       "    <tr style=\"text-align: right;\">\n",
       "      <th></th>\n",
       "      <th>STAT_CAUSE_DESCR</th>\n",
       "      <th>LATITUDE</th>\n",
       "      <th>LONGITUDE</th>\n",
       "      <th>STATE</th>\n",
       "      <th>DISCOVERY_DATE</th>\n",
       "      <th>DISCOVERY_DOY</th>\n",
       "      <th>FIRE_SIZE</th>\n",
       "      <th>DAY_OF_WEEK</th>\n",
       "    </tr>\n",
       "  </thead>\n",
       "  <tbody>\n",
       "    <tr>\n",
       "      <th>0</th>\n",
       "      <td>7</td>\n",
       "      <td>40.036944</td>\n",
       "      <td>-121.005833</td>\n",
       "      <td>4</td>\n",
       "      <td>2453403.5</td>\n",
       "      <td>33</td>\n",
       "      <td>0.10</td>\n",
       "      <td>6</td>\n",
       "    </tr>\n",
       "    <tr>\n",
       "      <th>1</th>\n",
       "      <td>6</td>\n",
       "      <td>38.933056</td>\n",
       "      <td>-120.404444</td>\n",
       "      <td>4</td>\n",
       "      <td>2453137.5</td>\n",
       "      <td>133</td>\n",
       "      <td>0.25</td>\n",
       "      <td>6</td>\n",
       "    </tr>\n",
       "    <tr>\n",
       "      <th>2</th>\n",
       "      <td>3</td>\n",
       "      <td>38.984167</td>\n",
       "      <td>-120.735556</td>\n",
       "      <td>4</td>\n",
       "      <td>2453156.5</td>\n",
       "      <td>152</td>\n",
       "      <td>0.10</td>\n",
       "      <td>1</td>\n",
       "    </tr>\n",
       "    <tr>\n",
       "      <th>3</th>\n",
       "      <td>6</td>\n",
       "      <td>38.559167</td>\n",
       "      <td>-119.913333</td>\n",
       "      <td>4</td>\n",
       "      <td>2453184.5</td>\n",
       "      <td>180</td>\n",
       "      <td>0.10</td>\n",
       "      <td>1</td>\n",
       "    </tr>\n",
       "    <tr>\n",
       "      <th>4</th>\n",
       "      <td>6</td>\n",
       "      <td>38.559167</td>\n",
       "      <td>-119.933056</td>\n",
       "      <td>4</td>\n",
       "      <td>2453184.5</td>\n",
       "      <td>180</td>\n",
       "      <td>0.10</td>\n",
       "      <td>1</td>\n",
       "    </tr>\n",
       "  </tbody>\n",
       "</table>\n",
       "</div>"
      ],
      "text/plain": [
       "   STAT_CAUSE_DESCR   LATITUDE   LONGITUDE  STATE  DISCOVERY_DATE  \\\n",
       "0                 7  40.036944 -121.005833      4       2453403.5   \n",
       "1                 6  38.933056 -120.404444      4       2453137.5   \n",
       "2                 3  38.984167 -120.735556      4       2453156.5   \n",
       "3                 6  38.559167 -119.913333      4       2453184.5   \n",
       "4                 6  38.559167 -119.933056      4       2453184.5   \n",
       "\n",
       "   DISCOVERY_DOY  FIRE_SIZE  DAY_OF_WEEK  \n",
       "0             33       0.10            6  \n",
       "1            133       0.25            6  \n",
       "2            152       0.10            1  \n",
       "3            180       0.10            1  \n",
       "4            180       0.10            1  "
      ]
     },
     "execution_count": 191,
     "metadata": {},
     "output_type": "execute_result"
    }
   ],
   "source": [
    "df_drop_month_fy.head()"
   ]
  },
  {
   "cell_type": "code",
   "execution_count": 192,
   "id": "recovered-england",
   "metadata": {},
   "outputs": [],
   "source": [
    "X_month_fy = df_drop_month.drop(['STAT_CAUSE_DESCR'], axis=1).values\n",
    "y_moth_fy = df['STAT_CAUSE_DESCR'].values"
   ]
  },
  {
   "cell_type": "code",
   "execution_count": 193,
   "id": "convenient-robert",
   "metadata": {},
   "outputs": [
    {
     "name": "stdout",
     "output_type": "stream",
     "text": [
      "0.5494419474301078\n"
     ]
    }
   ],
   "source": [
    "X_train_75, X_test_25, y_train_75, y_test_25 = train_test_split(X_month_fy,y_moth_fy,test_size=0.25, random_state=0)\n",
    "#The Decision tree model\n",
    "clf_dt = tree.DecisionTreeClassifier(random_state=0, max_depth=20)\n",
    "clf_dt = clf_dt.fit(X_train_75, y_train_75)\n",
    "print(clf_dt.score(X_test_25,y_test_25))"
   ]
  },
  {
   "cell_type": "code",
   "execution_count": 194,
   "id": "turkish-paradise",
   "metadata": {},
   "outputs": [
    {
     "name": "stdout",
     "output_type": "stream",
     "text": [
      "0.5868794363956207\n"
     ]
    }
   ],
   "source": [
    "clf_rf = ske.RandomForestClassifier(n_estimators=50)\n",
    "clf_rf = clf_rf.fit(X_train_75, y_train_75)\n",
    "print(clf_rf.score(X_test_25,y_test_25))"
   ]
  },
  {
   "cell_type": "code",
   "execution_count": 185,
   "id": "little-dance",
   "metadata": {},
   "outputs": [],
   "source": [
    "# df_drop_doy_fy = df.drop('DISCOVERY_DOY',axis=1)\n",
    "# df_drop_doy_fy = df_drop_doy_fy.drop('FIRE_YEAR',axis=1)"
   ]
  },
  {
   "cell_type": "code",
   "execution_count": 186,
   "id": "reflected-membrane",
   "metadata": {},
   "outputs": [
    {
     "data": {
      "text/html": [
       "<div>\n",
       "<style scoped>\n",
       "    .dataframe tbody tr th:only-of-type {\n",
       "        vertical-align: middle;\n",
       "    }\n",
       "\n",
       "    .dataframe tbody tr th {\n",
       "        vertical-align: top;\n",
       "    }\n",
       "\n",
       "    .dataframe thead th {\n",
       "        text-align: right;\n",
       "    }\n",
       "</style>\n",
       "<table border=\"1\" class=\"dataframe\">\n",
       "  <thead>\n",
       "    <tr style=\"text-align: right;\">\n",
       "      <th></th>\n",
       "      <th>STAT_CAUSE_DESCR</th>\n",
       "      <th>LATITUDE</th>\n",
       "      <th>LONGITUDE</th>\n",
       "      <th>STATE</th>\n",
       "      <th>DISCOVERY_DATE</th>\n",
       "      <th>FIRE_SIZE</th>\n",
       "      <th>MONTH</th>\n",
       "      <th>DAY_OF_WEEK</th>\n",
       "    </tr>\n",
       "  </thead>\n",
       "  <tbody>\n",
       "    <tr>\n",
       "      <th>0</th>\n",
       "      <td>7</td>\n",
       "      <td>40.036944</td>\n",
       "      <td>-121.005833</td>\n",
       "      <td>4</td>\n",
       "      <td>2453403.5</td>\n",
       "      <td>0.10</td>\n",
       "      <td>2</td>\n",
       "      <td>6</td>\n",
       "    </tr>\n",
       "    <tr>\n",
       "      <th>1</th>\n",
       "      <td>6</td>\n",
       "      <td>38.933056</td>\n",
       "      <td>-120.404444</td>\n",
       "      <td>4</td>\n",
       "      <td>2453137.5</td>\n",
       "      <td>0.25</td>\n",
       "      <td>5</td>\n",
       "      <td>6</td>\n",
       "    </tr>\n",
       "    <tr>\n",
       "      <th>2</th>\n",
       "      <td>3</td>\n",
       "      <td>38.984167</td>\n",
       "      <td>-120.735556</td>\n",
       "      <td>4</td>\n",
       "      <td>2453156.5</td>\n",
       "      <td>0.10</td>\n",
       "      <td>5</td>\n",
       "      <td>1</td>\n",
       "    </tr>\n",
       "    <tr>\n",
       "      <th>3</th>\n",
       "      <td>6</td>\n",
       "      <td>38.559167</td>\n",
       "      <td>-119.913333</td>\n",
       "      <td>4</td>\n",
       "      <td>2453184.5</td>\n",
       "      <td>0.10</td>\n",
       "      <td>6</td>\n",
       "      <td>1</td>\n",
       "    </tr>\n",
       "    <tr>\n",
       "      <th>4</th>\n",
       "      <td>6</td>\n",
       "      <td>38.559167</td>\n",
       "      <td>-119.933056</td>\n",
       "      <td>4</td>\n",
       "      <td>2453184.5</td>\n",
       "      <td>0.10</td>\n",
       "      <td>6</td>\n",
       "      <td>1</td>\n",
       "    </tr>\n",
       "  </tbody>\n",
       "</table>\n",
       "</div>"
      ],
      "text/plain": [
       "   STAT_CAUSE_DESCR   LATITUDE   LONGITUDE  STATE  DISCOVERY_DATE  FIRE_SIZE  \\\n",
       "0                 7  40.036944 -121.005833      4       2453403.5       0.10   \n",
       "1                 6  38.933056 -120.404444      4       2453137.5       0.25   \n",
       "2                 3  38.984167 -120.735556      4       2453156.5       0.10   \n",
       "3                 6  38.559167 -119.913333      4       2453184.5       0.10   \n",
       "4                 6  38.559167 -119.933056      4       2453184.5       0.10   \n",
       "\n",
       "   MONTH  DAY_OF_WEEK  \n",
       "0      2            6  \n",
       "1      5            6  \n",
       "2      5            1  \n",
       "3      6            1  \n",
       "4      6            1  "
      ]
     },
     "execution_count": 186,
     "metadata": {},
     "output_type": "execute_result"
    }
   ],
   "source": [
    "# df_drop_doy_fy.head()"
   ]
  },
  {
   "cell_type": "code",
   "execution_count": 188,
   "id": "initial-listening",
   "metadata": {},
   "outputs": [],
   "source": [
    "# X_doy_fy = df_drop_doy_fy.drop(['STAT_CAUSE_DESCR'], axis=1).values\n",
    "# y_doy_fy = df['STAT_CAUSE_DESCR'].values"
   ]
  },
  {
   "cell_type": "code",
   "execution_count": 189,
   "id": "cutting-unknown",
   "metadata": {},
   "outputs": [
    {
     "name": "stdout",
     "output_type": "stream",
     "text": [
      "0.5494185489995044\n"
     ]
    }
   ],
   "source": [
    "# X_train_75, X_test_25, y_train_75, y_test_25 = train_test_split(X_doy_fy,y_doy_fy,test_size=0.25, random_state=0)\n",
    "# #The Decision tree model\n",
    "# clf_dt = tree.DecisionTreeClassifier(random_state=0, max_depth=20)\n",
    "# clf_dt = clf_dt.fit(X_train_75, y_train_75)\n",
    "# print(clf_dt.score(X_test_25,y_test_25))"
   ]
  },
  {
   "cell_type": "code",
   "execution_count": 201,
   "id": "explicit-loading",
   "metadata": {},
   "outputs": [],
   "source": [
    "df_drop_month_fy_4 = df_og.copy()\n",
    "df_drop_month_fy_4 = df_drop_month_fy_4.drop('MONTH',axis=1)\n",
    "df_drop_month_fy_4 = df_drop_month_fy_4.drop('FIRE_YEAR',axis=1)\n",
    "df_drop_month_fy_4.head();"
   ]
  },
  {
   "cell_type": "code",
   "execution_count": 202,
   "id": "great-debut",
   "metadata": {},
   "outputs": [
    {
     "name": "stdout",
     "output_type": "stream",
     "text": [
      "    LATITUDE   LONGITUDE  STATE  DISCOVERY_DATE  DISCOVERY_DOY  FIRE_SIZE  \\\n",
      "0  40.036944 -121.005833      4       2453403.5             33       0.10   \n",
      "1  38.933056 -120.404444      4       2453137.5            133       0.25   \n",
      "2  38.984167 -120.735556      4       2453156.5            152       0.10   \n",
      "3  38.559167 -119.913333      4       2453184.5            180       0.10   \n",
      "4  38.559167 -119.933056      4       2453184.5            180       0.10   \n",
      "\n",
      "   DAY_OF_WEEK  LABEL  \n",
      "0            6      4  \n",
      "1            6      4  \n",
      "2            1      4  \n",
      "3            1      4  \n",
      "4            1      4  \n"
     ]
    }
   ],
   "source": [
    "#Putting all the causes into 4 different categories, since there are so many of them. \n",
    "def set_label(cat):\n",
    "    cause = 0\n",
    "    natural = ['Lightning']\n",
    "    accidental = ['Structure','Fireworks','Powerline','Railroad','Smoking','Children','Campfire','Equipment Use','Debris Burning']\n",
    "    malicious = ['Arson']\n",
    "    other = ['Missing/Undefined','Miscellaneous']\n",
    "    if cat in natural:\n",
    "        cause = 1\n",
    "    elif cat in accidental:\n",
    "        cause = 2\n",
    "    elif cat in malicious:\n",
    "        cause = 3\n",
    "    else:\n",
    "        cause = 4\n",
    "    return cause\n",
    "\n",
    "df_drop_month_fy_4['LABEL'] = df_drop_month_fy_4['STAT_CAUSE_DESCR'].apply(lambda x: set_label(x)) # I created a copy of the original df earlier in the kernel\n",
    "df_drop_month_fy_4 = df_drop_month_fy_4.drop('STAT_CAUSE_DESCR',axis=1)\n",
    "print(df_drop_month_fy_4.head())\n",
    "#The new categories are: \"natural, accidental, malicious and other\""
   ]
  },
  {
   "cell_type": "code",
   "execution_count": 203,
   "id": "characteristic-sphere",
   "metadata": {},
   "outputs": [],
   "source": [
    "#This time we want to predict 'Label'. Splitting the dataset into train and test sets once again.\n",
    "X_label = df_drop_month_fy_4.drop(['LABEL'], axis=1).values\n",
    "y_label = df_drop_month_fy_4['LABEL'].values\n",
    "X_train_4, X_test_4, y_train_4, y_test_4 = train_test_split(X_label,y_label,test_size=0.25, random_state=0)"
   ]
  },
  {
   "cell_type": "code",
   "execution_count": 204,
   "id": "southern-forty",
   "metadata": {},
   "outputs": [
    {
     "name": "stdout",
     "output_type": "stream",
     "text": [
      "1.0\n"
     ]
    }
   ],
   "source": [
    "#The Decision tree model\n",
    "clf_dt_label = tree.DecisionTreeClassifier(random_state=0, max_depth=30)\n",
    "clf_dt_label = clf_dt_label.fit(X_train_4, y_train_4)\n",
    "print(clf_dt_label.score(X_test_4,y_test_4))"
   ]
  },
  {
   "cell_type": "code",
   "execution_count": 205,
   "id": "satisfied-algorithm",
   "metadata": {},
   "outputs": [
    {
     "name": "stdout",
     "output_type": "stream",
     "text": [
      "1.0\n"
     ]
    }
   ],
   "source": [
    "clf_rf_4 = ske.RandomForestClassifier(n_estimators=50)\n",
    "clf_rf_4 = clf_rf_4.fit(X_train_4, y_train_4)\n",
    "print(clf_rf_4.score(X_test_4,y_test_4))"
   ]
  },
  {
   "cell_type": "code",
   "execution_count": null,
   "id": "seeing-strengthening",
   "metadata": {},
   "outputs": [],
   "source": []
  }
 ],
 "metadata": {
  "kernelspec": {
   "display_name": "Python 3",
   "language": "python",
   "name": "python3"
  },
  "language_info": {
   "codemirror_mode": {
    "name": "ipython",
    "version": 3
   },
   "file_extension": ".py",
   "mimetype": "text/x-python",
   "name": "python",
   "nbconvert_exporter": "python",
   "pygments_lexer": "ipython3",
   "version": "3.9.4"
  }
 },
 "nbformat": 4,
 "nbformat_minor": 5
}
