{
 "cells": [
  {
   "cell_type": "code",
   "execution_count": 327,
   "id": "logical-measure",
   "metadata": {},
   "outputs": [],
   "source": [
    "import sqlite3\n",
    "import pandas as pd\n",
    "import numpy as np\n",
    "import matplotlib.pyplot as plt\n",
    "\n",
    "from sklearn import tree, preprocessing\n",
    "import sklearn.ensemble as ske\n",
    "from sklearn.model_selection import train_test_split\n",
    "\n",
    "\n",
    "import xgboost as xgb"
   ]
  },
  {
   "cell_type": "code",
   "execution_count": 328,
   "id": "artistic-mobile",
   "metadata": {},
   "outputs": [],
   "source": [
    "conn = sqlite3.connect('RDS-2013-0009.4_SQLITE/Data/FPA_FOD_20170508.sqlite')"
   ]
  },
  {
   "cell_type": "code",
   "execution_count": 329,
   "id": "bizarre-communist",
   "metadata": {},
   "outputs": [],
   "source": [
    "# full_df = pd.read_sql_query(\"SELECT * FROM 'Fires'\", conn)\n",
    "# print(full_df.head()) "
   ]
  },
  {
   "cell_type": "code",
   "execution_count": 330,
   "id": "changing-holder",
   "metadata": {},
   "outputs": [],
   "source": [
    "# print(full_df.columns)\n",
    "# full_df['DATE'] = pd.to_datetime(full_df['DISCOVERY_DATE'] - pd.Timestamp(0).to_julian_date(), unit='D')"
   ]
  },
  {
   "cell_type": "code",
   "execution_count": 331,
   "id": "increasing-resistance",
   "metadata": {},
   "outputs": [],
   "source": [
    "# full_df.describe()"
   ]
  },
  {
   "cell_type": "code",
   "execution_count": 332,
   "id": "handmade-parallel",
   "metadata": {},
   "outputs": [
    {
     "name": "stdout",
     "output_type": "stream",
     "text": [
      "   FIRE_YEAR STAT_CAUSE_DESCR   LATITUDE   LONGITUDE STATE  DISCOVERY_DATE  \\\n",
      "0       2005    Miscellaneous  40.036944 -121.005833    CA       2453403.5   \n",
      "1       2004        Lightning  38.933056 -120.404444    CA       2453137.5   \n",
      "2       2004   Debris Burning  38.984167 -120.735556    CA       2453156.5   \n",
      "3       2004        Lightning  38.559167 -119.913333    CA       2453184.5   \n",
      "4       2004        Lightning  38.559167 -119.933056    CA       2453184.5   \n",
      "\n",
      "   DISCOVERY_DOY  FIRE_SIZE  \n",
      "0             33       0.10  \n",
      "1            133       0.25  \n",
      "2            152       0.10  \n",
      "3            180       0.10  \n",
      "4            180       0.10  \n"
     ]
    }
   ],
   "source": [
    "df = pd.read_sql_query(\"SELECT FIRE_YEAR,STAT_CAUSE_DESCR,LATITUDE,LONGITUDE,STATE,DISCOVERY_DATE,DISCOVERY_DOY,FIRE_SIZE FROM 'Fires'\", conn)\n",
    "print(df.head()) "
   ]
  },
  {
   "cell_type": "code",
   "execution_count": 333,
   "id": "micro-savannah",
   "metadata": {},
   "outputs": [],
   "source": [
    "#Julian date format to Gregorian date format\n",
    "df['DATE'] = pd.to_datetime(df['DISCOVERY_DATE'] - pd.Timestamp(0).to_julian_date(), unit='D')\n"
   ]
  },
  {
   "cell_type": "code",
   "execution_count": 334,
   "id": "offensive-retail",
   "metadata": {},
   "outputs": [
    {
     "name": "stdout",
     "output_type": "stream",
     "text": [
      "   FIRE_YEAR STAT_CAUSE_DESCR   LATITUDE   LONGITUDE STATE  DISCOVERY_DATE  \\\n",
      "0       2005    Miscellaneous  40.036944 -121.005833    CA       2453403.5   \n",
      "1       2004        Lightning  38.933056 -120.404444    CA       2453137.5   \n",
      "2       2004   Debris Burning  38.984167 -120.735556    CA       2453156.5   \n",
      "3       2004        Lightning  38.559167 -119.913333    CA       2453184.5   \n",
      "4       2004        Lightning  38.559167 -119.933056    CA       2453184.5   \n",
      "\n",
      "   DISCOVERY_DOY  FIRE_SIZE       DATE  \n",
      "0             33       0.10 2005-02-02  \n",
      "1            133       0.25 2004-05-12  \n",
      "2            152       0.10 2004-05-31  \n",
      "3            180       0.10 2004-06-28  \n",
      "4            180       0.10 2004-06-28  \n"
     ]
    }
   ],
   "source": [
    "print(df.head())"
   ]
  },
  {
   "cell_type": "code",
   "execution_count": 335,
   "id": "focal-greek",
   "metadata": {},
   "outputs": [],
   "source": [
    "df['MONTH'] = pd.DatetimeIndex(df['DATE']).month\n",
    "df['DAY_OF_WEEK'] = df['DATE'].dt.day_name()"
   ]
  },
  {
   "cell_type": "code",
   "execution_count": 336,
   "id": "valuable-event",
   "metadata": {},
   "outputs": [
    {
     "name": "stdout",
     "output_type": "stream",
     "text": [
      "   FIRE_YEAR STAT_CAUSE_DESCR   LATITUDE   LONGITUDE STATE  DISCOVERY_DATE  \\\n",
      "0       2005    Miscellaneous  40.036944 -121.005833    CA       2453403.5   \n",
      "1       2004        Lightning  38.933056 -120.404444    CA       2453137.5   \n",
      "2       2004   Debris Burning  38.984167 -120.735556    CA       2453156.5   \n",
      "3       2004        Lightning  38.559167 -119.913333    CA       2453184.5   \n",
      "4       2004        Lightning  38.559167 -119.933056    CA       2453184.5   \n",
      "\n",
      "   DISCOVERY_DOY  FIRE_SIZE       DATE  MONTH DAY_OF_WEEK  \n",
      "0             33       0.10 2005-02-02      2   Wednesday  \n",
      "1            133       0.25 2004-05-12      5   Wednesday  \n",
      "2            152       0.10 2004-05-31      5      Monday  \n",
      "3            180       0.10 2004-06-28      6      Monday  \n",
      "4            180       0.10 2004-06-28      6      Monday  \n"
     ]
    }
   ],
   "source": [
    "print(df.head())"
   ]
  },
  {
   "cell_type": "code",
   "execution_count": 337,
   "id": "republican-skiing",
   "metadata": {},
   "outputs": [
    {
     "data": {
      "image/png": "[encoded data removed]",
      "text/plain": [
       "<Figure size 432x288 with 1 Axes>"
      ]
     },
     "metadata": {
      "needs_background": "light"
     },
     "output_type": "display_data"
    }
   ],
   "source": [
    "#causes of fire\n",
    "df['STAT_CAUSE_DESCR'].value_counts().plot(kind='barh',color='coral')\n",
    "plt.show()"
   ]
  },
  {
   "cell_type": "code",
   "execution_count": 338,
   "id": "african-biodiversity",
   "metadata": {},
   "outputs": [
    {
     "name": "stdout",
     "output_type": "stream",
     "text": [
      "   FIRE_YEAR STAT_CAUSE_DESCR   LATITUDE   LONGITUDE  STATE  DISCOVERY_DATE  \\\n",
      "0       2005    Miscellaneous  40.036944 -121.005833      4       2453403.5   \n",
      "1       2004        Lightning  38.933056 -120.404444      4       2453137.5   \n",
      "2       2004   Debris Burning  38.984167 -120.735556      4       2453156.5   \n",
      "3       2004        Lightning  38.559167 -119.913333      4       2453184.5   \n",
      "4       2004        Lightning  38.559167 -119.933056      4       2453184.5   \n",
      "\n",
      "   DISCOVERY_DOY  FIRE_SIZE       DATE  MONTH  DAY_OF_WEEK  \n",
      "0             33       0.10 2005-02-02      2            6  \n",
      "1            133       0.25 2004-05-12      5            6  \n",
      "2            152       0.10 2004-05-31      5            1  \n",
      "3            180       0.10 2004-06-28      6            1  \n",
      "4            180       0.10 2004-06-28      6            1  \n"
     ]
    }
   ],
   "source": [
    "le = preprocessing.LabelEncoder()\n",
    "df['STATE'] = le.fit_transform(df['STATE'])\n",
    "df['DAY_OF_WEEK'] = le.fit_transform(df['DAY_OF_WEEK'])\n",
    "df = df.dropna()\n",
    "print(df.head())"
   ]
  },
  {
   "cell_type": "code",
   "execution_count": 339,
   "id": "extended-harvard",
   "metadata": {},
   "outputs": [
    {
     "data": {
      "image/png": "[encoded data removed]",
      "text/plain": [
       "<Figure size 720x720 with 1 Axes>"
      ]
     },
     "metadata": {
      "needs_background": "light"
     },
     "output_type": "display_data"
    }
   ],
   "source": [
    "def plot_corr(df,size=10):\n",
    "    corr = df.corr()  #the default method is pearson\n",
    "    fig, ax = plt.subplots(figsize=(size, size))\n",
    "    ax.matshow(corr,cmap=plt.cm.Oranges)\n",
    "    plt.xticks(range(len(corr.columns)), corr.columns)\n",
    "    plt.yticks(range(len(corr.columns)), corr.columns)\n",
    "    for tick in ax.get_xticklabels():\n",
    "        tick.set_rotation(45)    \n",
    "    plt.show()\n",
    "    \n",
    "\n",
    "    \n",
    "plot_corr(df)"
   ]
  },
  {
   "cell_type": "code",
   "execution_count": 340,
   "id": "numerous-external",
   "metadata": {},
   "outputs": [],
   "source": [
    "df_drop_date = df.drop('DATE',axis=1)"
   ]
  },
  {
   "cell_type": "code",
   "execution_count": 341,
   "id": "periodic-payroll",
   "metadata": {},
   "outputs": [],
   "source": [
    "df_og = df_drop_date.copy()"
   ]
  },
  {
   "cell_type": "code",
   "execution_count": 342,
   "id": "mechanical-catholic",
   "metadata": {},
   "outputs": [
    {
     "data": {
      "text/html": [
       "<div>\n",
       "<style scoped>\n",
       "    .dataframe tbody tr th:only-of-type {\n",
       "        vertical-align: middle;\n",
       "    }\n",
       "\n",
       "    .dataframe tbody tr th {\n",
       "        vertical-align: top;\n",
       "    }\n",
       "\n",
       "    .dataframe thead th {\n",
       "        text-align: right;\n",
       "    }\n",
       "</style>\n",
       "<table border=\"1\" class=\"dataframe\">\n",
       "  <thead>\n",
       "    <tr style=\"text-align: right;\">\n",
       "      <th></th>\n",
       "      <th>FIRE_YEAR</th>\n",
       "      <th>STAT_CAUSE_DESCR</th>\n",
       "      <th>LATITUDE</th>\n",
       "      <th>LONGITUDE</th>\n",
       "      <th>STATE</th>\n",
       "      <th>DISCOVERY_DATE</th>\n",
       "      <th>DISCOVERY_DOY</th>\n",
       "      <th>FIRE_SIZE</th>\n",
       "      <th>MONTH</th>\n",
       "      <th>DAY_OF_WEEK</th>\n",
       "    </tr>\n",
       "  </thead>\n",
       "  <tbody>\n",
       "    <tr>\n",
       "      <th>0</th>\n",
       "      <td>2005</td>\n",
       "      <td>Miscellaneous</td>\n",
       "      <td>40.036944</td>\n",
       "      <td>-121.005833</td>\n",
       "      <td>4</td>\n",
       "      <td>2453403.5</td>\n",
       "      <td>33</td>\n",
       "      <td>0.10</td>\n",
       "      <td>2</td>\n",
       "      <td>6</td>\n",
       "    </tr>\n",
       "    <tr>\n",
       "      <th>1</th>\n",
       "      <td>2004</td>\n",
       "      <td>Lightning</td>\n",
       "      <td>38.933056</td>\n",
       "      <td>-120.404444</td>\n",
       "      <td>4</td>\n",
       "      <td>2453137.5</td>\n",
       "      <td>133</td>\n",
       "      <td>0.25</td>\n",
       "      <td>5</td>\n",
       "      <td>6</td>\n",
       "    </tr>\n",
       "    <tr>\n",
       "      <th>2</th>\n",
       "      <td>2004</td>\n",
       "      <td>Debris Burning</td>\n",
       "      <td>38.984167</td>\n",
       "      <td>-120.735556</td>\n",
       "      <td>4</td>\n",
       "      <td>2453156.5</td>\n",
       "      <td>152</td>\n",
       "      <td>0.10</td>\n",
       "      <td>5</td>\n",
       "      <td>1</td>\n",
       "    </tr>\n",
       "    <tr>\n",
       "      <th>3</th>\n",
       "      <td>2004</td>\n",
       "      <td>Lightning</td>\n",
       "      <td>38.559167</td>\n",
       "      <td>-119.913333</td>\n",
       "      <td>4</td>\n",
       "      <td>2453184.5</td>\n",
       "      <td>180</td>\n",
       "      <td>0.10</td>\n",
       "      <td>6</td>\n",
       "      <td>1</td>\n",
       "    </tr>\n",
       "    <tr>\n",
       "      <th>4</th>\n",
       "      <td>2004</td>\n",
       "      <td>Lightning</td>\n",
       "      <td>38.559167</td>\n",
       "      <td>-119.933056</td>\n",
       "      <td>4</td>\n",
       "      <td>2453184.5</td>\n",
       "      <td>180</td>\n",
       "      <td>0.10</td>\n",
       "      <td>6</td>\n",
       "      <td>1</td>\n",
       "    </tr>\n",
       "  </tbody>\n",
       "</table>\n",
       "</div>"
      ],
      "text/plain": [
       "   FIRE_YEAR STAT_CAUSE_DESCR   LATITUDE   LONGITUDE  STATE  DISCOVERY_DATE  \\\n",
       "0       2005    Miscellaneous  40.036944 -121.005833      4       2453403.5   \n",
       "1       2004        Lightning  38.933056 -120.404444      4       2453137.5   \n",
       "2       2004   Debris Burning  38.984167 -120.735556      4       2453156.5   \n",
       "3       2004        Lightning  38.559167 -119.913333      4       2453184.5   \n",
       "4       2004        Lightning  38.559167 -119.933056      4       2453184.5   \n",
       "\n",
       "   DISCOVERY_DOY  FIRE_SIZE  MONTH  DAY_OF_WEEK  \n",
       "0             33       0.10      2            6  \n",
       "1            133       0.25      5            6  \n",
       "2            152       0.10      5            1  \n",
       "3            180       0.10      6            1  \n",
       "4            180       0.10      6            1  "
      ]
     },
     "execution_count": 342,
     "metadata": {},
     "output_type": "execute_result"
    }
   ],
   "source": [
    "df_drop_date.head()"
   ]
  },
  {
   "cell_type": "code",
   "execution_count": 343,
   "id": "narrative-impact",
   "metadata": {},
   "outputs": [
    {
     "data": {
      "text/html": [
       "<div>\n",
       "<style scoped>\n",
       "    .dataframe tbody tr th:only-of-type {\n",
       "        vertical-align: middle;\n",
       "    }\n",
       "\n",
       "    .dataframe tbody tr th {\n",
       "        vertical-align: top;\n",
       "    }\n",
       "\n",
       "    .dataframe thead th {\n",
       "        text-align: right;\n",
       "    }\n",
       "</style>\n",
       "<table border=\"1\" class=\"dataframe\">\n",
       "  <thead>\n",
       "    <tr style=\"text-align: right;\">\n",
       "      <th></th>\n",
       "      <th>FIRE_YEAR</th>\n",
       "      <th>STAT_CAUSE_DESCR</th>\n",
       "      <th>LATITUDE</th>\n",
       "      <th>LONGITUDE</th>\n",
       "      <th>STATE</th>\n",
       "      <th>DISCOVERY_DATE</th>\n",
       "      <th>DISCOVERY_DOY</th>\n",
       "      <th>FIRE_SIZE</th>\n",
       "      <th>MONTH</th>\n",
       "      <th>DAY_OF_WEEK</th>\n",
       "    </tr>\n",
       "  </thead>\n",
       "  <tbody>\n",
       "    <tr>\n",
       "      <th>0</th>\n",
       "      <td>2005</td>\n",
       "      <td>Miscellaneous</td>\n",
       "      <td>40.036944</td>\n",
       "      <td>-121.005833</td>\n",
       "      <td>4</td>\n",
       "      <td>2453403.5</td>\n",
       "      <td>33</td>\n",
       "      <td>0.10</td>\n",
       "      <td>2</td>\n",
       "      <td>6</td>\n",
       "    </tr>\n",
       "    <tr>\n",
       "      <th>1</th>\n",
       "      <td>2004</td>\n",
       "      <td>Lightning</td>\n",
       "      <td>38.933056</td>\n",
       "      <td>-120.404444</td>\n",
       "      <td>4</td>\n",
       "      <td>2453137.5</td>\n",
       "      <td>133</td>\n",
       "      <td>0.25</td>\n",
       "      <td>5</td>\n",
       "      <td>6</td>\n",
       "    </tr>\n",
       "    <tr>\n",
       "      <th>2</th>\n",
       "      <td>2004</td>\n",
       "      <td>Debris Burning</td>\n",
       "      <td>38.984167</td>\n",
       "      <td>-120.735556</td>\n",
       "      <td>4</td>\n",
       "      <td>2453156.5</td>\n",
       "      <td>152</td>\n",
       "      <td>0.10</td>\n",
       "      <td>5</td>\n",
       "      <td>1</td>\n",
       "    </tr>\n",
       "    <tr>\n",
       "      <th>3</th>\n",
       "      <td>2004</td>\n",
       "      <td>Lightning</td>\n",
       "      <td>38.559167</td>\n",
       "      <td>-119.913333</td>\n",
       "      <td>4</td>\n",
       "      <td>2453184.5</td>\n",
       "      <td>180</td>\n",
       "      <td>0.10</td>\n",
       "      <td>6</td>\n",
       "      <td>1</td>\n",
       "    </tr>\n",
       "    <tr>\n",
       "      <th>4</th>\n",
       "      <td>2004</td>\n",
       "      <td>Lightning</td>\n",
       "      <td>38.559167</td>\n",
       "      <td>-119.933056</td>\n",
       "      <td>4</td>\n",
       "      <td>2453184.5</td>\n",
       "      <td>180</td>\n",
       "      <td>0.10</td>\n",
       "      <td>6</td>\n",
       "      <td>1</td>\n",
       "    </tr>\n",
       "  </tbody>\n",
       "</table>\n",
       "</div>"
      ],
      "text/plain": [
       "   FIRE_YEAR STAT_CAUSE_DESCR   LATITUDE   LONGITUDE  STATE  DISCOVERY_DATE  \\\n",
       "0       2005    Miscellaneous  40.036944 -121.005833      4       2453403.5   \n",
       "1       2004        Lightning  38.933056 -120.404444      4       2453137.5   \n",
       "2       2004   Debris Burning  38.984167 -120.735556      4       2453156.5   \n",
       "3       2004        Lightning  38.559167 -119.913333      4       2453184.5   \n",
       "4       2004        Lightning  38.559167 -119.933056      4       2453184.5   \n",
       "\n",
       "   DISCOVERY_DOY  FIRE_SIZE  MONTH  DAY_OF_WEEK  \n",
       "0             33       0.10      2            6  \n",
       "1            133       0.25      5            6  \n",
       "2            152       0.10      5            1  \n",
       "3            180       0.10      6            1  \n",
       "4            180       0.10      6            1  "
      ]
     },
     "execution_count": 343,
     "metadata": {},
     "output_type": "execute_result"
    }
   ],
   "source": [
    "df_og.head()"
   ]
  },
  {
   "cell_type": "code",
   "execution_count": 344,
   "id": "filled-brunei",
   "metadata": {},
   "outputs": [],
   "source": [
    "df_drop_month_fy = df_drop_date.drop('MONTH',axis=1)\n",
    "df_drop_month_fy = df_drop_month_fy.drop('FIRE_YEAR',axis=1)"
   ]
  },
  {
   "cell_type": "code",
   "execution_count": 345,
   "id": "amended-latin",
   "metadata": {},
   "outputs": [],
   "source": [
    "df_drop_month_fy['STAT_CAUSE_DESCR'] = le.fit_transform(df_drop_month_fy['STAT_CAUSE_DESCR'])"
   ]
  },
  {
   "cell_type": "code",
   "execution_count": 346,
   "id": "arabic-cylinder",
   "metadata": {},
   "outputs": [
    {
     "data": {
      "text/html": [
       "<div>\n",
       "<style scoped>\n",
       "    .dataframe tbody tr th:only-of-type {\n",
       "        vertical-align: middle;\n",
       "    }\n",
       "\n",
       "    .dataframe tbody tr th {\n",
       "        vertical-align: top;\n",
       "    }\n",
       "\n",
       "    .dataframe thead th {\n",
       "        text-align: right;\n",
       "    }\n",
       "</style>\n",
       "<table border=\"1\" class=\"dataframe\">\n",
       "  <thead>\n",
       "    <tr style=\"text-align: right;\">\n",
       "      <th></th>\n",
       "      <th>STAT_CAUSE_DESCR</th>\n",
       "      <th>LATITUDE</th>\n",
       "      <th>LONGITUDE</th>\n",
       "      <th>STATE</th>\n",
       "      <th>DISCOVERY_DATE</th>\n",
       "      <th>DISCOVERY_DOY</th>\n",
       "      <th>FIRE_SIZE</th>\n",
       "      <th>DAY_OF_WEEK</th>\n",
       "    </tr>\n",
       "  </thead>\n",
       "  <tbody>\n",
       "    <tr>\n",
       "      <th>0</th>\n",
       "      <td>7</td>\n",
       "      <td>40.036944</td>\n",
       "      <td>-121.005833</td>\n",
       "      <td>4</td>\n",
       "      <td>2453403.5</td>\n",
       "      <td>33</td>\n",
       "      <td>0.10</td>\n",
       "      <td>6</td>\n",
       "    </tr>\n",
       "    <tr>\n",
       "      <th>1</th>\n",
       "      <td>6</td>\n",
       "      <td>38.933056</td>\n",
       "      <td>-120.404444</td>\n",
       "      <td>4</td>\n",
       "      <td>2453137.5</td>\n",
       "      <td>133</td>\n",
       "      <td>0.25</td>\n",
       "      <td>6</td>\n",
       "    </tr>\n",
       "    <tr>\n",
       "      <th>2</th>\n",
       "      <td>3</td>\n",
       "      <td>38.984167</td>\n",
       "      <td>-120.735556</td>\n",
       "      <td>4</td>\n",
       "      <td>2453156.5</td>\n",
       "      <td>152</td>\n",
       "      <td>0.10</td>\n",
       "      <td>1</td>\n",
       "    </tr>\n",
       "    <tr>\n",
       "      <th>3</th>\n",
       "      <td>6</td>\n",
       "      <td>38.559167</td>\n",
       "      <td>-119.913333</td>\n",
       "      <td>4</td>\n",
       "      <td>2453184.5</td>\n",
       "      <td>180</td>\n",
       "      <td>0.10</td>\n",
       "      <td>1</td>\n",
       "    </tr>\n",
       "    <tr>\n",
       "      <th>4</th>\n",
       "      <td>6</td>\n",
       "      <td>38.559167</td>\n",
       "      <td>-119.933056</td>\n",
       "      <td>4</td>\n",
       "      <td>2453184.5</td>\n",
       "      <td>180</td>\n",
       "      <td>0.10</td>\n",
       "      <td>1</td>\n",
       "    </tr>\n",
       "  </tbody>\n",
       "</table>\n",
       "</div>"
      ],
      "text/plain": [
       "   STAT_CAUSE_DESCR   LATITUDE   LONGITUDE  STATE  DISCOVERY_DATE  \\\n",
       "0                 7  40.036944 -121.005833      4       2453403.5   \n",
       "1                 6  38.933056 -120.404444      4       2453137.5   \n",
       "2                 3  38.984167 -120.735556      4       2453156.5   \n",
       "3                 6  38.559167 -119.913333      4       2453184.5   \n",
       "4                 6  38.559167 -119.933056      4       2453184.5   \n",
       "\n",
       "   DISCOVERY_DOY  FIRE_SIZE  DAY_OF_WEEK  \n",
       "0             33       0.10            6  \n",
       "1            133       0.25            6  \n",
       "2            152       0.10            1  \n",
       "3            180       0.10            1  \n",
       "4            180       0.10            1  "
      ]
     },
     "execution_count": 346,
     "metadata": {},
     "output_type": "execute_result"
    }
   ],
   "source": [
    "df_drop_month_fy.head()"
   ]
  },
  {
   "cell_type": "code",
   "execution_count": 347,
   "id": "false-ukraine",
   "metadata": {},
   "outputs": [
    {
     "name": "stdout",
     "output_type": "stream",
     "text": [
      "(1880465, 7)\n",
      "(1880465,)\n"
     ]
    }
   ],
   "source": [
    "X_month_fy = df_drop_month.drop(['STAT_CAUSE_DESCR'], axis=1).values\n",
    "y_moth_fy = df['STAT_CAUSE_DESCR'].values\n",
    "\n",
    "print(X_month_fy.shape)\n",
    "print(y_moth_fy.shape)"
   ]
  },
  {
   "cell_type": "code",
   "execution_count": 348,
   "id": "painted-employer",
   "metadata": {},
   "outputs": [
    {
     "name": "stdout",
     "output_type": "stream",
     "text": [
      "0.5494419474301078\n"
     ]
    }
   ],
   "source": [
    "X_train_75, X_test_25, y_train_75, y_test_25 = train_test_split(X_month_fy,y_moth_fy,test_size=0.25, random_state=0)\n",
    "#The Decision tree model\n",
    "clf_dt = tree.DecisionTreeClassifier(random_state=0, max_depth=20)\n",
    "clf_dt = clf_dt.fit(X_train_75, y_train_75)\n",
    "print(clf_dt.score(X_test_25,y_test_25))"
   ]
  },
  {
   "cell_type": "code",
   "execution_count": null,
   "id": "systematic-kingston",
   "metadata": {},
   "outputs": [],
   "source": [
    "clf_rf = ske.RandomForestClassifier(n_estimators=50)\n",
    "clf_rf = clf_rf.fit(X_train_75, y_train_75)\n",
    "print(clf_rf.score(X_test_25,y_test_25))"
   ]
  },
  {
   "cell_type": "code",
   "execution_count": null,
   "id": "differential-bottle",
   "metadata": {},
   "outputs": [],
   "source": [
    "# df_drop_doy_fy = df.drop('DISCOVERY_DOY',axis=1)\n",
    "# df_drop_doy_fy = df_drop_doy_fy.drop('FIRE_YEAR',axis=1)"
   ]
  },
  {
   "cell_type": "code",
   "execution_count": null,
   "id": "meaning-potential",
   "metadata": {},
   "outputs": [],
   "source": [
    "# df_drop_doy_fy.head()"
   ]
  },
  {
   "cell_type": "code",
   "execution_count": null,
   "id": "proof-diagnosis",
   "metadata": {},
   "outputs": [],
   "source": [
    "# X_doy_fy = df_drop_doy_fy.drop(['STAT_CAUSE_DESCR'], axis=1).values\n",
    "# y_doy_fy = df['STAT_CAUSE_DESCR'].values"
   ]
  },
  {
   "cell_type": "code",
   "execution_count": null,
   "id": "pending-addiction",
   "metadata": {},
   "outputs": [],
   "source": [
    "# X_train_75, X_test_25, y_train_75, y_test_25 = train_test_split(X_doy_fy,y_doy_fy,test_size=0.25, random_state=0)\n",
    "# #The Decision tree model\n",
    "# clf_dt = tree.DecisionTreeClassifier(random_state=0, max_depth=20)\n",
    "# clf_dt = clf_dt.fit(X_train_75, y_train_75)\n",
    "# print(clf_dt.score(X_test_25,y_test_25))"
   ]
  },
  {
   "cell_type": "code",
   "execution_count": null,
   "id": "conventional-gregory",
   "metadata": {},
   "outputs": [],
   "source": [
    "df_drop_month_fy_4 = df_og.copy()\n",
    "df_drop_month_fy_4 = df_drop_month_fy_4.drop('MONTH',axis=1)\n",
    "df_drop_month_fy_4 = df_drop_month_fy_4.drop('FIRE_YEAR',axis=1)\n",
    "df_drop_month_fy_4.head()"
   ]
  },
  {
   "cell_type": "code",
   "execution_count": null,
   "id": "instructional-foundation",
   "metadata": {},
   "outputs": [],
   "source": [
    "#Putting all the causes into 4 different categories, since there are so many of them. \n",
    "def set_label(cat):\n",
    "    cause = 0\n",
    "    natural = ['Lightning']\n",
    "    accidental = ['Structure','Fireworks','Powerline','Railroad','Smoking','Children','Campfire','Equipment Use','Debris Burning']\n",
    "    malicious = ['Arson']\n",
    "    other = ['Missing/Undefined','Miscellaneous']\n",
    "    if cat in natural:\n",
    "        cause = 1\n",
    "    elif cat in accidental:\n",
    "        cause = 2\n",
    "    elif cat in malicious:\n",
    "        cause = 3\n",
    "    else:\n",
    "        cause = 4\n",
    "    return cause\n",
    "\n",
    "df_drop_month_fy_4['LABEL'] = df_drop_month_fy_4['STAT_CAUSE_DESCR'].apply(lambda x: set_label(x)) # I created a copy of the original df earlier in the kernel\n",
    "df_drop_month_fy_4 = df_drop_month_fy_4.drop('STAT_CAUSE_DESCR',axis=1)\n",
    "print(df_drop_month_fy_4.head())\n",
    "#The new categories are: \"natural, accidental, malicious and other\""
   ]
  },
  {
   "cell_type": "code",
   "execution_count": null,
   "id": "toxic-chorus",
   "metadata": {},
   "outputs": [],
   "source": [
    "#This time we want to predict 'Label'. Splitting the dataset into train and test sets once again.\n",
    "X_label = df_drop_month_fy_4.drop(['LABEL'], axis=1).values\n",
    "y_label = df_drop_month_fy_4['LABEL'].values\n",
    "X_train_4, X_test_4, y_train_4, y_test_4 = train_test_split(X_label,y_label,test_size=0.25, random_state=0)"
   ]
  },
  {
   "cell_type": "code",
   "execution_count": null,
   "id": "brilliant-joseph",
   "metadata": {},
   "outputs": [],
   "source": [
    "#The Decision tree model\n",
    "clf_dt_label = tree.DecisionTreeClassifier(random_state=0, max_depth=30)\n",
    "clf_dt_label = clf_dt_label.fit(X_train_4, y_train_4)\n",
    "print(clf_dt_label.score(X_test_4,y_test_4))"
   ]
  },
  {
   "cell_type": "code",
   "execution_count": null,
   "id": "fantastic-church",
   "metadata": {},
   "outputs": [],
   "source": [
    "#The Gradient boost model\n",
    "xg_clf = xgb.XGBClassifier(tree_method='gpu_hist', gpu_id=0, objective ='binary:logistic', colsample_bytree = 0.5, learning_rate = 0.2, max_depth = 15, alpha = 20, n_estimators = 500, subsample=0.8)\n",
    "xg_clf = xg_clf.fit(X_train_4, y_train_4)\n",
    "print(xg_clf.score(X_test_4,y_test_4))"
   ]
  },
  {
   "cell_type": "code",
   "execution_count": null,
   "id": "continent-state",
   "metadata": {},
   "outputs": [],
   "source": []
  },
  {
   "cell_type": "code",
   "execution_count": null,
   "id": "orange-minneapolis",
   "metadata": {},
   "outputs": [],
   "source": []
  }
 ],
 "metadata": {
  "kernelspec": {
   "display_name": "Python 3",
   "language": "python",
   "name": "python3"
  },
  "language_info": {
   "codemirror_mode": {
    "name": "ipython",
    "version": 3
   },
   "file_extension": ".py",
   "mimetype": "text/x-python",
   "name": "python",
   "nbconvert_exporter": "python",
   "pygments_lexer": "ipython3",
   "version": "3.9.4"
  }
 },
 "nbformat": 4,
 "nbformat_minor": 5
}
