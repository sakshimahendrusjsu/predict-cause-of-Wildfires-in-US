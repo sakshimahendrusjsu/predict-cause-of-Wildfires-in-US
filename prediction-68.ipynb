{
 "cells": [
  {
   "cell_type": "code",
   "execution_count": 128,
   "id": "logical-measure",
   "metadata": {},
   "outputs": [],
   "source": [
    "import sqlite3\n",
    "import pandas as pd\n",
    "import numpy as np\n",
    "import matplotlib.pyplot as plt\n",
    "\n",
    "from sklearn import tree, preprocessing\n",
    "import sklearn.ensemble as ske\n",
    "from sklearn.model_selection import train_test_split\n",
    "\n",
    "\n",
    "from sklearn.metrics import log_loss,confusion_matrix, plot_confusion_matrix\n",
    "from sklearn.ensemble import RandomForestClassifier, AdaBoostClassifier\n",
    "\n",
    "import seaborn as sns\n"
   ]
  },
  {
   "cell_type": "code",
   "execution_count": 2,
   "id": "artistic-mobile",
   "metadata": {},
   "outputs": [],
   "source": [
    "conn = sqlite3.connect('RDS-2013-0009.4_SQLITE/Data/FPA_FOD_20170508.sqlite')"
   ]
  },
  {
   "cell_type": "code",
   "execution_count": 3,
   "id": "bizarre-communist",
   "metadata": {},
   "outputs": [],
   "source": [
    "# full_df = pd.read_sql_query(\"SELECT * FROM 'Fires'\", conn)\n",
    "# print(full_df.head()) "
   ]
  },
  {
   "cell_type": "code",
   "execution_count": 4,
   "id": "changing-holder",
   "metadata": {},
   "outputs": [],
   "source": [
    "# print(full_df.columns)\n",
    "# full_df['DATE'] = pd.to_datetime(full_df['DISCOVERY_DATE'] - pd.Timestamp(0).to_julian_date(), unit='D')"
   ]
  },
  {
   "cell_type": "code",
   "execution_count": 5,
   "id": "increasing-resistance",
   "metadata": {},
   "outputs": [],
   "source": [
    "# full_df.describe()"
   ]
  },
  {
   "cell_type": "code",
   "execution_count": 18,
   "id": "handmade-parallel",
   "metadata": {},
   "outputs": [
    {
     "name": "stdout",
     "output_type": "stream",
     "text": [
      "   FIRE_YEAR STAT_CAUSE_DESCR   LATITUDE   LONGITUDE STATE  CONT_DATE  \\\n",
      "0       2005    Miscellaneous  40.036944 -121.005833    CA  2453403.5   \n",
      "1       2004        Lightning  38.933056 -120.404444    CA  2453137.5   \n",
      "2       2004   Debris Burning  38.984167 -120.735556    CA  2453156.5   \n",
      "3       2004        Lightning  38.559167 -119.913333    CA  2453189.5   \n",
      "4       2004        Lightning  38.559167 -119.933056    CA  2453189.5   \n",
      "\n",
      "  DISCOVERY_TIME  DISCOVERY_DATE  DISCOVERY_DOY  FIRE_SIZE CONT_TIME  \n",
      "0           1300       2453403.5             33       0.10      1730  \n",
      "1           0845       2453137.5            133       0.25      1530  \n",
      "2           1921       2453156.5            152       0.10      2024  \n",
      "3           1600       2453184.5            180       0.10      1400  \n",
      "4           1600       2453184.5            180       0.10      1200  \n"
     ]
    }
   ],
   "source": [
    "df = pd.read_sql_query(\"SELECT FIRE_YEAR,STAT_CAUSE_DESCR,LATITUDE,LONGITUDE,STATE,CONT_DATE,DISCOVERY_TIME,DISCOVERY_DATE,DISCOVERY_DOY,FIRE_SIZE,CONT_TIME FROM 'Fires'\", conn)\n",
    "print(df.head()) "
   ]
  },
  {
   "cell_type": "code",
   "execution_count": 27,
   "id": "micro-savannah",
   "metadata": {},
   "outputs": [
    {
     "data": {
      "text/html": [
       "<div>\n",
       "<style scoped>\n",
       "    .dataframe tbody tr th:only-of-type {\n",
       "        vertical-align: middle;\n",
       "    }\n",
       "\n",
       "    .dataframe tbody tr th {\n",
       "        vertical-align: top;\n",
       "    }\n",
       "\n",
       "    .dataframe thead th {\n",
       "        text-align: right;\n",
       "    }\n",
       "</style>\n",
       "<table border=\"1\" class=\"dataframe\">\n",
       "  <thead>\n",
       "    <tr style=\"text-align: right;\">\n",
       "      <th></th>\n",
       "      <th>FIRE_YEAR</th>\n",
       "      <th>STAT_CAUSE_DESCR</th>\n",
       "      <th>LATITUDE</th>\n",
       "      <th>LONGITUDE</th>\n",
       "      <th>STATE</th>\n",
       "      <th>CONT_DATE</th>\n",
       "      <th>DISCOVERY_TIME</th>\n",
       "      <th>DISCOVERY_DATE</th>\n",
       "      <th>DISCOVERY_DOY</th>\n",
       "      <th>FIRE_SIZE</th>\n",
       "      <th>CONT_TIME</th>\n",
       "      <th>DISC_DATE</th>\n",
       "      <th>END_DATE</th>\n",
       "      <th>MONTH</th>\n",
       "      <th>DAY_OF_WEEK</th>\n",
       "    </tr>\n",
       "  </thead>\n",
       "  <tbody>\n",
       "    <tr>\n",
       "      <th>0</th>\n",
       "      <td>2005</td>\n",
       "      <td>Miscellaneous</td>\n",
       "      <td>40.036944</td>\n",
       "      <td>-121.005833</td>\n",
       "      <td>CA</td>\n",
       "      <td>2453403.5</td>\n",
       "      <td>1300</td>\n",
       "      <td>2453403.5</td>\n",
       "      <td>33</td>\n",
       "      <td>0.10</td>\n",
       "      <td>1730</td>\n",
       "      <td>2005-02-02</td>\n",
       "      <td>2005-02-02</td>\n",
       "      <td>2</td>\n",
       "      <td>Wednesday</td>\n",
       "    </tr>\n",
       "    <tr>\n",
       "      <th>1</th>\n",
       "      <td>2004</td>\n",
       "      <td>Lightning</td>\n",
       "      <td>38.933056</td>\n",
       "      <td>-120.404444</td>\n",
       "      <td>CA</td>\n",
       "      <td>2453137.5</td>\n",
       "      <td>0845</td>\n",
       "      <td>2453137.5</td>\n",
       "      <td>133</td>\n",
       "      <td>0.25</td>\n",
       "      <td>1530</td>\n",
       "      <td>2004-05-12</td>\n",
       "      <td>2004-05-12</td>\n",
       "      <td>5</td>\n",
       "      <td>Wednesday</td>\n",
       "    </tr>\n",
       "    <tr>\n",
       "      <th>2</th>\n",
       "      <td>2004</td>\n",
       "      <td>Debris Burning</td>\n",
       "      <td>38.984167</td>\n",
       "      <td>-120.735556</td>\n",
       "      <td>CA</td>\n",
       "      <td>2453156.5</td>\n",
       "      <td>1921</td>\n",
       "      <td>2453156.5</td>\n",
       "      <td>152</td>\n",
       "      <td>0.10</td>\n",
       "      <td>2024</td>\n",
       "      <td>2004-05-31</td>\n",
       "      <td>2004-05-31</td>\n",
       "      <td>5</td>\n",
       "      <td>Monday</td>\n",
       "    </tr>\n",
       "    <tr>\n",
       "      <th>3</th>\n",
       "      <td>2004</td>\n",
       "      <td>Lightning</td>\n",
       "      <td>38.559167</td>\n",
       "      <td>-119.913333</td>\n",
       "      <td>CA</td>\n",
       "      <td>2453189.5</td>\n",
       "      <td>1600</td>\n",
       "      <td>2453184.5</td>\n",
       "      <td>180</td>\n",
       "      <td>0.10</td>\n",
       "      <td>1400</td>\n",
       "      <td>2004-06-28</td>\n",
       "      <td>2004-07-03</td>\n",
       "      <td>6</td>\n",
       "      <td>Monday</td>\n",
       "    </tr>\n",
       "    <tr>\n",
       "      <th>4</th>\n",
       "      <td>2004</td>\n",
       "      <td>Lightning</td>\n",
       "      <td>38.559167</td>\n",
       "      <td>-119.933056</td>\n",
       "      <td>CA</td>\n",
       "      <td>2453189.5</td>\n",
       "      <td>1600</td>\n",
       "      <td>2453184.5</td>\n",
       "      <td>180</td>\n",
       "      <td>0.10</td>\n",
       "      <td>1200</td>\n",
       "      <td>2004-06-28</td>\n",
       "      <td>2004-07-03</td>\n",
       "      <td>6</td>\n",
       "      <td>Monday</td>\n",
       "    </tr>\n",
       "  </tbody>\n",
       "</table>\n",
       "</div>"
      ],
      "text/plain": [
       "   FIRE_YEAR STAT_CAUSE_DESCR   LATITUDE   LONGITUDE STATE  CONT_DATE  \\\n",
       "0       2005    Miscellaneous  40.036944 -121.005833    CA  2453403.5   \n",
       "1       2004        Lightning  38.933056 -120.404444    CA  2453137.5   \n",
       "2       2004   Debris Burning  38.984167 -120.735556    CA  2453156.5   \n",
       "3       2004        Lightning  38.559167 -119.913333    CA  2453189.5   \n",
       "4       2004        Lightning  38.559167 -119.933056    CA  2453189.5   \n",
       "\n",
       "  DISCOVERY_TIME  DISCOVERY_DATE  DISCOVERY_DOY  FIRE_SIZE CONT_TIME  \\\n",
       "0           1300       2453403.5             33       0.10      1730   \n",
       "1           0845       2453137.5            133       0.25      1530   \n",
       "2           1921       2453156.5            152       0.10      2024   \n",
       "3           1600       2453184.5            180       0.10      1400   \n",
       "4           1600       2453184.5            180       0.10      1200   \n",
       "\n",
       "   DISC_DATE   END_DATE  MONTH DAY_OF_WEEK  \n",
       "0 2005-02-02 2005-02-02      2   Wednesday  \n",
       "1 2004-05-12 2004-05-12      5   Wednesday  \n",
       "2 2004-05-31 2004-05-31      5      Monday  \n",
       "3 2004-06-28 2004-07-03      6      Monday  \n",
       "4 2004-06-28 2004-07-03      6      Monday  "
      ]
     },
     "execution_count": 27,
     "metadata": {},
     "output_type": "execute_result"
    }
   ],
   "source": [
    "#Julian date format to Gregorian date format\n",
    "df['DISC_DATE'] = pd.to_datetime(df['DISCOVERY_DATE'] - pd.Timestamp(0).to_julian_date(), unit='D')\n",
    "df['END_DATE'] = pd.to_datetime(df['CONT_DATE'] - pd.Timestamp(0).to_julian_date(), unit='D')\n",
    "df.head()"
   ]
  },
  {
   "cell_type": "code",
   "execution_count": null,
   "id": "offensive-retail",
   "metadata": {},
   "outputs": [],
   "source": []
  },
  {
   "cell_type": "code",
   "execution_count": 20,
   "id": "focal-greek",
   "metadata": {},
   "outputs": [],
   "source": [
    "df['MONTH'] = pd.DatetimeIndex(df['DISC_DATE']).month\n",
    "df['DAY_OF_WEEK'] = df['DISC_DATE'].dt.day_name()"
   ]
  },
  {
   "cell_type": "code",
   "execution_count": 21,
   "id": "valuable-event",
   "metadata": {},
   "outputs": [
    {
     "name": "stdout",
     "output_type": "stream",
     "text": [
      "   FIRE_YEAR STAT_CAUSE_DESCR   LATITUDE   LONGITUDE STATE  CONT_DATE  \\\n",
      "0       2005    Miscellaneous  40.036944 -121.005833    CA  2453403.5   \n",
      "1       2004        Lightning  38.933056 -120.404444    CA  2453137.5   \n",
      "2       2004   Debris Burning  38.984167 -120.735556    CA  2453156.5   \n",
      "3       2004        Lightning  38.559167 -119.913333    CA  2453189.5   \n",
      "4       2004        Lightning  38.559167 -119.933056    CA  2453189.5   \n",
      "\n",
      "  DISCOVERY_TIME  DISCOVERY_DATE  DISCOVERY_DOY  FIRE_SIZE CONT_TIME  \\\n",
      "0           1300       2453403.5             33       0.10      1730   \n",
      "1           0845       2453137.5            133       0.25      1530   \n",
      "2           1921       2453156.5            152       0.10      2024   \n",
      "3           1600       2453184.5            180       0.10      1400   \n",
      "4           1600       2453184.5            180       0.10      1200   \n",
      "\n",
      "   DISC_DATE   END_DATE  MONTH DAY_OF_WEEK  \n",
      "0 2005-02-02 2005-02-02      2   Wednesday  \n",
      "1 2004-05-12 2004-05-12      5   Wednesday  \n",
      "2 2004-05-31 2004-05-31      5      Monday  \n",
      "3 2004-06-28 2004-07-03      6      Monday  \n",
      "4 2004-06-28 2004-07-03      6      Monday  \n"
     ]
    }
   ],
   "source": [
    "print(df.head())"
   ]
  },
  {
   "cell_type": "code",
   "execution_count": 36,
   "id": "functioning-hybrid",
   "metadata": {},
   "outputs": [],
   "source": [
    "df_drop_date = df.drop('CONT_DATE',axis=1)\n",
    "df_drop_date = df_drop_date.drop('DISCOVERY_DATE',axis=1)"
   ]
  },
  {
   "cell_type": "code",
   "execution_count": 37,
   "id": "mathematical-gossip",
   "metadata": {},
   "outputs": [
    {
     "data": {
      "text/html": [
       "<div>\n",
       "<style scoped>\n",
       "    .dataframe tbody tr th:only-of-type {\n",
       "        vertical-align: middle;\n",
       "    }\n",
       "\n",
       "    .dataframe tbody tr th {\n",
       "        vertical-align: top;\n",
       "    }\n",
       "\n",
       "    .dataframe thead th {\n",
       "        text-align: right;\n",
       "    }\n",
       "</style>\n",
       "<table border=\"1\" class=\"dataframe\">\n",
       "  <thead>\n",
       "    <tr style=\"text-align: right;\">\n",
       "      <th></th>\n",
       "      <th>FIRE_YEAR</th>\n",
       "      <th>STAT_CAUSE_DESCR</th>\n",
       "      <th>LATITUDE</th>\n",
       "      <th>LONGITUDE</th>\n",
       "      <th>STATE</th>\n",
       "      <th>DISCOVERY_TIME</th>\n",
       "      <th>DISCOVERY_DOY</th>\n",
       "      <th>FIRE_SIZE</th>\n",
       "      <th>CONT_TIME</th>\n",
       "      <th>DISC_DATE</th>\n",
       "      <th>END_DATE</th>\n",
       "      <th>MONTH</th>\n",
       "      <th>DAY_OF_WEEK</th>\n",
       "    </tr>\n",
       "  </thead>\n",
       "  <tbody>\n",
       "    <tr>\n",
       "      <th>0</th>\n",
       "      <td>2005</td>\n",
       "      <td>Miscellaneous</td>\n",
       "      <td>40.036944</td>\n",
       "      <td>-121.005833</td>\n",
       "      <td>CA</td>\n",
       "      <td>1300</td>\n",
       "      <td>33</td>\n",
       "      <td>0.10</td>\n",
       "      <td>1730</td>\n",
       "      <td>2005-02-02</td>\n",
       "      <td>2005-02-02</td>\n",
       "      <td>2</td>\n",
       "      <td>Wednesday</td>\n",
       "    </tr>\n",
       "    <tr>\n",
       "      <th>1</th>\n",
       "      <td>2004</td>\n",
       "      <td>Lightning</td>\n",
       "      <td>38.933056</td>\n",
       "      <td>-120.404444</td>\n",
       "      <td>CA</td>\n",
       "      <td>0845</td>\n",
       "      <td>133</td>\n",
       "      <td>0.25</td>\n",
       "      <td>1530</td>\n",
       "      <td>2004-05-12</td>\n",
       "      <td>2004-05-12</td>\n",
       "      <td>5</td>\n",
       "      <td>Wednesday</td>\n",
       "    </tr>\n",
       "    <tr>\n",
       "      <th>2</th>\n",
       "      <td>2004</td>\n",
       "      <td>Debris Burning</td>\n",
       "      <td>38.984167</td>\n",
       "      <td>-120.735556</td>\n",
       "      <td>CA</td>\n",
       "      <td>1921</td>\n",
       "      <td>152</td>\n",
       "      <td>0.10</td>\n",
       "      <td>2024</td>\n",
       "      <td>2004-05-31</td>\n",
       "      <td>2004-05-31</td>\n",
       "      <td>5</td>\n",
       "      <td>Monday</td>\n",
       "    </tr>\n",
       "    <tr>\n",
       "      <th>3</th>\n",
       "      <td>2004</td>\n",
       "      <td>Lightning</td>\n",
       "      <td>38.559167</td>\n",
       "      <td>-119.913333</td>\n",
       "      <td>CA</td>\n",
       "      <td>1600</td>\n",
       "      <td>180</td>\n",
       "      <td>0.10</td>\n",
       "      <td>1400</td>\n",
       "      <td>2004-06-28</td>\n",
       "      <td>2004-07-03</td>\n",
       "      <td>6</td>\n",
       "      <td>Monday</td>\n",
       "    </tr>\n",
       "    <tr>\n",
       "      <th>4</th>\n",
       "      <td>2004</td>\n",
       "      <td>Lightning</td>\n",
       "      <td>38.559167</td>\n",
       "      <td>-119.933056</td>\n",
       "      <td>CA</td>\n",
       "      <td>1600</td>\n",
       "      <td>180</td>\n",
       "      <td>0.10</td>\n",
       "      <td>1200</td>\n",
       "      <td>2004-06-28</td>\n",
       "      <td>2004-07-03</td>\n",
       "      <td>6</td>\n",
       "      <td>Monday</td>\n",
       "    </tr>\n",
       "  </tbody>\n",
       "</table>\n",
       "</div>"
      ],
      "text/plain": [
       "   FIRE_YEAR STAT_CAUSE_DESCR   LATITUDE   LONGITUDE STATE DISCOVERY_TIME  \\\n",
       "0       2005    Miscellaneous  40.036944 -121.005833    CA           1300   \n",
       "1       2004        Lightning  38.933056 -120.404444    CA           0845   \n",
       "2       2004   Debris Burning  38.984167 -120.735556    CA           1921   \n",
       "3       2004        Lightning  38.559167 -119.913333    CA           1600   \n",
       "4       2004        Lightning  38.559167 -119.933056    CA           1600   \n",
       "\n",
       "   DISCOVERY_DOY  FIRE_SIZE CONT_TIME  DISC_DATE   END_DATE  MONTH DAY_OF_WEEK  \n",
       "0             33       0.10      1730 2005-02-02 2005-02-02      2   Wednesday  \n",
       "1            133       0.25      1530 2004-05-12 2004-05-12      5   Wednesday  \n",
       "2            152       0.10      2024 2004-05-31 2004-05-31      5      Monday  \n",
       "3            180       0.10      1400 2004-06-28 2004-07-03      6      Monday  \n",
       "4            180       0.10      1200 2004-06-28 2004-07-03      6      Monday  "
      ]
     },
     "execution_count": 37,
     "metadata": {},
     "output_type": "execute_result"
    }
   ],
   "source": [
    "df_drop_date.head()"
   ]
  },
  {
   "cell_type": "code",
   "execution_count": 38,
   "id": "turned-malaysia",
   "metadata": {},
   "outputs": [],
   "source": [
    "df_drop_date['TIME'] = df_drop_date['END_DATE'] - df_drop_date['DISC_DATE']"
   ]
  },
  {
   "cell_type": "code",
   "execution_count": 39,
   "id": "fresh-blink",
   "metadata": {},
   "outputs": [],
   "source": [
    "df_drop_date = df_drop_date.drop('DISC_DATE',axis=1)\n",
    "df_drop_date = df_drop_date.drop('END_DATE',axis=1)\n"
   ]
  },
  {
   "cell_type": "code",
   "execution_count": 41,
   "id": "cathedral-transsexual",
   "metadata": {},
   "outputs": [],
   "source": [
    "df_drop_date = df_drop_date.drop('DISCOVERY_TIME',axis=1)\n",
    "df_drop_date = df_drop_date.drop('CONT_TIME',axis=1)"
   ]
  },
  {
   "cell_type": "code",
   "execution_count": 82,
   "id": "sharp-courage",
   "metadata": {},
   "outputs": [
    {
     "data": {
      "text/html": [
       "<div>\n",
       "<style scoped>\n",
       "    .dataframe tbody tr th:only-of-type {\n",
       "        vertical-align: middle;\n",
       "    }\n",
       "\n",
       "    .dataframe tbody tr th {\n",
       "        vertical-align: top;\n",
       "    }\n",
       "\n",
       "    .dataframe thead th {\n",
       "        text-align: right;\n",
       "    }\n",
       "</style>\n",
       "<table border=\"1\" class=\"dataframe\">\n",
       "  <thead>\n",
       "    <tr style=\"text-align: right;\">\n",
       "      <th></th>\n",
       "      <th>FIRE_YEAR</th>\n",
       "      <th>STAT_CAUSE_DESCR</th>\n",
       "      <th>LATITUDE</th>\n",
       "      <th>LONGITUDE</th>\n",
       "      <th>STATE</th>\n",
       "      <th>DISCOVERY_DOY</th>\n",
       "      <th>FIRE_SIZE</th>\n",
       "      <th>MONTH</th>\n",
       "      <th>DAY_OF_WEEK</th>\n",
       "      <th>TIME</th>\n",
       "    </tr>\n",
       "  </thead>\n",
       "  <tbody>\n",
       "    <tr>\n",
       "      <th>0</th>\n",
       "      <td>2005</td>\n",
       "      <td>Miscellaneous</td>\n",
       "      <td>40.036944</td>\n",
       "      <td>-121.005833</td>\n",
       "      <td>4</td>\n",
       "      <td>33</td>\n",
       "      <td>33</td>\n",
       "      <td>2</td>\n",
       "      <td>6</td>\n",
       "      <td>0</td>\n",
       "    </tr>\n",
       "    <tr>\n",
       "      <th>1</th>\n",
       "      <td>2004</td>\n",
       "      <td>Lightning</td>\n",
       "      <td>38.933056</td>\n",
       "      <td>-120.404444</td>\n",
       "      <td>4</td>\n",
       "      <td>133</td>\n",
       "      <td>55</td>\n",
       "      <td>5</td>\n",
       "      <td>6</td>\n",
       "      <td>0</td>\n",
       "    </tr>\n",
       "    <tr>\n",
       "      <th>2</th>\n",
       "      <td>2004</td>\n",
       "      <td>Debris Burning</td>\n",
       "      <td>38.984167</td>\n",
       "      <td>-120.735556</td>\n",
       "      <td>4</td>\n",
       "      <td>152</td>\n",
       "      <td>33</td>\n",
       "      <td>5</td>\n",
       "      <td>1</td>\n",
       "      <td>0</td>\n",
       "    </tr>\n",
       "    <tr>\n",
       "      <th>3</th>\n",
       "      <td>2004</td>\n",
       "      <td>Lightning</td>\n",
       "      <td>38.559167</td>\n",
       "      <td>-119.913333</td>\n",
       "      <td>4</td>\n",
       "      <td>180</td>\n",
       "      <td>33</td>\n",
       "      <td>6</td>\n",
       "      <td>1</td>\n",
       "      <td>5</td>\n",
       "    </tr>\n",
       "    <tr>\n",
       "      <th>4</th>\n",
       "      <td>2004</td>\n",
       "      <td>Lightning</td>\n",
       "      <td>38.559167</td>\n",
       "      <td>-119.933056</td>\n",
       "      <td>4</td>\n",
       "      <td>180</td>\n",
       "      <td>33</td>\n",
       "      <td>6</td>\n",
       "      <td>1</td>\n",
       "      <td>5</td>\n",
       "    </tr>\n",
       "  </tbody>\n",
       "</table>\n",
       "</div>"
      ],
      "text/plain": [
       "   FIRE_YEAR STAT_CAUSE_DESCR   LATITUDE   LONGITUDE  STATE  DISCOVERY_DOY  \\\n",
       "0       2005    Miscellaneous  40.036944 -121.005833      4             33   \n",
       "1       2004        Lightning  38.933056 -120.404444      4            133   \n",
       "2       2004   Debris Burning  38.984167 -120.735556      4            152   \n",
       "3       2004        Lightning  38.559167 -119.913333      4            180   \n",
       "4       2004        Lightning  38.559167 -119.933056      4            180   \n",
       "\n",
       "   FIRE_SIZE  MONTH  DAY_OF_WEEK  TIME  \n",
       "0         33      2            6     0  \n",
       "1         55      5            6     0  \n",
       "2         33      5            1     0  \n",
       "3         33      6            1     5  \n",
       "4         33      6            1     5  "
      ]
     },
     "execution_count": 82,
     "metadata": {},
     "output_type": "execute_result"
    }
   ],
   "source": [
    "df_drop_date.head()"
   ]
  },
  {
   "cell_type": "code",
   "execution_count": 83,
   "id": "republican-skiing",
   "metadata": {},
   "outputs": [
    {
     "data": {
      "image/png": "[encoded data removed]",
      "text/plain": [
       "<Figure size 432x288 with 1 Axes>"
      ]
     },
     "metadata": {
      "needs_background": "light"
     },
     "output_type": "display_data"
    }
   ],
   "source": [
    "#causes of fire\n",
    "df['STAT_CAUSE_DESCR'].value_counts().plot(kind='barh',color='coral')\n",
    "plt.show()"
   ]
  },
  {
   "cell_type": "code",
   "execution_count": 84,
   "id": "african-biodiversity",
   "metadata": {},
   "outputs": [
    {
     "name": "stdout",
     "output_type": "stream",
     "text": [
      "   FIRE_YEAR STAT_CAUSE_DESCR   LATITUDE   LONGITUDE  STATE  DISCOVERY_DOY  \\\n",
      "0       2005    Miscellaneous  40.036944 -121.005833      4             33   \n",
      "1       2004        Lightning  38.933056 -120.404444      4            133   \n",
      "2       2004   Debris Burning  38.984167 -120.735556      4            152   \n",
      "3       2004        Lightning  38.559167 -119.913333      4            180   \n",
      "4       2004        Lightning  38.559167 -119.933056      4            180   \n",
      "\n",
      "   FIRE_SIZE  MONTH  DAY_OF_WEEK  TIME  \n",
      "0         33      2            6     0  \n",
      "1         55      5            6     0  \n",
      "2         33      5            1     0  \n",
      "3         33      6            1     5  \n",
      "4         33      6            1     5  \n"
     ]
    }
   ],
   "source": [
    "le = preprocessing.LabelEncoder()\n",
    "df_drop_date['STATE'] = le.fit_transform(df_drop_date['STATE'])\n",
    "df_drop_date['DAY_OF_WEEK'] = le.fit_transform(df_drop_date['DAY_OF_WEEK'])\n",
    "df_drop_date['TIME'] = le.fit_transform(df_drop_date['TIME'])\n",
    "df_drop_date['FIRE_SIZE'] = le.fit_transform(df_drop_date['FIRE_SIZE'])\n",
    "df_drop_date = df_drop_date.dropna()\n",
    "print(df_drop_date.head())"
   ]
  },
  {
   "cell_type": "code",
   "execution_count": 85,
   "id": "extended-harvard",
   "metadata": {},
   "outputs": [
    {
     "data": {
      "image/png": "[encoded data removed]",
      "text/plain": [
       "<Figure size 720x720 with 1 Axes>"
      ]
     },
     "metadata": {
      "needs_background": "light"
     },
     "output_type": "display_data"
    }
   ],
   "source": [
    "def plot_corr(df,size=10):\n",
    "    corr = df_drop_date.corr()  #the default method is pearson\n",
    "    fig, ax = plt.subplots(figsize=(size, size))\n",
    "    ax.matshow(corr,cmap=plt.cm.Oranges)\n",
    "    plt.xticks(range(len(corr.columns)), corr.columns)\n",
    "    plt.yticks(range(len(corr.columns)), corr.columns)\n",
    "    for tick in ax.get_xticklabels():\n",
    "        tick.set_rotation(45)    \n",
    "    plt.show()\n",
    "    \n",
    "\n",
    "    \n",
    "plot_corr(df)"
   ]
  },
  {
   "cell_type": "code",
   "execution_count": 340,
   "id": "numerous-external",
   "metadata": {},
   "outputs": [],
   "source": []
  },
  {
   "cell_type": "code",
   "execution_count": 86,
   "id": "periodic-payroll",
   "metadata": {},
   "outputs": [],
   "source": [
    "df_og = df_drop_date.copy()"
   ]
  },
  {
   "cell_type": "code",
   "execution_count": 87,
   "id": "mechanical-catholic",
   "metadata": {},
   "outputs": [
    {
     "data": {
      "text/html": [
       "<div>\n",
       "<style scoped>\n",
       "    .dataframe tbody tr th:only-of-type {\n",
       "        vertical-align: middle;\n",
       "    }\n",
       "\n",
       "    .dataframe tbody tr th {\n",
       "        vertical-align: top;\n",
       "    }\n",
       "\n",
       "    .dataframe thead th {\n",
       "        text-align: right;\n",
       "    }\n",
       "</style>\n",
       "<table border=\"1\" class=\"dataframe\">\n",
       "  <thead>\n",
       "    <tr style=\"text-align: right;\">\n",
       "      <th></th>\n",
       "      <th>FIRE_YEAR</th>\n",
       "      <th>STAT_CAUSE_DESCR</th>\n",
       "      <th>LATITUDE</th>\n",
       "      <th>LONGITUDE</th>\n",
       "      <th>STATE</th>\n",
       "      <th>DISCOVERY_DOY</th>\n",
       "      <th>FIRE_SIZE</th>\n",
       "      <th>MONTH</th>\n",
       "      <th>DAY_OF_WEEK</th>\n",
       "      <th>TIME</th>\n",
       "    </tr>\n",
       "  </thead>\n",
       "  <tbody>\n",
       "    <tr>\n",
       "      <th>0</th>\n",
       "      <td>2005</td>\n",
       "      <td>Miscellaneous</td>\n",
       "      <td>40.036944</td>\n",
       "      <td>-121.005833</td>\n",
       "      <td>4</td>\n",
       "      <td>33</td>\n",
       "      <td>33</td>\n",
       "      <td>2</td>\n",
       "      <td>6</td>\n",
       "      <td>0</td>\n",
       "    </tr>\n",
       "    <tr>\n",
       "      <th>1</th>\n",
       "      <td>2004</td>\n",
       "      <td>Lightning</td>\n",
       "      <td>38.933056</td>\n",
       "      <td>-120.404444</td>\n",
       "      <td>4</td>\n",
       "      <td>133</td>\n",
       "      <td>55</td>\n",
       "      <td>5</td>\n",
       "      <td>6</td>\n",
       "      <td>0</td>\n",
       "    </tr>\n",
       "    <tr>\n",
       "      <th>2</th>\n",
       "      <td>2004</td>\n",
       "      <td>Debris Burning</td>\n",
       "      <td>38.984167</td>\n",
       "      <td>-120.735556</td>\n",
       "      <td>4</td>\n",
       "      <td>152</td>\n",
       "      <td>33</td>\n",
       "      <td>5</td>\n",
       "      <td>1</td>\n",
       "      <td>0</td>\n",
       "    </tr>\n",
       "    <tr>\n",
       "      <th>3</th>\n",
       "      <td>2004</td>\n",
       "      <td>Lightning</td>\n",
       "      <td>38.559167</td>\n",
       "      <td>-119.913333</td>\n",
       "      <td>4</td>\n",
       "      <td>180</td>\n",
       "      <td>33</td>\n",
       "      <td>6</td>\n",
       "      <td>1</td>\n",
       "      <td>5</td>\n",
       "    </tr>\n",
       "    <tr>\n",
       "      <th>4</th>\n",
       "      <td>2004</td>\n",
       "      <td>Lightning</td>\n",
       "      <td>38.559167</td>\n",
       "      <td>-119.933056</td>\n",
       "      <td>4</td>\n",
       "      <td>180</td>\n",
       "      <td>33</td>\n",
       "      <td>6</td>\n",
       "      <td>1</td>\n",
       "      <td>5</td>\n",
       "    </tr>\n",
       "  </tbody>\n",
       "</table>\n",
       "</div>"
      ],
      "text/plain": [
       "   FIRE_YEAR STAT_CAUSE_DESCR   LATITUDE   LONGITUDE  STATE  DISCOVERY_DOY  \\\n",
       "0       2005    Miscellaneous  40.036944 -121.005833      4             33   \n",
       "1       2004        Lightning  38.933056 -120.404444      4            133   \n",
       "2       2004   Debris Burning  38.984167 -120.735556      4            152   \n",
       "3       2004        Lightning  38.559167 -119.913333      4            180   \n",
       "4       2004        Lightning  38.559167 -119.933056      4            180   \n",
       "\n",
       "   FIRE_SIZE  MONTH  DAY_OF_WEEK  TIME  \n",
       "0         33      2            6     0  \n",
       "1         55      5            6     0  \n",
       "2         33      5            1     0  \n",
       "3         33      6            1     5  \n",
       "4         33      6            1     5  "
      ]
     },
     "execution_count": 87,
     "metadata": {},
     "output_type": "execute_result"
    }
   ],
   "source": [
    "df_drop_date.head()"
   ]
  },
  {
   "cell_type": "code",
   "execution_count": 88,
   "id": "narrative-impact",
   "metadata": {},
   "outputs": [
    {
     "data": {
      "text/html": [
       "<div>\n",
       "<style scoped>\n",
       "    .dataframe tbody tr th:only-of-type {\n",
       "        vertical-align: middle;\n",
       "    }\n",
       "\n",
       "    .dataframe tbody tr th {\n",
       "        vertical-align: top;\n",
       "    }\n",
       "\n",
       "    .dataframe thead th {\n",
       "        text-align: right;\n",
       "    }\n",
       "</style>\n",
       "<table border=\"1\" class=\"dataframe\">\n",
       "  <thead>\n",
       "    <tr style=\"text-align: right;\">\n",
       "      <th></th>\n",
       "      <th>FIRE_YEAR</th>\n",
       "      <th>STAT_CAUSE_DESCR</th>\n",
       "      <th>LATITUDE</th>\n",
       "      <th>LONGITUDE</th>\n",
       "      <th>STATE</th>\n",
       "      <th>DISCOVERY_DOY</th>\n",
       "      <th>FIRE_SIZE</th>\n",
       "      <th>MONTH</th>\n",
       "      <th>DAY_OF_WEEK</th>\n",
       "      <th>TIME</th>\n",
       "    </tr>\n",
       "  </thead>\n",
       "  <tbody>\n",
       "    <tr>\n",
       "      <th>0</th>\n",
       "      <td>2005</td>\n",
       "      <td>Miscellaneous</td>\n",
       "      <td>40.036944</td>\n",
       "      <td>-121.005833</td>\n",
       "      <td>4</td>\n",
       "      <td>33</td>\n",
       "      <td>33</td>\n",
       "      <td>2</td>\n",
       "      <td>6</td>\n",
       "      <td>0</td>\n",
       "    </tr>\n",
       "    <tr>\n",
       "      <th>1</th>\n",
       "      <td>2004</td>\n",
       "      <td>Lightning</td>\n",
       "      <td>38.933056</td>\n",
       "      <td>-120.404444</td>\n",
       "      <td>4</td>\n",
       "      <td>133</td>\n",
       "      <td>55</td>\n",
       "      <td>5</td>\n",
       "      <td>6</td>\n",
       "      <td>0</td>\n",
       "    </tr>\n",
       "    <tr>\n",
       "      <th>2</th>\n",
       "      <td>2004</td>\n",
       "      <td>Debris Burning</td>\n",
       "      <td>38.984167</td>\n",
       "      <td>-120.735556</td>\n",
       "      <td>4</td>\n",
       "      <td>152</td>\n",
       "      <td>33</td>\n",
       "      <td>5</td>\n",
       "      <td>1</td>\n",
       "      <td>0</td>\n",
       "    </tr>\n",
       "    <tr>\n",
       "      <th>3</th>\n",
       "      <td>2004</td>\n",
       "      <td>Lightning</td>\n",
       "      <td>38.559167</td>\n",
       "      <td>-119.913333</td>\n",
       "      <td>4</td>\n",
       "      <td>180</td>\n",
       "      <td>33</td>\n",
       "      <td>6</td>\n",
       "      <td>1</td>\n",
       "      <td>5</td>\n",
       "    </tr>\n",
       "    <tr>\n",
       "      <th>4</th>\n",
       "      <td>2004</td>\n",
       "      <td>Lightning</td>\n",
       "      <td>38.559167</td>\n",
       "      <td>-119.933056</td>\n",
       "      <td>4</td>\n",
       "      <td>180</td>\n",
       "      <td>33</td>\n",
       "      <td>6</td>\n",
       "      <td>1</td>\n",
       "      <td>5</td>\n",
       "    </tr>\n",
       "  </tbody>\n",
       "</table>\n",
       "</div>"
      ],
      "text/plain": [
       "   FIRE_YEAR STAT_CAUSE_DESCR   LATITUDE   LONGITUDE  STATE  DISCOVERY_DOY  \\\n",
       "0       2005    Miscellaneous  40.036944 -121.005833      4             33   \n",
       "1       2004        Lightning  38.933056 -120.404444      4            133   \n",
       "2       2004   Debris Burning  38.984167 -120.735556      4            152   \n",
       "3       2004        Lightning  38.559167 -119.913333      4            180   \n",
       "4       2004        Lightning  38.559167 -119.933056      4            180   \n",
       "\n",
       "   FIRE_SIZE  MONTH  DAY_OF_WEEK  TIME  \n",
       "0         33      2            6     0  \n",
       "1         55      5            6     0  \n",
       "2         33      5            1     0  \n",
       "3         33      6            1     5  \n",
       "4         33      6            1     5  "
      ]
     },
     "execution_count": 88,
     "metadata": {},
     "output_type": "execute_result"
    }
   ],
   "source": [
    "df_og.head()"
   ]
  },
  {
   "cell_type": "code",
   "execution_count": 89,
   "id": "filled-brunei",
   "metadata": {},
   "outputs": [],
   "source": [
    "# df_drop_month = df_drop_date.drop('DISCOVERY_DOY',axis=1)\n",
    "df_drop_month = df_drop_date.drop('MONTH',axis=1)"
   ]
  },
  {
   "cell_type": "code",
   "execution_count": 90,
   "id": "amended-latin",
   "metadata": {},
   "outputs": [],
   "source": [
    "df_drop_month['STAT_CAUSE_DESCR'] = le.fit_transform(df_drop_month['STAT_CAUSE_DESCR'])"
   ]
  },
  {
   "cell_type": "code",
   "execution_count": 91,
   "id": "arabic-cylinder",
   "metadata": {},
   "outputs": [
    {
     "data": {
      "text/html": [
       "<div>\n",
       "<style scoped>\n",
       "    .dataframe tbody tr th:only-of-type {\n",
       "        vertical-align: middle;\n",
       "    }\n",
       "\n",
       "    .dataframe tbody tr th {\n",
       "        vertical-align: top;\n",
       "    }\n",
       "\n",
       "    .dataframe thead th {\n",
       "        text-align: right;\n",
       "    }\n",
       "</style>\n",
       "<table border=\"1\" class=\"dataframe\">\n",
       "  <thead>\n",
       "    <tr style=\"text-align: right;\">\n",
       "      <th></th>\n",
       "      <th>FIRE_YEAR</th>\n",
       "      <th>STAT_CAUSE_DESCR</th>\n",
       "      <th>LATITUDE</th>\n",
       "      <th>LONGITUDE</th>\n",
       "      <th>STATE</th>\n",
       "      <th>DISCOVERY_DOY</th>\n",
       "      <th>FIRE_SIZE</th>\n",
       "      <th>DAY_OF_WEEK</th>\n",
       "      <th>TIME</th>\n",
       "    </tr>\n",
       "  </thead>\n",
       "  <tbody>\n",
       "    <tr>\n",
       "      <th>0</th>\n",
       "      <td>2005</td>\n",
       "      <td>7</td>\n",
       "      <td>40.036944</td>\n",
       "      <td>-121.005833</td>\n",
       "      <td>4</td>\n",
       "      <td>33</td>\n",
       "      <td>33</td>\n",
       "      <td>6</td>\n",
       "      <td>0</td>\n",
       "    </tr>\n",
       "    <tr>\n",
       "      <th>1</th>\n",
       "      <td>2004</td>\n",
       "      <td>6</td>\n",
       "      <td>38.933056</td>\n",
       "      <td>-120.404444</td>\n",
       "      <td>4</td>\n",
       "      <td>133</td>\n",
       "      <td>55</td>\n",
       "      <td>6</td>\n",
       "      <td>0</td>\n",
       "    </tr>\n",
       "    <tr>\n",
       "      <th>2</th>\n",
       "      <td>2004</td>\n",
       "      <td>3</td>\n",
       "      <td>38.984167</td>\n",
       "      <td>-120.735556</td>\n",
       "      <td>4</td>\n",
       "      <td>152</td>\n",
       "      <td>33</td>\n",
       "      <td>1</td>\n",
       "      <td>0</td>\n",
       "    </tr>\n",
       "    <tr>\n",
       "      <th>3</th>\n",
       "      <td>2004</td>\n",
       "      <td>6</td>\n",
       "      <td>38.559167</td>\n",
       "      <td>-119.913333</td>\n",
       "      <td>4</td>\n",
       "      <td>180</td>\n",
       "      <td>33</td>\n",
       "      <td>1</td>\n",
       "      <td>5</td>\n",
       "    </tr>\n",
       "    <tr>\n",
       "      <th>4</th>\n",
       "      <td>2004</td>\n",
       "      <td>6</td>\n",
       "      <td>38.559167</td>\n",
       "      <td>-119.933056</td>\n",
       "      <td>4</td>\n",
       "      <td>180</td>\n",
       "      <td>33</td>\n",
       "      <td>1</td>\n",
       "      <td>5</td>\n",
       "    </tr>\n",
       "  </tbody>\n",
       "</table>\n",
       "</div>"
      ],
      "text/plain": [
       "   FIRE_YEAR  STAT_CAUSE_DESCR   LATITUDE   LONGITUDE  STATE  DISCOVERY_DOY  \\\n",
       "0       2005                 7  40.036944 -121.005833      4             33   \n",
       "1       2004                 6  38.933056 -120.404444      4            133   \n",
       "2       2004                 3  38.984167 -120.735556      4            152   \n",
       "3       2004                 6  38.559167 -119.913333      4            180   \n",
       "4       2004                 6  38.559167 -119.933056      4            180   \n",
       "\n",
       "   FIRE_SIZE  DAY_OF_WEEK  TIME  \n",
       "0         33            6     0  \n",
       "1         55            6     0  \n",
       "2         33            1     0  \n",
       "3         33            1     5  \n",
       "4         33            1     5  "
      ]
     },
     "execution_count": 91,
     "metadata": {},
     "output_type": "execute_result"
    }
   ],
   "source": [
    "df_drop_month.head()"
   ]
  },
  {
   "cell_type": "code",
   "execution_count": 92,
   "id": "false-ukraine",
   "metadata": {},
   "outputs": [
    {
     "name": "stdout",
     "output_type": "stream",
     "text": [
      "(988934, 8)\n",
      "(988934,)\n"
     ]
    }
   ],
   "source": [
    "y_moth_fy = df_drop_month['STAT_CAUSE_DESCR'].values\n",
    "X_month_fy = df_drop_month.drop(['STAT_CAUSE_DESCR'], axis=1).values\n",
    "\n",
    "print(X_month_fy.shape)\n",
    "print(y_moth_fy.shape)"
   ]
  },
  {
   "cell_type": "code",
   "execution_count": 100,
   "id": "communist-mercy",
   "metadata": {},
   "outputs": [],
   "source": [
    "X_train_70, X_test_30, y_train_70, y_test_30 = train_test_split(X_month_fy,y_moth_fy,test_size=0.30, random_state=0)"
   ]
  },
  {
   "cell_type": "code",
   "execution_count": 101,
   "id": "funky-double",
   "metadata": {},
   "outputs": [],
   "source": [
    "model = tree.DecisionTreeClassifier(criterion = 'gini', \n",
    "                            max_depth = 200, \n",
    "                            min_samples_split = 100, \n",
    "                            min_samples_leaf = 10)\n",
    "dt = model.fit(X_train_75, y_train_75)\n"
   ]
  },
  {
   "cell_type": "code",
   "execution_count": 102,
   "id": "warming-origin",
   "metadata": {},
   "outputs": [
    {
     "name": "stdout",
     "output_type": "stream",
     "text": [
      "Score on training set: 0.6159768100310098\n",
      "Score on testing set: 0.5770848669681354\n"
     ]
    }
   ],
   "source": [
    "# Print scores\n",
    "print(f'Score on training set: {dt.score(X_train_75, y_train_75)}')\n",
    "print(f'Score on testing set: {dt.score(X_test_25, y_test_25)}')"
   ]
  },
  {
   "cell_type": "code",
   "execution_count": 103,
   "id": "pleasant-market",
   "metadata": {},
   "outputs": [],
   "source": [
    "df_label = df_drop_date.drop('MONTH',axis=1)\n"
   ]
  },
  {
   "cell_type": "code",
   "execution_count": 104,
   "id": "instructional-foundation",
   "metadata": {},
   "outputs": [
    {
     "name": "stdout",
     "output_type": "stream",
     "text": [
      "   FIRE_YEAR   LATITUDE   LONGITUDE  STATE  DISCOVERY_DOY  FIRE_SIZE  \\\n",
      "0       2005  40.036944 -121.005833      4             33         33   \n",
      "1       2004  38.933056 -120.404444      4            133         55   \n",
      "2       2004  38.984167 -120.735556      4            152         33   \n",
      "3       2004  38.559167 -119.913333      4            180         33   \n",
      "4       2004  38.559167 -119.933056      4            180         33   \n",
      "\n",
      "   DAY_OF_WEEK  TIME  LABEL  \n",
      "0            6     0      4  \n",
      "1            6     0      1  \n",
      "2            1     0      2  \n",
      "3            1     5      1  \n",
      "4            1     5      1  \n"
     ]
    }
   ],
   "source": [
    "#Putting all the causes into 4 different categories, since there are so many of them. \n",
    "def set_label(cat):\n",
    "    cause = 0\n",
    "    natural = ['Lightning']\n",
    "    accidental = ['Structure','Fireworks','Powerline','Railroad','Smoking','Children','Campfire','Equipment Use','Debris Burning']\n",
    "    arson = ['Arson']\n",
    "    other = ['Missing/Undefined','Miscellaneous']\n",
    "    if cat in natural:\n",
    "        cause = 1\n",
    "    elif cat in accidental:\n",
    "        cause = 2\n",
    "    elif cat in malicious:\n",
    "        cause = 3\n",
    "    else:\n",
    "        cause = 4\n",
    "    return cause\n",
    "\n",
    "df_label['LABEL'] = df_label['STAT_CAUSE_DESCR'].apply(lambda x: set_label(x)) # I created a copy of the original df earlier in the kernel\n",
    "df_drop_month_4 = df_label.drop('STAT_CAUSE_DESCR',axis=1)\n",
    "print(df_drop_month_4.head())\n",
    "#The new categories are: \"natural, accidental, arson and other\""
   ]
  },
  {
   "cell_type": "code",
   "execution_count": 105,
   "id": "toxic-chorus",
   "metadata": {},
   "outputs": [],
   "source": [
    "#This time we want to predict 'Label'. Splitting the dataset into train and test sets once again.\n",
    "y_label = df_drop_month_4['LABEL'].values\n",
    "X_label = df_drop_month_4.drop(['LABEL'], axis=1).values\n",
    "\n",
    "X_train_4, X_test_4, y_train_4, y_test_4 = train_test_split(X_label,y_label,test_size=0.30, random_state=0)"
   ]
  },
  {
   "cell_type": "code",
   "execution_count": 106,
   "id": "brilliant-joseph",
   "metadata": {},
   "outputs": [],
   "source": [
    "model = tree.DecisionTreeClassifier(criterion = 'gini', \n",
    "                            max_depth = 200, \n",
    "                            min_samples_split = 100, \n",
    "                            min_samples_leaf = 10)\n",
    "dt = model.fit(X_train_4, y_train_4)"
   ]
  },
  {
   "cell_type": "code",
   "execution_count": 108,
   "id": "fantastic-church",
   "metadata": {},
   "outputs": [
    {
     "name": "stdout",
     "output_type": "stream",
     "text": [
      "Score on training set: 0.7234984897140208\n",
      "Score on testing set: 0.6856724899808212\n"
     ]
    }
   ],
   "source": [
    "# Print scores\n",
    "print(f'Score on training set: {dt.score(X_train_4, y_train_4)}')\n",
    "print(f'Score on testing set: {dt.score(X_test_4, y_test_4)}')"
   ]
  },
  {
   "cell_type": "code",
   "execution_count": 131,
   "id": "expressed-honolulu",
   "metadata": {},
   "outputs": [
    {
     "data": {
      "image/png": "[encoded data removed]",
      "text/plain": [
       "<Figure size 864x864 with 2 Axes>"
      ]
     },
     "metadata": {
      "needs_background": "light"
     },
     "output_type": "display_data"
    }
   ],
   "source": [
    "def plot_confusion_matrix(y_test, X_test, model):\n",
    "    preds = model.predict(X_test)\n",
    "    plt.figure(figsize = (12,12))\n",
    "    plt.title('Confusion Matrix of all stated causes', fontdict = {'fontsize':16})\n",
    "\n",
    "    sns.heatmap(confusion_matrix(y_test, \n",
    "                                 preds, \n",
    "                                 labels = [1,  2,  3, 4], \n",
    "                                 normalize = 'true'), annot = True)\n",
    "    plt.xlabel('Prediction Class')\n",
    "    plt.ylabel('True Class')\n",
    "    plt.xticks(ticks = [i - 0.5 for i in range(1,5)], labels = [1,  2,  3, 4]);\n",
    "    plt.yticks(ticks = [i - 0.5 for i in range(1,5)], labels = [1,  2,  3, 4]);\n",
    "\n",
    "plot_confusion_matrix(y_test_4, X_test_4, dt)"
   ]
  },
  {
   "cell_type": "code",
   "execution_count": null,
   "id": "median-reflection",
   "metadata": {},
   "outputs": [],
   "source": []
  },
  {
   "cell_type": "code",
   "execution_count": null,
   "id": "progressive-mixture",
   "metadata": {},
   "outputs": [],
   "source": []
  },
  {
   "cell_type": "code",
   "execution_count": null,
   "id": "improving-metabolism",
   "metadata": {},
   "outputs": [],
   "source": []
  },
  {
   "cell_type": "code",
   "execution_count": null,
   "id": "missing-winner",
   "metadata": {},
   "outputs": [],
   "source": []
  },
  {
   "cell_type": "code",
   "execution_count": null,
   "id": "scientific-wireless",
   "metadata": {},
   "outputs": [],
   "source": []
  },
  {
   "cell_type": "code",
   "execution_count": null,
   "id": "stock-maryland",
   "metadata": {},
   "outputs": [],
   "source": []
  },
  {
   "cell_type": "code",
   "execution_count": null,
   "id": "regional-match",
   "metadata": {},
   "outputs": [],
   "source": []
  },
  {
   "cell_type": "code",
   "execution_count": 121,
   "id": "continent-state",
   "metadata": {},
   "outputs": [
    {
     "name": "stdout",
     "output_type": "stream",
     "text": [
      "Score on training set: 0.7041182920117356\n",
      "Score on testing set: 0.6884498838820147\n"
     ]
    }
   ],
   "source": [
    "rf = RandomForestClassifier(n_estimators = 50, \n",
    "                            max_depth = 100, \n",
    "                            min_samples_split = 100, \n",
    "                            min_samples_leaf =40)\n",
    "\n",
    "rf_dt = rf.fit(X_train_4, y_train_4)\n",
    "\n",
    "print(f'Score on training set: {rf_dt.score(X_train_4, y_train_4)}')\n",
    "print(f'Score on testing set: {rf_dt.score(X_test_4, y_test_4)}')"
   ]
  },
  {
   "cell_type": "code",
   "execution_count": 123,
   "id": "orange-minneapolis",
   "metadata": {},
   "outputs": [
    {
     "name": "stdout",
     "output_type": "stream",
     "text": [
      "Score on training set: 0.6040999461179656\n",
      "Score on testing set: 0.6042618165639189\n"
     ]
    }
   ],
   "source": [
    "ada = AdaBoostClassifier(base_estimator = tree.DecisionTreeClassifier(max_depth = 2), n_estimators = 30)\n",
    "ada_dt = ada.fit(X_train_4, y_train_4)\n",
    "print(f'Score on training set: {ada_dt.score(X_train_4, y_train_4)}')\n",
    "print(f'Score on testing set: {ada_dt.score(X_test_4, y_test_4)}')"
   ]
  },
  {
   "cell_type": "code",
   "execution_count": 124,
   "id": "technical-salmon",
   "metadata": {},
   "outputs": [],
   "source": [
    "preds = ada.predict(X_test_4)\n"
   ]
  },
  {
   "cell_type": "code",
   "execution_count": 125,
   "id": "demanding-guarantee",
   "metadata": {},
   "outputs": [
    {
     "ename": "ValueError",
     "evalue": "y_true and y_pred contain different number of classes 4, 2. Please provide the true labels explicitly through the labels argument. Classes found in y_true: [1 2 3 4]",
     "output_type": "error",
     "traceback": [
      "\u001b[0;31m---------------------------------------------------------------------------\u001b[0m",
      "\u001b[0;31mValueError\u001b[0m                                Traceback (most recent call last)",
      "\u001b[0;32m<ipython-input-125-d6eca7933a7c>\u001b[0m in \u001b[0;36m<module>\u001b[0;34m\u001b[0m\n\u001b[0;32m----> 1\u001b[0;31m \u001b[0mlog_loss\u001b[0m\u001b[0;34m(\u001b[0m\u001b[0my_test_4\u001b[0m\u001b[0;34m,\u001b[0m \u001b[0mpreds\u001b[0m\u001b[0;34m)\u001b[0m\u001b[0;34m\u001b[0m\u001b[0;34m\u001b[0m\u001b[0m\n\u001b[0m",
      "\u001b[0;32m/usr/local/lib/python3.9/site-packages/sklearn/utils/validation.py\u001b[0m in \u001b[0;36minner_f\u001b[0;34m(*args, **kwargs)\u001b[0m\n\u001b[1;32m     61\u001b[0m             \u001b[0mextra_args\u001b[0m \u001b[0;34m=\u001b[0m \u001b[0mlen\u001b[0m\u001b[0;34m(\u001b[0m\u001b[0margs\u001b[0m\u001b[0;34m)\u001b[0m \u001b[0;34m-\u001b[0m \u001b[0mlen\u001b[0m\u001b[0;34m(\u001b[0m\u001b[0mall_args\u001b[0m\u001b[0;34m)\u001b[0m\u001b[0;34m\u001b[0m\u001b[0;34m\u001b[0m\u001b[0m\n\u001b[1;32m     62\u001b[0m             \u001b[0;32mif\u001b[0m \u001b[0mextra_args\u001b[0m \u001b[0;34m<=\u001b[0m \u001b[0;36m0\u001b[0m\u001b[0;34m:\u001b[0m\u001b[0;34m\u001b[0m\u001b[0;34m\u001b[0m\u001b[0m\n\u001b[0;32m---> 63\u001b[0;31m                 \u001b[0;32mreturn\u001b[0m \u001b[0mf\u001b[0m\u001b[0;34m(\u001b[0m\u001b[0;34m*\u001b[0m\u001b[0margs\u001b[0m\u001b[0;34m,\u001b[0m \u001b[0;34m**\u001b[0m\u001b[0mkwargs\u001b[0m\u001b[0;34m)\u001b[0m\u001b[0;34m\u001b[0m\u001b[0;34m\u001b[0m\u001b[0m\n\u001b[0m\u001b[1;32m     64\u001b[0m \u001b[0;34m\u001b[0m\u001b[0m\n\u001b[1;32m     65\u001b[0m             \u001b[0;31m# extra_args > 0\u001b[0m\u001b[0;34m\u001b[0m\u001b[0;34m\u001b[0m\u001b[0;34m\u001b[0m\u001b[0m\n",
      "\u001b[0;32m/usr/local/lib/python3.9/site-packages/sklearn/metrics/_classification.py\u001b[0m in \u001b[0;36mlog_loss\u001b[0;34m(y_true, y_pred, eps, normalize, sample_weight, labels)\u001b[0m\n\u001b[1;32m   2263\u001b[0m     \u001b[0;32mif\u001b[0m \u001b[0mlen\u001b[0m\u001b[0;34m(\u001b[0m\u001b[0mlb\u001b[0m\u001b[0;34m.\u001b[0m\u001b[0mclasses_\u001b[0m\u001b[0;34m)\u001b[0m \u001b[0;34m!=\u001b[0m \u001b[0my_pred\u001b[0m\u001b[0;34m.\u001b[0m\u001b[0mshape\u001b[0m\u001b[0;34m[\u001b[0m\u001b[0;36m1\u001b[0m\u001b[0;34m]\u001b[0m\u001b[0;34m:\u001b[0m\u001b[0;34m\u001b[0m\u001b[0;34m\u001b[0m\u001b[0m\n\u001b[1;32m   2264\u001b[0m         \u001b[0;32mif\u001b[0m \u001b[0mlabels\u001b[0m \u001b[0;32mis\u001b[0m \u001b[0;32mNone\u001b[0m\u001b[0;34m:\u001b[0m\u001b[0;34m\u001b[0m\u001b[0;34m\u001b[0m\u001b[0m\n\u001b[0;32m-> 2265\u001b[0;31m             raise ValueError(\"y_true and y_pred contain different number of \"\n\u001b[0m\u001b[1;32m   2266\u001b[0m                              \u001b[0;34m\"classes {0}, {1}. Please provide the true \"\u001b[0m\u001b[0;34m\u001b[0m\u001b[0;34m\u001b[0m\u001b[0m\n\u001b[1;32m   2267\u001b[0m                              \u001b[0;34m\"labels explicitly through the labels argument. \"\u001b[0m\u001b[0;34m\u001b[0m\u001b[0;34m\u001b[0m\u001b[0m\n",
      "\u001b[0;31mValueError\u001b[0m: y_true and y_pred contain different number of classes 4, 2. Please provide the true labels explicitly through the labels argument. Classes found in y_true: [1 2 3 4]"
     ]
    }
   ],
   "source": [
    "log_loss(y_test_4, preds)\n"
   ]
  },
  {
   "cell_type": "code",
   "execution_count": null,
   "id": "outside-washer",
   "metadata": {},
   "outputs": [],
   "source": [
    "print(ada.score(X_train_4, y_train_4))\n",
    "print(ada.score(X_test_4, y_test_4))"
   ]
  },
  {
   "cell_type": "code",
   "execution_count": null,
   "id": "soviet-mortality",
   "metadata": {},
   "outputs": [],
   "source": []
  }
 ],
 "metadata": {
  "kernelspec": {
   "display_name": "Python 3",
   "language": "python",
   "name": "python3"
  },
  "language_info": {
   "codemirror_mode": {
    "name": "ipython",
    "version": 3
   },
   "file_extension": ".py",
   "mimetype": "text/x-python",
   "name": "python",
   "nbconvert_exporter": "python",
   "pygments_lexer": "ipython3",
   "version": "3.9.4"
  }
 },
 "nbformat": 4,
 "nbformat_minor": 5
}
