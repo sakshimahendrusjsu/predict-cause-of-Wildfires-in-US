{
 "cells": [
  {
   "cell_type": "code",
   "execution_count": 35,
   "id": "91a77338",
   "metadata": {},
   "outputs": [],
   "source": [
    "import pandas as pd\n",
    "import numpy as np\n",
    "import sqlite3\n",
    "import matplotlib.pyplot as plt\n",
    "from sklearn.preprocessing import scale\n",
    "from sklearn import tree, preprocessing\n",
    "from sklearn.model_selection import train_test_split\n",
    "from sklearn.neighbors import KNeighborsClassifier\n",
    "from sklearn import tree\n",
    "from sklearn.ensemble import RandomForestClassifier, AdaBoostClassifier\n",
    "from sklearn.linear_model import LogisticRegression\n",
    "from sklearn.tree import DecisionTreeRegressor as dtr\n",
    "\n",
    "from sklearn.metrics import f1_score\n",
    "from sklearn.metrics import balanced_accuracy_score"
   ]
  },
  {
   "cell_type": "markdown",
   "id": "80e877f4",
   "metadata": {},
   "source": [
    "### Data Loading"
   ]
  },
  {
   "cell_type": "code",
   "execution_count": 2,
   "id": "92c111c1",
   "metadata": {},
   "outputs": [],
   "source": [
    "conn = sqlite3.connect('RDS-2013-0009.4_SQLITE/Data/FPA_FOD_20170508.sqlite')\n",
    "\n",
    "#conn = sqlite3.connect('FPA_FOD_20170508.sqlite')"
   ]
  },
  {
   "cell_type": "code",
   "execution_count": 4,
   "id": "358b7df8",
   "metadata": {},
   "outputs": [],
   "source": [
    "# df = pd.read_sql_query(\"SELECT * FROM 'Fires'\", conn)\n",
    "# print(df.head())\n"
   ]
  },
  {
   "cell_type": "code",
   "execution_count": 5,
   "id": "14196662",
   "metadata": {},
   "outputs": [
    {
     "name": "stdout",
     "output_type": "stream",
     "text": [
      "Index(['OBJECTID', 'FOD_ID', 'FPA_ID', 'SOURCE_SYSTEM_TYPE', 'SOURCE_SYSTEM',\n",
      "       'NWCG_REPORTING_AGENCY', 'NWCG_REPORTING_UNIT_ID',\n",
      "       'NWCG_REPORTING_UNIT_NAME', 'SOURCE_REPORTING_UNIT',\n",
      "       'SOURCE_REPORTING_UNIT_NAME', 'LOCAL_FIRE_REPORT_ID',\n",
      "       'LOCAL_INCIDENT_ID', 'FIRE_CODE', 'FIRE_NAME',\n",
      "       'ICS_209_INCIDENT_NUMBER', 'ICS_209_NAME', 'MTBS_ID', 'MTBS_FIRE_NAME',\n",
      "       'COMPLEX_NAME', 'FIRE_YEAR', 'DISCOVERY_DATE', 'DISCOVERY_DOY',\n",
      "       'DISCOVERY_TIME', 'STAT_CAUSE_CODE', 'STAT_CAUSE_DESCR', 'CONT_DATE',\n",
      "       'CONT_DOY', 'CONT_TIME', 'FIRE_SIZE', 'FIRE_SIZE_CLASS', 'LATITUDE',\n",
      "       'LONGITUDE', 'OWNER_CODE', 'OWNER_DESCR', 'STATE', 'COUNTY',\n",
      "       'FIPS_CODE', 'FIPS_NAME', 'Shape'],\n",
      "      dtype='object')\n"
     ]
    }
   ],
   "source": [
    "print(df.columns)"
   ]
  },
  {
   "cell_type": "code",
   "execution_count": 6,
   "id": "b1d613b0",
   "metadata": {},
   "outputs": [
    {
     "name": "stdout",
     "output_type": "stream",
     "text": [
      "   FIRE_YEAR STAT_CAUSE_DESCR  STAT_CAUSE_CODE   LATITUDE   LONGITUDE STATE  \\\n",
      "0       2005    Miscellaneous              9.0  40.036944 -121.005833    CA   \n",
      "1       2004        Lightning              1.0  38.933056 -120.404444    CA   \n",
      "2       2004   Debris Burning              5.0  38.984167 -120.735556    CA   \n",
      "3       2004        Lightning              1.0  38.559167 -119.913333    CA   \n",
      "4       2004        Lightning              1.0  38.559167 -119.933056    CA   \n",
      "\n",
      "   DISCOVERY_DATE  DISCOVERY_DOY  FIRE_SIZE DISCOVERY_TIME FIPS_CODE  \\\n",
      "0       2453403.5             33       0.10           1300       063   \n",
      "1       2453137.5            133       0.25           0845       061   \n",
      "2       2453156.5            152       0.10           1921       017   \n",
      "3       2453184.5            180       0.10           1600       003   \n",
      "4       2453184.5            180       0.10           1600       003   \n",
      "\n",
      "   CONT_DATE       OWNER_DESCR  \n",
      "0  2453403.5              USFS  \n",
      "1  2453137.5              USFS  \n",
      "2  2453156.5  STATE OR PRIVATE  \n",
      "3  2453189.5              USFS  \n",
      "4  2453189.5              USFS  \n"
     ]
    }
   ],
   "source": [
    "df = pd.read_sql_query(\"SELECT FIRE_YEAR,STAT_CAUSE_DESCR, STAT_CAUSE_CODE, LATITUDE,LONGITUDE,STATE,DISCOVERY_DATE,DISCOVERY_DOY,FIRE_SIZE,DISCOVERY_TIME, FIPS_CODE, CONT_DATE, OWNER_DESCR FROM 'Fires'\", conn)\n",
    "print(df.head())"
   ]
  },
  {
   "cell_type": "markdown",
   "id": "9922e1d3",
   "metadata": {},
   "source": [
    "### Data Preprocessing and EDA"
   ]
  },
  {
   "cell_type": "code",
   "execution_count": 7,
   "id": "467774a0",
   "metadata": {},
   "outputs": [
    {
     "name": "stdout",
     "output_type": "stream",
     "text": [
      "   FIRE_YEAR STAT_CAUSE_DESCR  STAT_CAUSE_CODE   LATITUDE   LONGITUDE STATE  \\\n",
      "0       2005    Miscellaneous              9.0  40.036944 -121.005833    CA   \n",
      "1       2004        Lightning              1.0  38.933056 -120.404444    CA   \n",
      "2       2004   Debris Burning              5.0  38.984167 -120.735556    CA   \n",
      "3       2004        Lightning              1.0  38.559167 -119.913333    CA   \n",
      "4       2004        Lightning              1.0  38.559167 -119.933056    CA   \n",
      "\n",
      "   DISCOVERY_DATE  DISCOVERY_DOY  FIRE_SIZE DISCOVERY_TIME FIPS_CODE  \\\n",
      "0       2453403.5             33       0.10           1300       063   \n",
      "1       2453137.5            133       0.25           0845       061   \n",
      "2       2453156.5            152       0.10           1921       017   \n",
      "3       2453184.5            180       0.10           1600       003   \n",
      "4       2453184.5            180       0.10           1600       003   \n",
      "\n",
      "   CONT_DATE       OWNER_DESCR       DATE  MONTH DAY_OF_WEEK  CONT_TIME  \n",
      "0  2453403.5              USFS 2005-02-02      2   Wednesday        0.0  \n",
      "1  2453137.5              USFS 2004-05-12      5   Wednesday        0.0  \n",
      "2  2453156.5  STATE OR PRIVATE 2004-05-31      5      Monday        0.0  \n",
      "3  2453189.5              USFS 2004-06-28      6      Monday        5.0  \n",
      "4  2453189.5              USFS 2004-06-28      6      Monday        5.0  \n"
     ]
    }
   ],
   "source": [
    "#Alter / Standardize few column\n",
    "df['DATE'] = pd.to_datetime(df['DISCOVERY_DATE'] - pd.Timestamp(0).to_julian_date(), unit='D')\n",
    "df['MONTH'] = pd.DatetimeIndex(df['DATE']).month\n",
    "df['DAY_OF_WEEK'] = df['DATE'].dt.day_name()\n",
    "df['DISCOVERY_TIME'].fillna(pd.to_numeric(df['DISCOVERY_TIME'].dropna()).mean(), inplace=True)\n",
    "df['CONT_TIME'] = df['CONT_DATE'] - df['DISCOVERY_DATE']\n",
    "print(df.head())\n"
   ]
  },
  {
   "cell_type": "code",
   "execution_count": 9,
   "id": "f0b60059",
   "metadata": {},
   "outputs": [],
   "source": [
    "#Dropping null values. Also, Combining state fips code to the original fips code.\n",
    "df = df.dropna(subset=['FIPS_CODE'], axis=0)\n",
    "df = df.dropna()\n",
    "\n",
    "\n",
    "FIPS = {\n",
    "    'NM': '35',\n",
    "    'OR': '41',\n",
    "    'WY': '56',\n",
    "    'CA': '06',\n",
    "    'CO': '08',\n",
    "    'ID': '16',\n",
    "    'MT': '30',\n",
    "    'NV': '32',\n",
    "    'AZ': '04',\n",
    "    'UT': '49',\n",
    "    'WA': '53',\n",
    "}\n",
    "\n",
    "df['STATEWISE_FIPS'] = df['STATE'].map(FIPS)\n",
    "df['FIPS'] = df[['STATEWISE_FIPS', 'FIPS_CODE']].apply(''.join, axis=1)\n",
    "\n",
    "\n"
   ]
  },
  {
   "cell_type": "code",
   "execution_count": 10,
   "id": "bb185f42",
   "metadata": {},
   "outputs": [],
   "source": [
    "#Drop not needed columns\n",
    "df.drop(columns=['FIPS_CODE', 'STATEWISE_FIPS'], inplace=True)\n",
    "df = df.drop('DISCOVERY_DATE',axis=1)\n",
    "df = df.drop('CONT_DATE',axis=1)"
   ]
  },
  {
   "cell_type": "code",
   "execution_count": 11,
   "id": "3828c22d",
   "metadata": {},
   "outputs": [
    {
     "name": "stdout",
     "output_type": "stream",
     "text": [
      "   FIRE_YEAR STAT_CAUSE_DESCR  STAT_CAUSE_CODE   LATITUDE   LONGITUDE STATE  \\\n",
      "0       2005    Miscellaneous              9.0  40.036944 -121.005833    CA   \n",
      "1       2004        Lightning              1.0  38.933056 -120.404444    CA   \n",
      "2       2004   Debris Burning              5.0  38.984167 -120.735556    CA   \n",
      "3       2004        Lightning              1.0  38.559167 -119.913333    CA   \n",
      "4       2004        Lightning              1.0  38.559167 -119.933056    CA   \n",
      "\n",
      "   DISCOVERY_DOY  FIRE_SIZE DISCOVERY_TIME       OWNER_DESCR       DATE  \\\n",
      "0             33       0.10           1300              USFS 2005-02-02   \n",
      "1            133       0.25           0845              USFS 2004-05-12   \n",
      "2            152       0.10           1921  STATE OR PRIVATE 2004-05-31   \n",
      "3            180       0.10           1600              USFS 2004-06-28   \n",
      "4            180       0.10           1600              USFS 2004-06-28   \n",
      "\n",
      "   MONTH DAY_OF_WEEK  CONT_TIME   FIPS  \n",
      "0      2   Wednesday        0.0  06063  \n",
      "1      5   Wednesday        0.0  06061  \n",
      "2      5      Monday        0.0  06017  \n",
      "3      6      Monday        5.0  06003  \n",
      "4      6      Monday        5.0  06003  \n"
     ]
    }
   ],
   "source": [
    "print(df.head())"
   ]
  },
  {
   "cell_type": "code",
   "execution_count": 12,
   "id": "7cf55352",
   "metadata": {},
   "outputs": [
    {
     "data": {
      "image/png": "[encoded data removed]",
      "text/plain": [
       "<Figure size 432x288 with 1 Axes>"
      ]
     },
     "metadata": {
      "needs_background": "light"
     },
     "output_type": "display_data"
    }
   ],
   "source": [
    "df['STAT_CAUSE_CODE'].value_counts().plot(kind='barh',color='coral')\n",
    "\n",
    "plt.show()"
   ]
  },
  {
   "cell_type": "code",
   "execution_count": 13,
   "id": "59b2140d",
   "metadata": {
    "scrolled": true
   },
   "outputs": [
    {
     "data": {
      "image/png": "[encoded data removed]",
      "text/plain": [
       "<Figure size 432x288 with 1 Axes>"
      ]
     },
     "metadata": {
      "needs_background": "light"
     },
     "output_type": "display_data"
    }
   ],
   "source": [
    "df['STAT_CAUSE_DESCR'].value_counts().plot(kind='barh',color='coral')\n",
    "plt.show()"
   ]
  },
  {
   "cell_type": "code",
   "execution_count": 14,
   "id": "d18b1d5f",
   "metadata": {},
   "outputs": [
    {
     "name": "stdout",
     "output_type": "stream",
     "text": [
      "   FIRE_YEAR STAT_CAUSE_DESCR  STAT_CAUSE_CODE   LATITUDE   LONGITUDE STATE  \\\n",
      "1       2004        Lightning                1  38.933056 -120.404444    CA   \n",
      "2       2004   Debris Burning                5  38.984167 -120.735556    CA   \n",
      "3       2004        Lightning                1  38.559167 -119.913333    CA   \n",
      "4       2004        Lightning                1  38.559167 -119.933056    CA   \n",
      "5       2004        Lightning                1  38.635278 -120.103611    CA   \n",
      "\n",
      "   DISCOVERY_DOY  FIRE_SIZE DISCOVERY_TIME       OWNER_DESCR       DATE  \\\n",
      "1            133       0.25           0845              USFS 2004-05-12   \n",
      "2            152       0.10           1921  STATE OR PRIVATE 2004-05-31   \n",
      "3            180       0.10           1600              USFS 2004-06-28   \n",
      "4            180       0.10           1600              USFS 2004-06-28   \n",
      "5            182       0.10           1800              USFS 2004-06-30   \n",
      "\n",
      "   MONTH DAY_OF_WEEK  CONT_TIME   FIPS  \n",
      "1      5   Wednesday        0.0  06061  \n",
      "2      5      Monday        0.0  06017  \n",
      "3      6      Monday        5.0  06003  \n",
      "4      6      Monday        5.0  06003  \n",
      "5      6   Wednesday        1.0  06005  \n"
     ]
    }
   ],
   "source": [
    "#Drop rows that have STAT_CAUSE_CODE ==9 || STAT_CUSE_DESCR == 13 because it represents Missing/Undefined, Miscellaneous.\n",
    "df['STAT_CAUSE_CODE'] = df['STAT_CAUSE_CODE'].astype(int)\n",
    "~((df['STAT_CAUSE_CODE'] == 13) | (df['STAT_CAUSE_CODE'] == 9))\n",
    "df = df[~((df['STAT_CAUSE_CODE'] == 13) | (df['STAT_CAUSE_CODE'] == 9))]\n",
    "print(df.head())\n",
    "\n",
    "\n",
    "\n"
   ]
  },
  {
   "cell_type": "code",
   "execution_count": 15,
   "id": "8e4da5ce",
   "metadata": {},
   "outputs": [
    {
     "data": {
      "image/png": "[encoded data removed]",
      "text/plain": [
       "<Figure size 432x288 with 1 Axes>"
      ]
     },
     "metadata": {
      "needs_background": "light"
     },
     "output_type": "display_data"
    }
   ],
   "source": [
    "df['STAT_CAUSE_DESCR'].value_counts().plot(kind='barh',color='coral')\n",
    "plt.show()"
   ]
  },
  {
   "cell_type": "markdown",
   "id": "0696d8c8",
   "metadata": {},
   "source": [
    "### Model Prep"
   ]
  },
  {
   "cell_type": "code",
   "execution_count": 16,
   "id": "027ea3cb",
   "metadata": {
    "scrolled": false
   },
   "outputs": [
    {
     "name": "stdout",
     "output_type": "stream",
     "text": [
      "   FIRE_YEAR STAT_CAUSE_DESCR  STAT_CAUSE_CODE   LATITUDE   LONGITUDE  STATE  \\\n",
      "1       2004        Lightning                1  38.933056 -120.404444      1   \n",
      "2       2004   Debris Burning                5  38.984167 -120.735556      1   \n",
      "3       2004        Lightning                1  38.559167 -119.913333      1   \n",
      "4       2004        Lightning                1  38.559167 -119.933056      1   \n",
      "5       2004        Lightning                1  38.635278 -120.103611      1   \n",
      "\n",
      "   DISCOVERY_DOY  FIRE_SIZE DISCOVERY_TIME  OWNER_DESCR       DATE  MONTH  \\\n",
      "1            133       0.25           0845           14 2004-05-12      5   \n",
      "2            152       0.10           1921           11 2004-05-31      5   \n",
      "3            180       0.10           1600           14 2004-06-28      6   \n",
      "4            180       0.10           1600           14 2004-06-28      6   \n",
      "5            182       0.10           1800           14 2004-06-30      6   \n",
      "\n",
      "   DAY_OF_WEEK  CONT_TIME  FIPS  \n",
      "1            6        0.0    44  \n",
      "2            1        0.0    23  \n",
      "3            1        5.0    16  \n",
      "4            1        5.0    16  \n",
      "5            6        1.0    17  \n"
     ]
    }
   ],
   "source": [
    "#Scaling the values \n",
    "le = preprocessing.LabelEncoder()\n",
    "df['STATE'] = le.fit_transform(df['STATE'])\n",
    "\n",
    "df['DAY_OF_WEEK'] = le.fit_transform(df['DAY_OF_WEEK'])\n",
    "df['FIPS'] = le.fit_transform(df['FIPS'])\n",
    "df['OWNER_DESCR'] = le.fit_transform(df['OWNER_DESCR'])\n",
    "df = df.dropna()\n",
    "print(df.head())"
   ]
  },
  {
   "cell_type": "code",
   "execution_count": 17,
   "id": "f37eec8f",
   "metadata": {
    "scrolled": true
   },
   "outputs": [],
   "source": [
    "#df = df.drop('STAT_CAUSE_DESCR',axis=1)\n"
   ]
  },
  {
   "cell_type": "code",
   "execution_count": 18,
   "id": "62f667cc",
   "metadata": {},
   "outputs": [],
   "source": [
    "df = df.drop('DATE',axis=1)\n"
   ]
  },
  {
   "cell_type": "code",
   "execution_count": 19,
   "id": "0b284075",
   "metadata": {},
   "outputs": [
    {
     "name": "stdout",
     "output_type": "stream",
     "text": [
      "   FIRE_YEAR   LATITUDE   LONGITUDE  STATE  DISCOVERY_DOY  FIRE_SIZE  \\\n",
      "1       2004  38.933056 -120.404444      1            133       0.25   \n",
      "2       2004  38.984167 -120.735556      1            152       0.10   \n",
      "3       2004  38.559167 -119.913333      1            180       0.10   \n",
      "4       2004  38.559167 -119.933056      1            180       0.10   \n",
      "5       2004  38.635278 -120.103611      1            182       0.10   \n",
      "\n",
      "  DISCOVERY_TIME  OWNER_DESCR  MONTH  DAY_OF_WEEK  CONT_TIME  FIPS  LABEL  \n",
      "1           0845           14      5            6        0.0    44      1  \n",
      "2           1921           11      5            1        0.0    23      2  \n",
      "3           1600           14      6            1        5.0    16      1  \n",
      "4           1600           14      6            1        5.0    16      1  \n",
      "5           1800           14      6            6        1.0    17      1  \n"
     ]
    }
   ],
   "source": [
    "df = df.drop('STAT_CAUSE_CODE',axis=1)\n",
    "df_label = df\n",
    "#Putting all the causes into 4 different categories, since there are so many of them. \n",
    "def set_label(cat):\n",
    "    cause = 0\n",
    "    natural = ['Lightning']\n",
    "    human = ['Structure','Fireworks','Powerline','Railroad','Smoking','Children','Campfire','Equipment Use','Debris Burning','Arson']\n",
    "    other = ['Missing/Undefined','Miscellaneous']\n",
    "    if cat in natural:\n",
    "        cause = 1\n",
    "    elif cat in human:\n",
    "        cause = 2\n",
    "    else:\n",
    "        cause = 3\n",
    "    return cause\n",
    "\n",
    "df_label['LABEL'] = df_label['STAT_CAUSE_DESCR'].apply(lambda x: set_label(x)) # I created a copy of the original df earlier in the kernel\n",
    "df_drop_month_3 = df_label.drop('STAT_CAUSE_DESCR',axis=1)\n",
    "print(df_drop_month_3.head())"
   ]
  },
  {
   "cell_type": "code",
   "execution_count": 20,
   "id": "1e3bf7b4",
   "metadata": {},
   "outputs": [],
   "source": [
    "y_label = df_drop_month_3['LABEL'].values\n",
    "X_label = df_drop_month_3.drop(['LABEL'], axis=1).values\n",
    "Xscaled = scale(X_label)\n",
    "X_train_3, X_test_3, y_train_3, y_test_3 = train_test_split(Xscaled,y_label,test_size=0.20, random_state=0)"
   ]
  },
  {
   "cell_type": "markdown",
   "id": "8f50ec74",
   "metadata": {},
   "source": [
    "### KNN Classifier"
   ]
  },
  {
   "cell_type": "code",
   "execution_count": 21,
   "id": "2a809a8f",
   "metadata": {},
   "outputs": [
    {
     "name": "stdout",
     "output_type": "stream",
     "text": [
      "0.8708128235673133\n",
      "0.8388923851478918\n"
     ]
    }
   ],
   "source": [
    "KNC = KNeighborsClassifier(n_neighbors = 7)\n",
    "KNC.fit(X_train_3, y_train_3)\n",
    "print(KNC.score(X_train_3, y_train_3))\n",
    "print(KNC.score(X_test_3, y_test_3))"
   ]
  },
  {
   "cell_type": "markdown",
   "id": "f82bfd5a",
   "metadata": {},
   "source": [
    "### Decision Tree Classifier"
   ]
  },
  {
   "cell_type": "code",
   "execution_count": 22,
   "id": "d881bee3",
   "metadata": {},
   "outputs": [],
   "source": [
    "model = tree.DecisionTreeClassifier(criterion = 'gini', \n",
    "                            max_depth = 200, \n",
    "                            min_samples_split = 100, \n",
    "                            min_samples_leaf = 10)\n",
    "dt = model.fit(X_train_3, y_train_3)"
   ]
  },
  {
   "cell_type": "code",
   "execution_count": 23,
   "id": "23788077",
   "metadata": {},
   "outputs": [
    {
     "name": "stdout",
     "output_type": "stream",
     "text": [
      "Score on training set: 0.871022603822496\n",
      "Score on testing set: 0.8507297192004555\n"
     ]
    }
   ],
   "source": [
    "# Print scores\n",
    "print(f'Score on training set: {dt.score(X_train_3, y_train_3)}')\n",
    "print(f'Score on testing set: {dt.score(X_test_3, y_test_3)}')"
   ]
  },
  {
   "cell_type": "markdown",
   "id": "0754a34b",
   "metadata": {},
   "source": [
    "### RandomForest Classifier"
   ]
  },
  {
   "cell_type": "code",
   "execution_count": 24,
   "id": "105c9bed",
   "metadata": {},
   "outputs": [
    {
     "name": "stdout",
     "output_type": "stream",
     "text": [
      "Score on training set: 0.8684827643043912\n",
      "Score on testing set: 0.8598699391650934\n"
     ]
    }
   ],
   "source": [
    "\n",
    "rf = RandomForestClassifier(n_estimators = 50, \n",
    "                            max_depth = 100, \n",
    "                            min_samples_split = 100, \n",
    "                            min_samples_leaf =40)\n",
    "\n",
    "rf_dt = rf.fit(X_train_3, y_train_3)\n",
    "\n",
    "print(f'Score on training set: {rf_dt.score(X_train_3, y_train_3)}')\n",
    "print(f'Score on testing set: {rf_dt.score(X_test_3, y_test_3)}')"
   ]
  },
  {
   "cell_type": "markdown",
   "id": "413460d9",
   "metadata": {},
   "source": [
    "### Adaboost Classifier"
   ]
  },
  {
   "cell_type": "code",
   "execution_count": 25,
   "id": "ec76185b",
   "metadata": {},
   "outputs": [
    {
     "data": {
      "text/plain": [
       "0.8303027578611405"
      ]
     },
     "execution_count": 25,
     "metadata": {},
     "output_type": "execute_result"
    }
   ],
   "source": [
    "ada = AdaBoostClassifier(base_estimator = tree.DecisionTreeClassifier(max_depth = 2), n_estimators = 30)\n",
    "ada.fit(X_train_3, y_train_3)\n",
    "ada.score(X_train_3, y_train_3)"
   ]
  },
  {
   "cell_type": "code",
   "execution_count": 26,
   "id": "31d633c4",
   "metadata": {},
   "outputs": [
    {
     "name": "stdout",
     "output_type": "stream",
     "text": [
      "Score on training set: 0.8303027578611405\n",
      "Score on testing set: 0.8319697923222152\n"
     ]
    }
   ],
   "source": [
    "print(f'Score on training set: {ada.score(X_train_3, y_train_3)}')\n",
    "print(f'Score on testing set: {ada.score(X_test_3, y_test_3)}')"
   ]
  },
  {
   "cell_type": "markdown",
   "id": "56b4b5ec",
   "metadata": {},
   "source": [
    "### Logistic Regression"
   ]
  },
  {
   "cell_type": "code",
   "execution_count": 33,
   "id": "8b65d890",
   "metadata": {},
   "outputs": [
    {
     "name": "stdout",
     "output_type": "stream",
     "text": [
      "Score on training set: 0.6872775767383665\n",
      "Score on testing set: 0.6865653750486979\n"
     ]
    }
   ],
   "source": [
    "#  logistic regression model\n",
    "lr = LogisticRegression(solver='lbfgs', \n",
    "                           penalty='l2', \n",
    "                           multi_class='multinomial', \n",
    "                           C=.9, \n",
    "                           max_iter=500, \n",
    "                           n_jobs=3)\n",
    "lr_dt = lr.fit(X_train_3, y_train_3)\n",
    "\n",
    "# Print scores\n",
    "print(f'Score on training set: {lr_dt.score(X_train_3, y_train_3)}')\n",
    "print(f'Score on testing set: {lr_dt.score(X_test_3, y_test_3)}')\n"
   ]
  },
  {
   "cell_type": "markdown",
   "id": "c43d3be5",
   "metadata": {},
   "source": [
    "### Decision Tree Regression"
   ]
  },
  {
   "cell_type": "code",
   "execution_count": 38,
   "id": "d25e050c",
   "metadata": {},
   "outputs": [
    {
     "name": "stdout",
     "output_type": "stream",
     "text": [
      "Score on training set: 1.0\n",
      "Score on testing set: 0.31086433060705987\n"
     ]
    }
   ],
   "source": [
    "reg = dtr(random_state = 42)\n",
    "reg_dt = reg.fit(X_train_3, y_train_3)\n",
    "\n",
    "\n",
    "# Print scores\n",
    "print(f'Score on training set: {reg_dt.score(X_train_3, y_train_3)}')\n",
    "print(f'Score on testing set: {reg_dt.score(X_test_3, y_test_3)}')\n",
    "\n",
    "\n",
    "# y_pred = reg.predict(X_test)\n",
    "# print(‘MSE =’, mse(y_pred, y_test))\n",
    "# print(‘MAE =’, mae(y_pred, y_test))\n",
    "# print(‘R2 Score =’, r2_score(y_pred, y_test))"
   ]
  },
  {
   "cell_type": "code",
   "execution_count": null,
   "id": "0821962d",
   "metadata": {},
   "outputs": [],
   "source": []
  }
 ],
 "metadata": {
  "kernelspec": {
   "display_name": "Python 3",
   "language": "python",
   "name": "python3"
  },
  "language_info": {
   "codemirror_mode": {
    "name": "ipython",
    "version": 3
   },
   "file_extension": ".py",
   "mimetype": "text/x-python",
   "name": "python",
   "nbconvert_exporter": "python",
   "pygments_lexer": "ipython3",
   "version": "3.9.1"
  }
 },
 "nbformat": 4,
 "nbformat_minor": 5
}
